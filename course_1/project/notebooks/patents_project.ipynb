{
 "cells": [
  {
   "cell_type": "code",
   "execution_count": 1,
   "metadata": {
    "collapsed": true
   },
   "outputs": [],
   "source": [
    "val sqlContext = new org.apache.spark.sql.SQLContext(sc)"
   ]
  },
  {
   "cell_type": "code",
   "execution_count": 2,
   "metadata": {
    "collapsed": true
   },
   "outputs": [],
   "source": [
    "import sqlContext.implicits._"
   ]
  },
  {
   "cell_type": "code",
   "execution_count": 3,
   "metadata": {
    "collapsed": true
   },
   "outputs": [],
   "source": [
    "import org.apache.spark.sql.types._"
   ]
  },
  {
   "cell_type": "code",
   "execution_count": 4,
   "metadata": {
    "collapsed": true
   },
   "outputs": [],
   "source": [
    "import org.apache.spark.sql.functions._"
   ]
  },
  {
   "cell_type": "code",
   "execution_count": 5,
   "metadata": {
    "collapsed": true
   },
   "outputs": [],
   "source": [
    "val cases_data = spark.read.format(\"csv\").option(\"header\", \"true\").option(\"quote\", \"\\\"\").option(\"escape\", \"\\\"\").option(\"mode\", \"DROPMALFORMED\").option(\"inferSchema\", \"true\").load(\"hdfs://sandbox.hortonworks.com:8020/tmp/cases.csv\")"
   ]
  },
  {
   "cell_type": "code",
   "execution_count": 6,
   "metadata": {
    "collapsed": true
   },
   "outputs": [],
   "source": [
    "val bc_cases_data = sc.broadcast(cases_data)"
   ]
  },
  {
   "cell_type": "code",
   "execution_count": 9,
   "metadata": {},
   "outputs": [
    {
     "data": {
      "text/plain": [
       "Array((case_row_id,IntegerType), (case_number,StringType), (pacer_id,IntegerType), (case_name,StringType), (court_name,StringType), (assigned_to,StringType), (referred_to,StringType), (case_cause,StringType), (jurisdictional_basis,StringType), (demand,StringType), (jury_demand,StringType), (lead_case,StringType), (related_case,StringType), (settlement,StringType), (date_filed,TimestampType), (date_closed,TimestampType), (date_last_filed,TimestampType))"
      ]
     },
     "execution_count": 9,
     "metadata": {},
     "output_type": "execute_result"
    }
   ],
   "source": [
    "cases_data.dtypes"
   ]
  },
  {
   "cell_type": "code",
   "execution_count": 10,
   "metadata": {
    "collapsed": true
   },
   "outputs": [],
   "source": [
    "val docs_data = spark.read.format(\"csv\").option(\"header\", \"true\").option(\"inferSchema\", \"true\").option(\"quote\", \"\\\"\").option(\"escape\", \"\\\"\").load(\"hdfs://sandbox.hortonworks.com:8020/tmp/documents.csv\")"
   ]
  },
  {
   "cell_type": "code",
   "execution_count": 21,
   "metadata": {},
   "outputs": [
    {
     "name": "stdout",
     "output_type": "stream",
     "text": [
      "+--------------------+-----+\n",
      "|           case_name|count|\n",
      "+--------------------+-----+\n",
      "|Turk v. WRR North...|    1|\n",
      "|Raymedica, Inc. v...|    1|\n",
      "|Wilson Tool Intl ...|    1|\n",
      "|CMB Enterprises, ...|    1|\n",
      "|USL Products Inc ...|    1|\n",
      "|Globefill Incorpo...|    1|\n",
      "|AAB Building Syst...|    1|\n",
      "|Aspex Eyewear, In...|    1|\n",
      "|A & A Global v. L...|    1|\n",
      "|RTC Ind Inc v. HM...|    1|\n",
      "|Intellectual Prop...|    1|\n",
      "|Randolph-Rand Cor...|    1|\n",
      "|Gardner Pie Compa...|    1|\n",
      "|In Re: Singer Com...|    1|\n",
      "|VLT Corporation, ...|    1|\n",
      "|Divine Tech Ventu...|    1|\n",
      "|Gillette Company,...|    1|\n",
      "|Eisai Co., Ltd., ...|    1|\n",
      "|Hoefer v. Sony Co...|    1|\n",
      "|Evenflo Company, ...|    1|\n",
      "+--------------------+-----+\n",
      "only showing top 20 rows\n",
      "\n"
     ]
    }
   ],
   "source": [
    "cases_data.groupBy(\"case_name\").count().show()"
   ]
  },
  {
   "cell_type": "code",
   "execution_count": 11,
   "metadata": {},
   "outputs": [
    {
     "data": {
      "text/plain": [
       "Array((case_row_id,IntegerType), (case_number,StringType), (doc_count,IntegerType), (attachment,IntegerType), (date_filed,TimestampType), (long_description,StringType), (doc_number,StringType), (short_description,StringType), (upload_date,TimestampType))"
      ]
     },
     "execution_count": 11,
     "metadata": {},
     "output_type": "execute_result"
    }
   ],
   "source": [
    "docs_data.dtypes"
   ]
  },
  {
   "cell_type": "code",
   "execution_count": 12,
   "metadata": {},
   "outputs": [
    {
     "data": {
      "text/plain": [
       "5186344"
      ]
     },
     "execution_count": 12,
     "metadata": {},
     "output_type": "execute_result"
    }
   ],
   "source": [
    "docs_data.count()"
   ]
  },
  {
   "cell_type": "code",
   "execution_count": 13,
   "metadata": {
    "collapsed": true
   },
   "outputs": [],
   "source": [
    "val names_data = spark.read.format(\"csv\").option(\"header\", \"true\").option(\"inferSchema\", \"true\").option(\"quote\", \"\\\"\").option(\"escape\", \"\\\"\").load(\"hdfs://sandbox.hortonworks.com:8020/tmp/names.csv\")"
   ]
  },
  {
   "cell_type": "code",
   "execution_count": 14,
   "metadata": {},
   "outputs": [
    {
     "data": {
      "text/plain": [
       "Array((case_row_id,IntegerType), (case_number,StringType), (party_row_count,IntegerType), (party_type,StringType), (name_row_count,IntegerType), (name,StringType))"
      ]
     },
     "execution_count": 14,
     "metadata": {},
     "output_type": "execute_result"
    }
   ],
   "source": [
    "names_data.dtypes"
   ]
  },
  {
   "cell_type": "code",
   "execution_count": 22,
   "metadata": {},
   "outputs": [
    {
     "data": {
      "text/plain": [
       "Array([1,0:79-cv-06704-JCP,1,Plaintiff,1,Burroghs Wellcome Co.], [1,0:79-cv-06704-JCP,2,Defendant,2,Generix Drug Corp.], [3,0:83-cv-06860-JAG,3,Plaintiff,3,Kenneth R. Cornwall], [3,0:83-cv-06860-JAG,4,Defendant,4,U. S. COnstruction Manufacturing, Inc.], [4,0:84-cv-06456-KLR,5,Plaintiff,5,Monte Carlo Hairpieces, Inc.])"
      ]
     },
     "execution_count": 22,
     "metadata": {},
     "output_type": "execute_result"
    }
   ],
   "source": [
    "names_data.take(5)"
   ]
  },
  {
   "cell_type": "code",
   "execution_count": 29,
   "metadata": {},
   "outputs": [
    {
     "name": "stdout",
     "output_type": "stream",
     "text": [
      "+-----------+-----------------+---------------+----------+--------------+--------------------+\n",
      "|case_row_id|      case_number|party_row_count|party_type|name_row_count|                name|\n",
      "+-----------+-----------------+---------------+----------+--------------+--------------------+\n",
      "|          1|0:79-cv-06704-JCP|              2| Defendant|             2|  Generix Drug Corp.|\n",
      "|          3|0:83-cv-06860-JAG|              4| Defendant|             4|U. S. COnstructio...|\n",
      "|          4|0:84-cv-06456-KLR|              7| Defendant|             7|On-Rite Hairpiece...|\n",
      "|          4|0:84-cv-06456-KLR|              8| Defendant|             8|    Andrew O. Wright|\n",
      "|          5|0:84-cv-06726-WMH|             11| Defendant|            11|Atlantic Federal ...|\n",
      "|          5|0:84-cv-06726-WMH|             12| Defendant|            12|Ozark Financial, ...|\n",
      "|          5|0:84-cv-06726-WMH|             13| Defendant|            13|Government Employ...|\n",
      "|          5|0:84-cv-06726-WMH|             14| Defendant|            14|Commerce Clearing Ho|\n",
      "|          5|0:84-cv-06726-WMH|             15| Defendant|            15|       G.F. Robinson|\n",
      "|          5|0:84-cv-06726-WMH|             16| Defendant|            16|         L.A. Cancro|\n",
      "|          5|0:84-cv-06726-WMH|             17| Defendant|            17|     R.L. Tuttle Jr.|\n",
      "|          6|0:85-cv-06225-TES|             20| Defendant|            20|          Sid Malkin|\n",
      "|          6|0:85-cv-06225-TES|             21| Defendant|            21|       Morton Malkin|\n",
      "|          6|0:85-cv-06225-TES|             22| Defendant|            22|True Fit Chair Of...|\n",
      "|          7|0:85-cv-06368-JCP|             24| Defendant|            24|         S.S.R. Corp|\n",
      "|          7|0:85-cv-06368-JCP|             25| Defendant|            25|Cry Chem Internat...|\n",
      "|          7|0:85-cv-06368-JCP|             26| Defendant|            26|Ncnb Natl Bank Of Fl|\n",
      "|          7|0:85-cv-06368-JCP|             27| Defendant|            27|Petrarch Systems,...|\n",
      "|          8|0:85-cv-06452-WJZ|             29| Defendant|            29|Wang Laboratories...|\n",
      "|          9|0:85-cv-06607-JAG|             31| Defendant|            31|       Shelfco, Inc.|\n",
      "+-----------+-----------------+---------------+----------+--------------+--------------------+\n",
      "only showing top 20 rows\n",
      "\n"
     ]
    }
   ],
   "source": [
    "val defendants = names_data.filter(\"party_type=='Defendant'\").show()"
   ]
  },
  {
   "cell_type": "code",
   "execution_count": 28,
   "metadata": {},
   "outputs": [
    {
     "name": "stdout",
     "output_type": "stream",
     "text": [
      "+-----------+-----------------+---------------+----------+--------------+--------------------+\n",
      "|case_row_id|      case_number|party_row_count|party_type|name_row_count|                name|\n",
      "+-----------+-----------------+---------------+----------+--------------+--------------------+\n",
      "|          1|0:79-cv-06704-JCP|              1| Plaintiff|             1|Burroghs Wellcome...|\n",
      "|          3|0:83-cv-06860-JAG|              3| Plaintiff|             3| Kenneth R. Cornwall|\n",
      "|          4|0:84-cv-06456-KLR|              5| Plaintiff|             5|Monte Carlo Hairp...|\n",
      "|          4|0:84-cv-06456-KLR|              6| Plaintiff|             6|     James L. Waters|\n",
      "|          5|0:84-cv-06726-WMH|              9| Plaintiff|             9|Monaco Del, Rocco...|\n",
      "|          5|0:84-cv-06726-WMH|             10| Plaintiff|            10|  Frances Monaco Del|\n",
      "|          6|0:85-cv-06225-TES|             18| Plaintiff|            18|Contour Chair Lou...|\n",
      "|          6|0:85-cv-06225-TES|             19| Plaintiff|            19|Craftmatic/Contou...|\n",
      "|          7|0:85-cv-06368-JCP|             23| Plaintiff|            23|  Virgil A. Gladieux|\n",
      "|          8|0:85-cv-06452-WJZ|             28| Plaintiff|            28|Elk Industries, Inc.|\n",
      "|          9|0:85-cv-06607-JAG|             30| Plaintiff|            30|Clairson Internat...|\n",
      "|         10|0:86-cv-06181-JWK|             32| Plaintiff|            32|Power-Flo Product...|\n",
      "|         11|0:86-cv-06459-KLR|             34| Plaintiff|            34|Horiba Instrument...|\n",
      "|         12|0:86-cv-06713-SMA|             36| Plaintiff|            36|          Mima, Inc.|\n",
      "|         13|0:86-cv-06721-JAG|             38| Plaintiff|            38|   Donald L. Wollard|\n",
      "|         14|0:92-cv-00398-MJP|             40| Plaintiff|            40|     Ad-Teck Limited|\n",
      "|         14|0:92-cv-00398-MJP|             41| Plaintiff|            41|       Peter Philipp|\n",
      "|         14|0:92-cv-00398-MJP|             42| Plaintiff|            42|      Larry Brittain|\n",
      "|         14|0:92-cv-00398-MJP|             43| Plaintiff|            43| Robert M Spargo, Sr|\n",
      "|         14|0:92-cv-00398-MJP|             43| Plaintiff|            44|Robert M. Spargo,...|\n",
      "+-----------+-----------------+---------------+----------+--------------+--------------------+\n",
      "only showing top 20 rows\n",
      "\n"
     ]
    }
   ],
   "source": [
    "val plaintiffs = names_data.filter(\"party_type=='Plaintiff'\").show()"
   ]
  },
  {
   "cell_type": "code",
   "execution_count": 10,
   "metadata": {
    "collapsed": true
   },
   "outputs": [],
   "source": [
    "//val doc_dates = docs_data.groupBy(\"date_filed\").agg(count(\"*\") as \"date_counts\").orderBy($\"date_counts\" desc)"
   ]
  },
  {
   "cell_type": "code",
   "execution_count": 11,
   "metadata": {
    "scrolled": true
   },
   "outputs": [
    {
     "name": "stdout",
     "output_type": "stream",
     "text": [
      "+--------------------+-----------+\n",
      "|          date_filed|date_counts|\n",
      "+--------------------+-----------+\n",
      "|                null|      47319|\n",
      "|2015-11-30 00:00:...|       2568|\n",
      "|2012-12-21 00:00:...|       2402|\n",
      "|2013-12-20 00:00:...|       2129|\n",
      "|2014-11-24 00:00:...|       2011|\n",
      "|2013-01-15 00:00:...|       2001|\n",
      "|2014-03-31 00:00:...|       1998|\n",
      "|2013-11-22 00:00:...|       1997|\n",
      "|2012-09-28 00:00:...|       1990|\n",
      "|2013-02-19 00:00:...|       1975|\n",
      "|2014-01-06 00:00:...|       1961|\n",
      "|2014-01-17 00:00:...|       1947|\n",
      "|2013-02-15 00:00:...|       1943|\n",
      "|2011-10-11 00:00:...|       1920|\n",
      "|2011-11-14 00:00:...|       1916|\n",
      "|2012-09-10 00:00:...|       1915|\n",
      "|2013-02-01 00:00:...|       1906|\n",
      "|2014-01-27 00:00:...|       1906|\n",
      "|2013-12-09 00:00:...|       1906|\n",
      "|2011-10-21 00:00:...|       1905|\n",
      "+--------------------+-----------+\n",
      "only showing top 20 rows\n",
      "\n"
     ]
    }
   ],
   "source": [
    "//doc_dates.show()"
   ]
  },
  {
   "cell_type": "code",
   "execution_count": 12,
   "metadata": {
    "collapsed": true
   },
   "outputs": [],
   "source": [
    "val sh_desc = docs_data.groupBy(\"short_description\").agg(count(\"*\") as \"short_count\").orderBy($\"short_count\" desc)"
   ]
  },
  {
   "cell_type": "code",
   "execution_count": 13,
   "metadata": {},
   "outputs": [
    {
     "name": "stdout",
     "output_type": "stream",
     "text": [
      "+--------------------+-----------+\n",
      "|   short_description|short_count|\n",
      "+--------------------+-----------+\n",
      "|                null|    4834609|\n",
      "|               Order|      18478|\n",
      "|      Notice (Other)|      12050|\n",
      "|              Letter|      11710|\n",
      "|Certificate of Se...|       9619|\n",
      "|Notice to Take De...|       5589|\n",
      "|         Stipulation|       5346|\n",
      "|Notice of Attorne...|       5248|\n",
      "|          Transcript|       5232|\n",
      "|   Notice of Service|       5167|\n",
      "|         Declaration|       4939|\n",
      "|Motion for Leave ...|       4123|\n",
      "|Notice of Appearance|       3820|\n",
      "| Answer to Complaint|       3517|\n",
      "|Declaration in Su...|       3381|\n",
      "|Application to Ap...|       3234|\n",
      "|Reply to Response...|       3222|\n",
      "|Motion for Miscel...|       3199|\n",
      "|Summons Returned ...|       3196|\n",
      "|Answer to Counter...|       3167|\n",
      "+--------------------+-----------+\n",
      "only showing top 20 rows\n",
      "\n"
     ]
    }
   ],
   "source": [
    "sh_desc.show()"
   ]
  },
  {
   "cell_type": "code",
   "execution_count": 14,
   "metadata": {},
   "outputs": [
    {
     "name": "stdout",
     "output_type": "stream",
     "text": [
      "+--------------------+\n",
      "|    long_description|\n",
      "+--------------------+\n",
      "|COPY OF PAPER DOC...|\n",
      "|CASE CLOSED. Case...|\n",
      "|COPY OF PAPER DOC...|\n",
      "|Case closed (Form...|\n",
      "|Case reopened (Fo...|\n",
      "|Case closed (Form...|\n",
      "|FINAL JUDGMENT fo...|\n",
      "|COPY OF PAPER DOC...|\n",
      "|COPY OF PAPER DOC...|\n",
      "|D.E. #1 should be...|\n",
      "|Case closed (cp, ...|\n",
      "|ORDER DISMISSING ...|\n",
      "|COPY OF PAPER DOC...|\n",
      "|COPY OF PAPER DOC...|\n",
      "|COPY OF PAPER DOC...|\n",
      "|COPY OF PAPER DOC...|\n",
      "|COPY OF PAPER DOC...|\n",
      "|Case closed (Form...|\n",
      "|COPY OF PAPER DOC...|\n",
      "|COPY OF PAPER DOC...|\n",
      "+--------------------+\n",
      "only showing top 20 rows\n",
      "\n"
     ]
    }
   ],
   "source": [
    "docs_data.filter($\"long_description\".isNotNull).select(\"long_description\").show()"
   ]
  },
  {
   "cell_type": "code",
   "execution_count": 15,
   "metadata": {
    "collapsed": true
   },
   "outputs": [],
   "source": [
    "//val long_counts = docs_data.filter($\"long_description\".isNotNull).groupBy(\"long_description\").agg(count(\"*\") as \"long_count\").orderBy($\"long_count\" desc)"
   ]
  },
  {
   "cell_type": "code",
   "execution_count": 16,
   "metadata": {},
   "outputs": [
    {
     "name": "stdout",
     "output_type": "stream",
     "text": [
      "\r",
      "                                                                                \r",
      "+--------------------+----------+\n",
      "|    long_description|long_count|\n",
      "+--------------------+----------+\n",
      "|Case assigned to ...|       110|\n",
      "|In accordance wit...|       103|\n",
      "|Order reassigning...|       103|\n",
      "|ORDER REGARDING T...|       101|\n",
      "|ORDER; Status Con...|        97|\n",
      "|Report to Commiss...|        91|\n",
      "|NOTICE by TLI Com...|        90|\n",
      "|NOTICE of Attorne...|        87|\n",
      "|NOTICE of Attorne...|        86|\n",
      "|Notice of Filing ...|        86|\n",
      "|MEMORANDUM OPINIO...|        86|\n",
      "|CORPORATE DISCLOS...|        86|\n",
      "|Case reassigned t...|        84|\n",
      "|ORDER OF CONSOLID...|        81|\n",
      "|Order reassigning...|        77|\n",
      "|In accordance wit...|        76|\n",
      "|In accordance wit...|        75|\n",
      "|Case assigned to ...|        74|\n",
      "|ORDER REASSIGNING...|        74|\n",
      "|Sealed Document. ...|        74|\n",
      "+--------------------+----------+\n",
      "only showing top 20 rows\n",
      "\n"
     ]
    }
   ],
   "source": [
    "//long_counts.show()"
   ]
  },
  {
   "cell_type": "code",
   "execution_count": 19,
   "metadata": {
    "collapsed": true
   },
   "outputs": [],
   "source": [
    "//val upload_dates = docs_data.groupBy(\"upload_date\").count()"
   ]
  },
  {
   "cell_type": "code",
   "execution_count": 20,
   "metadata": {},
   "outputs": [
    {
     "name": "stdout",
     "output_type": "stream",
     "text": [
      "+--------------------+-----+\n",
      "|         upload_date|count|\n",
      "+--------------------+-----+\n",
      "|2010-11-02 00:00:...|    9|\n",
      "|2012-07-11 00:00:...|   24|\n",
      "|2010-04-19 00:00:...|   28|\n",
      "|2011-05-25 00:00:...|   13|\n",
      "|2015-07-14 00:00:...|    8|\n",
      "|2013-10-31 00:00:...|   23|\n",
      "|2010-10-22 00:00:...|    5|\n",
      "|2010-03-25 00:00:...|    9|\n",
      "|2011-10-10 00:00:...|    7|\n",
      "|2012-10-20 00:00:...|    8|\n",
      "|2014-08-04 00:00:...|   19|\n",
      "|2015-04-26 00:00:...|   17|\n",
      "|2007-10-01 00:00:...|   12|\n",
      "|2009-06-10 00:00:...|    4|\n",
      "|2007-07-24 00:00:...|    1|\n",
      "|2010-05-03 00:00:...|   13|\n",
      "|2009-10-15 00:00:...|   14|\n",
      "|2012-01-22 00:00:...|    4|\n",
      "|2010-06-26 00:00:...|    1|\n",
      "|2012-12-17 00:00:...|    7|\n",
      "+--------------------+-----+\n",
      "only showing top 20 rows\n",
      "\n"
     ]
    }
   ],
   "source": [
    "//upload_dates.show()"
   ]
  },
  {
   "cell_type": "code",
   "execution_count": null,
   "metadata": {
    "collapsed": true
   },
   "outputs": [],
   "source": [
    "//val long_desc = docs_data.filter($\"long_description\".isNotNull).select(\"long_description\").rdd.map(x=>x(0)).collect()"
   ]
  },
  {
   "cell_type": "code",
   "execution_count": null,
   "metadata": {
    "collapsed": true
   },
   "outputs": [],
   "source": []
  }
 ],
 "metadata": {
  "kernelspec": {
   "display_name": "Apache Toree - Scala",
   "language": "scala",
   "name": "apache_toree_scala"
  },
  "language_info": {
   "file_extension": ".scala",
   "name": "scala",
   "version": "2.11.8"
  }
 },
 "nbformat": 4,
 "nbformat_minor": 2
}
