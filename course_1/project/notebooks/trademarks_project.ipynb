{
 "cells": [
  {
   "cell_type": "markdown",
   "metadata": {},
   "source": [
    "# Trademark Case Files Dataset\n",
    "\n",
    "This dataset is found at https://www.uspto.gov/learning-and-resources/electronic-data-products/trademark-case-files-dataset-0.\n",
    "\n",
    "The Trademark Case Files Dataset contains detailed information on 8.6 million trademark applications filed with or registrations issued by the USPTO between January 1870 and January 2017. It is derived from the USPTO main database for administering trademarks and includes data on mark characteristics, prosecution events, ownership, classification, third-party oppositions, and renewal history.\n",
    "\n",
    "Full schema can be found at: https://www.uspto.gov/sites/default/files/documents/casefiles_schema_high_level_2016update.pdf\n",
    "\n",
    "Data dictionary found at: https://www.uspto.gov/sites/default/files/documents/vartable_2016.pdf\n",
    "\n",
    "For this analysis we'll only use the Case files and events table for exploring some details on existing and past trademark applications and registrations and their history of administrative actions taken from beginning to end.\n",
    "\n",
    "More details on the full dataset can be found in this publication from the US Patent and Trademark office: http://papers.ssrn.com/sol3/papers.cfm?abstract_id=2188621"
   ]
  },
  {
   "cell_type": "markdown",
   "metadata": {},
   "source": [
    "### Load our packages"
   ]
  },
  {
   "cell_type": "code",
   "execution_count": 1,
   "metadata": {
    "collapsed": true
   },
   "outputs": [],
   "source": [
    "val sqlContext = new org.apache.spark.sql.SQLContext(sc)"
   ]
  },
  {
   "cell_type": "code",
   "execution_count": 2,
   "metadata": {
    "collapsed": true
   },
   "outputs": [],
   "source": [
    "import sqlContext.implicits._"
   ]
  },
  {
   "cell_type": "code",
   "execution_count": 3,
   "metadata": {
    "collapsed": true
   },
   "outputs": [],
   "source": [
    "import org.apache.spark.sql.types._"
   ]
  },
  {
   "cell_type": "code",
   "execution_count": 4,
   "metadata": {
    "collapsed": true
   },
   "outputs": [],
   "source": [
    "import org.apache.spark.sql.functions._"
   ]
  },
  {
   "cell_type": "markdown",
   "metadata": {},
   "source": [
    "### Load our data\n",
    "#### Case files data: \n",
    "Table which describe the current status of all trademark applications from 1870 - 2017 as of the time of the last data update (January 2017). "
   ]
  },
  {
   "cell_type": "code",
   "execution_count": 5,
   "metadata": {
    "collapsed": true
   },
   "outputs": [],
   "source": [
    "val case_files_raw = spark.read.format(\"csv\").option(\"header\", \"true\").option(\"quote\", \"\\\"\").option(\"escape\", \"\\\"\").option(\"mode\", \"DROPMALFORMED\").option(\"inferSchema\", \"true\").load(\"hdfs://sandbox.hortonworks.com:8020/tmp/case_file.csv\")"
   ]
  },
  {
   "cell_type": "markdown",
   "metadata": {},
   "source": [
    "The case files data is quite large (over 8,000,000 records) and wide (79) variables. Let's just grab the columns we're interested in after reviewing the data schema here (https://www.uspto.gov/sites/default/files/documents/vartable_2016.pdf)"
   ]
  },
  {
   "cell_type": "code",
   "execution_count": 6,
   "metadata": {
    "collapsed": true
   },
   "outputs": [],
   "source": [
    "val case_files_cols = Seq(\"serial_no\",\n",
    "\"abandon_dt\",\n",
    "\"amend_reg_dt\",\n",
    "\"reg_cancel_cd\",\n",
    "\"reg_cancel_dt\",\n",
    "\"cancel_pend_in\",\n",
    "\"cert_mark_in\",\n",
    "\"chg_reg_in\",\n",
    "\"coll_memb_mark_in\",\n",
    "\"coll_serv_mark_in\",\n",
    "\"coll_trade_mark_in\",\n",
    "\"serv_mark_in\",\n",
    "\"draw_color_cur_in\",\n",
    "\"draw_color_file_in\",\n",
    "\"concur_use_in\",\n",
    "\"concur_use_pend_in\",\n",
    "\"filing_dt\",\n",
    "\"for_priority_in\",\n",
    "\"lb_itu_cur_in\",\n",
    "\"lb_itu_file_in\",\n",
    "\"interfer_pend_in\",\n",
    "\"exm_office_cd\",\n",
    "\"file_location_dt\",\n",
    "\"mark_draw_cd\",\n",
    "\"mark_id_char\",\n",
    "\"opposit_pend_in\",\n",
    "\"amend_principal_in\",\n",
    "\"concur_use_pub_in\",\n",
    "\"publication_dt\",\n",
    "\"registration_dt\",\n",
    "\"renewal_dt\",\n",
    "\"renewal_file_in\",\n",
    "\"cfh_status_cd\",\n",
    "\"cfh_status_dt\",\n",
    "\"trade_mark_in\",\n",
    "\"registration_no\")"
   ]
  },
  {
   "cell_type": "code",
   "execution_count": 7,
   "metadata": {
    "collapsed": true
   },
   "outputs": [],
   "source": [
    "val case_files_lite = case_files_raw.select(case_files_cols.head, case_files_cols.tail: _*)"
   ]
  },
  {
   "cell_type": "markdown",
   "metadata": {},
   "source": [
    "Next, since this covers such wide range of time (almost 150 years of trademark registrations!), we want to look at trends over the years. We'll create year columns for all of the date columns since we'll access them a lot and don't want to regularly have to compute on the fly from the date columns. \n",
    "\n",
    "And while we are preparing some of the variables for easier analysis later, let's put the indicator for what type of trademark each case is (service, certification, or trademark) into one column since in the original dataset, it is spread across multiple columns with a boolean value in each column."
   ]
  },
  {
   "cell_type": "code",
   "execution_count": 8,
   "metadata": {
    "collapsed": true
   },
   "outputs": [],
   "source": [
    "val case_files_lite_years_types = case_files_lite.\n",
    "                            withColumn(\"filing_yr\",year(case_files_lite(\"filing_dt\"))).\n",
    "                            withColumn(\"abandon_yr\",year(case_files_lite(\"abandon_dt\"))).\n",
    "                            withColumn(\"publication_yr\",year(case_files_lite(\"publication_dt\"))).\n",
    "                            withColumn(\"registration_yr\",year(case_files_lite(\"registration_dt\"))).\n",
    "                            withColumn(\"cfh_status_yr\",year(case_files_lite(\"cfh_status_dt\"))).\n",
    "                            withColumn(\"renewal_yr\",year(case_files_lite(\"renewal_dt\"))).\n",
    "                            withColumn(\"reg_cancel_yr\",year(case_files_lite(\"reg_cancel_dt\"))).\n",
    "                            withColumn(\"mark_type\", when($\"cert_mark_in\" === 1, \"certification\").\n",
    "                                                    when($\"serv_mark_in\" === 1, \"service\").\n",
    "                                                    when($\"trade_mark_in\" === 1, \"trademark\").\n",
    "                                                    otherwise(\"collective\"))"
   ]
  },
  {
   "cell_type": "code",
   "execution_count": 12,
   "metadata": {},
   "outputs": [
    {
     "data": {
      "text/plain": [
       "4715072"
      ]
     },
     "execution_count": 12,
     "metadata": {},
     "output_type": "execute_result"
    }
   ],
   "source": [
    "case_files_lite_years_types.filter($\"mark_type\"===\"trademark\").count()"
   ]
  },
  {
   "cell_type": "markdown",
   "metadata": {},
   "source": [
    "And let's then write out the derivative to a parquet file so we don't need to do this everytime"
   ]
  },
  {
   "cell_type": "code",
   "execution_count": 13,
   "metadata": {
    "collapsed": true
   },
   "outputs": [],
   "source": [
    "case_files_lite_years_types.write.parquet(\"hdfs://sandbox.hortonworks.com:8020/tmp/case_files_processed.parquet\")"
   ]
  },
  {
   "cell_type": "markdown",
   "metadata": {},
   "source": [
    "Then let's load it back in for faster traversal of the case files data"
   ]
  },
  {
   "cell_type": "code",
   "execution_count": 5,
   "metadata": {
    "collapsed": true
   },
   "outputs": [],
   "source": [
    "val case_files = sqlContext.read.parquet(\"hdfs://sandbox.hortonworks.com:8020/tmp/case_files_processed.parquet\")"
   ]
  },
  {
   "cell_type": "markdown",
   "metadata": {},
   "source": [
    "#### Events data:\n",
    "Table which describes the event history of each trademark application from initiation through registration (or denial) and includes renewals, abandonments, and expiration."
   ]
  },
  {
   "cell_type": "code",
   "execution_count": 14,
   "metadata": {
    "collapsed": true
   },
   "outputs": [],
   "source": [
    "val events_raw = spark.read.format(\"csv\").option(\"header\", \"true\").option(\"quote\", \"\\\"\").option(\"escape\", \"\\\"\").option(\"mode\", \"DROPMALFORMED\").option(\"inferSchema\", \"true\").load(\"hdfs://sandbox.hortonworks.com:8020/tmp/event.csv\")"
   ]
  },
  {
   "cell_type": "code",
   "execution_count": 7,
   "metadata": {},
   "outputs": [
    {
     "data": {
      "text/plain": [
       "Array(event_cd, event_dt, event_seq, event_type_cd, serial_no)"
      ]
     },
     "execution_count": 7,
     "metadata": {},
     "output_type": "execute_result"
    }
   ],
   "source": [
    "events_raw.columns"
   ]
  },
  {
   "cell_type": "markdown",
   "metadata": {},
   "source": [
    "### Question 1: Trends in types of  trademarks (service mark, trademark, certification mark, or collective mark)\n",
    "- Ref: https://www.bitlaw.com/source/tmep/1306_01.html\n",
    "- Check mark type for trends in service mark registrations like the dotcom boom\n",
    "- Can we see an increase in trademark applications in general like the 1990s dotcom boom"
   ]
  },
  {
   "cell_type": "code",
   "execution_count": 8,
   "metadata": {
    "collapsed": true
   },
   "outputs": [],
   "source": [
    "val service_marks = case_files.filter($\"serv_mark_in\" === 1)"
   ]
  },
  {
   "cell_type": "code",
   "execution_count": 9,
   "metadata": {},
   "outputs": [
    {
     "data": {
      "text/plain": [
       "2892932"
      ]
     },
     "execution_count": 9,
     "metadata": {},
     "output_type": "execute_result"
    }
   ],
   "source": [
    "service_marks.count() //this is about a third of the total observations, as mentioned in the publication"
   ]
  },
  {
   "cell_type": "code",
   "execution_count": 10,
   "metadata": {
    "collapsed": true
   },
   "outputs": [],
   "source": [
    "val certification_marks = case_files.filter($\"cert_mark_in\" === 1)"
   ]
  },
  {
   "cell_type": "code",
   "execution_count": 11,
   "metadata": {},
   "outputs": [
    {
     "data": {
      "text/plain": [
       "11893"
      ]
     },
     "execution_count": 11,
     "metadata": {},
     "output_type": "execute_result"
    }
   ],
   "source": [
    "certification_marks.count()"
   ]
  },
  {
   "cell_type": "code",
   "execution_count": 12,
   "metadata": {
    "collapsed": true
   },
   "outputs": [],
   "source": [
    "val trademarks = case_files.filter($\"trade_mark_in\" === 1)"
   ]
  },
  {
   "cell_type": "code",
   "execution_count": 13,
   "metadata": {},
   "outputs": [
    {
     "data": {
      "text/plain": [
       "5154980"
      ]
     },
     "execution_count": 13,
     "metadata": {},
     "output_type": "execute_result"
    }
   ],
   "source": [
    "trademarks.count()"
   ]
  },
  {
   "cell_type": "code",
   "execution_count": 14,
   "metadata": {
    "collapsed": true
   },
   "outputs": [],
   "source": [
    "val service_counts = service_marks.filter($\"filing_yr\".isNotNull).groupBy(\"filing_yr\").agg(count(\"*\") as \"serv_count\").na.fill(0, Seq(\"serv_count\")).orderBy($\"filing_yr\" asc)"
   ]
  },
  {
   "cell_type": "code",
   "execution_count": 15,
   "metadata": {
    "collapsed": true
   },
   "outputs": [],
   "source": [
    "val certification_counts = certification_marks.filter($\"filing_yr\".isNotNull).groupBy(\"filing_yr\").agg(count(\"*\") as \"cert_count\").na.fill(0, Seq(\"cert_count\")).orderBy($\"filing_yr\" asc)"
   ]
  },
  {
   "cell_type": "code",
   "execution_count": 16,
   "metadata": {
    "collapsed": true
   },
   "outputs": [],
   "source": [
    "val trademark_counts = trademarks.filter($\"filing_yr\".isNotNull).groupBy(\"filing_yr\").agg(count(\"*\") as \"trade_count\").na.fill(0, Seq(\"trade_count\")).orderBy($\"filing_yr\" asc)"
   ]
  },
  {
   "cell_type": "code",
   "execution_count": 17,
   "metadata": {
    "collapsed": true
   },
   "outputs": [],
   "source": [
    "val mark_type_counts_by_year = service_counts.join(certification_counts, Seq(\"filing_yr\"), \"left_outer\").join(trademark_counts, Seq(\"filing_yr\"), \"left_outer\")"
   ]
  },
  {
   "cell_type": "code",
   "execution_count": 18,
   "metadata": {
    "scrolled": false
   },
   "outputs": [
    {
     "name": "stdout",
     "output_type": "stream",
     "text": [
      "+---------+----------+----------+-----------+\n",
      "|filing_yr|serv_count|cert_count|trade_count|\n",
      "+---------+----------+----------+-----------+\n",
      "|     1899|         1|         0|         46|\n",
      "|     1911|         1|         0|        261|\n",
      "|     1915|         1|         0|        278|\n",
      "|     1931|         3|         0|       1023|\n",
      "|     1932|         3|         0|        856|\n",
      "|     1933|         1|         0|        975|\n",
      "|     1934|         1|         0|       1141|\n",
      "|     1935|         1|         0|       1034|\n",
      "|     1937|         1|         0|        922|\n",
      "|     1938|         2|         0|        928|\n",
      "|     1939|         3|         1|        879|\n",
      "|     1944|         1|         0|       1687|\n",
      "|     1946|         4|         3|       2594|\n",
      "|     1947|       170|         6|       6915|\n",
      "|     1948|       142|         5|       5301|\n",
      "|     1949|        87|         5|       3731|\n",
      "|     1950|        86|         3|       3542|\n",
      "|     1951|        82|         0|       3088|\n",
      "|     1952|       115|         6|       3474|\n",
      "|     1953|       140|        14|       3859|\n",
      "|     1954|       136|         7|       4551|\n",
      "|     1955|       145|         7|       4757|\n",
      "|     1956|       142|         5|       4865|\n",
      "|     1957|       143|         5|       4727|\n",
      "|     1958|       160|         6|       4822|\n",
      "|     1959|       221|        10|       5272|\n",
      "|     1960|       311|         9|       6303|\n",
      "|     1961|       582|        12|      11004|\n",
      "|     1962|       639|        27|      12545|\n",
      "|     1963|       550|        20|      12017|\n",
      "|     1964|       719|        25|      12340|\n",
      "|     1965|       864|        24|      12427|\n",
      "|     1966|      1025|        20|      12013|\n",
      "|     1967|      1146|        12|      11654|\n",
      "|     1968|      1444|        20|      11874|\n",
      "|     1969|      1916|        19|      12265|\n",
      "|     1970|      1875|        20|      12004|\n",
      "|     1971|      1754|         8|      11475|\n",
      "|     1972|      2048|        21|      12002|\n",
      "|     1973|      2131|        18|      11589|\n",
      "|     1974|      2278|        15|      11603|\n",
      "|     1975|      3329|        41|      15243|\n",
      "|     1976|      4970|        38|      22785|\n",
      "|     1977|      5882|        25|      25892|\n",
      "|     1978|      6575|        38|      25634|\n",
      "|     1979|      6965|        39|      25041|\n",
      "|     1980|      8125|        35|      27578|\n",
      "|     1981|     11402|        64|      36105|\n",
      "|     1982|     15122|        73|      46832|\n",
      "|     1983|     12519|        45|      39406|\n",
      "|     1984|     14012|        65|      43281|\n",
      "|     1985|     15439|        57|      45126|\n",
      "|     1986|     15793|        79|      46956|\n",
      "|     1987|     17460|        57|      49154|\n",
      "|     1988|     18293|        83|      51383|\n",
      "|     1989|     22557|        76|      61599|\n",
      "|     1990|     28798|       124|      84416|\n",
      "|     1991|     28360|       184|      80686|\n",
      "|     1992|     29175|       127|      83433|\n",
      "|     1993|     35953|       200|      97365|\n",
      "|     1994|     40625|       185|     101196|\n",
      "|     1995|     49132|       182|     112454|\n",
      "|     1996|     62051|       243|     123518|\n",
      "|     1997|     67096|       238|     131831|\n",
      "|     1998|     73525|       246|     134854|\n",
      "|     1999|    119649|       338|     159170|\n",
      "|     2000|    143179|       289|     163716|\n",
      "|     2001|     88601|       270|     143881|\n",
      "|     2002|     81917|       380|     143899|\n",
      "|     2003|     84362|       470|     152114|\n",
      "|     2004|     96163|       483|     168715|\n",
      "|     2005|    106970|       446|     175436|\n",
      "|     2006|    119890|       623|     178876|\n",
      "|     2007|    135395|       690|     191354|\n",
      "|     2008|    129693|       745|     183372|\n",
      "|     2009|    116888|       685|     168994|\n",
      "|     2010|    123036|       526|     180170|\n",
      "|     2011|    137637|       552|     192058|\n",
      "|     2012|    141078|       561|     199255|\n",
      "|     2013|    143874|       475|     209645|\n",
      "|     2014|    153292|       446|     221682|\n",
      "|     2015|    167068|       453|     244961|\n",
      "|     2016|    165878|       381|     258692|\n",
      "|     2017|     17895|        37|      28693|\n",
      "+---------+----------+----------+-----------+\n",
      "\n"
     ]
    }
   ],
   "source": [
    "mark_type_counts_by_year.orderBy($\"filing_yr\" asc).na.fill(0, Seq(\"cert_count\")).show(150)"
   ]
  },
  {
   "cell_type": "markdown",
   "metadata": {},
   "source": [
    "Pretty interesting. The original authors noticed a spike in service marks leading up to the dotcom boom with a noticeable drop off in 2001 thorugh 2004. Since 2005, we're seeing service marks steadily rise again, only dipping perhaps trivially after the economic crash of Oct 2008, only to steadily rise to historic highs in 2015 and 2016.\n",
    "\n",
    "Compared to service marks, it's interesting to note that trademarks don't seem to have as noticeble interruption in numbers year over year, except for a slight drop in 2009, which again we might hypothesize was a result of the 2008 crash"
   ]
  },
  {
   "cell_type": "code",
   "execution_count": null,
   "metadata": {
    "collapsed": true
   },
   "outputs": [],
   "source": [
    "//lets save that table out to csv so we can visualize later\n",
    "mark_type_counts_by_year.write.csv(\"hdfs://sandbox.hortonworks.com:8020/tmp/output/mark_type_counts_by_year.csv\")"
   ]
  },
  {
   "cell_type": "markdown",
   "metadata": {},
   "source": [
    "### Question 2: Getting a little more indepth and looking at the bigger picture of opposition to trademark applications\n",
    "- Do oppositions increase over time as more and more trademarks are registered, or do the stay pretty proportional?\n",
    "    - Service mark, trademark, certification mark\n",
    "    - Bucket and aggregate by year\n",
    "    - When were oppositions generated?\n",
    "    - When were most oppositions sustained?\n"
   ]
  },
  {
   "cell_type": "markdown",
   "metadata": {},
   "source": [
    "Events are logged in the event table. Of the 799 different event statuses (see https://eipweb.uspto.gov/TrademarkCaseFileEconomics/2011/event_description.csv.zip), we want to examine those involving oppositions, or rather, the action, after a trademark is accepted by the examiner and after it is \"Published for opposition\" for third parties to challenge that trademark before it is registered. There are 6 statuses we'll look at from the event_description file, 4 of which relate to opposing trademark applications:\n",
    "\n",
    "\n",
    "| event_code | event_type | event_desc                                     | event_count |\n",
    "|------------|------------|------------------------------------------------|-------------|\n",
    "| PUBO       | A          | PUBLISHED FOR OPPOSITION                       | 5399155     |\n",
    "| R.PR       | A          | REGISTERED-PRINCIPAL REGISTER                  | 3852684     |\n",
    "| OP.I       | T          | OPPOSITION INSTITUTED NO. 999999               | 147676      |\n",
    "| OP.T\t     | T \t      | OPPOSITION TERMINATED NO. 999999\t           | 144702      |\n",
    "| OP.D       | T          | OPPOSITION DISMISSED NO. 999999                | 78278       |\n",
    "| OP.S       | T          | OPPOSITION SUSTAINED NO. 999999                | 61363       |\n",
    "\n",
    "After **PUBLISHED FOR OPPOSITION** the next major event to indicate that an opposition has actually been made is **OPPOSITION INSTITUTED**. Of that subset, the two major are outcomes are either **OPPOSITION DISMISSED** (and it can go on to be registered) or **OPPOSITION SUSTAINED** (and it will go on to be abandoned). There is a third status in **OPPOSITION TERMINATED**, either because the registering party did not respond to the opposition, or because the registering party filed a motion in response to the opposition and the opposing party failed to respond. More details on Trademark opposition proceedings and the Trademark Trial and Appeal Board (TTAB) can be found here: http://www.wipo.int/export/sites/www/sct/en/comments/pdf/sct17/us_1.pdf\n",
    "\n",
    "*Note*: As there are so many different event codes and many different ways for an application to move through the trademark application process, there are events we are not accounting for in this analysis. With more time and understanding of the trademark process we'd be able to address those additional factors. But for this analysis, that we are focusing on the majority of outcomes related to opposing a trademark registration, this is at least somewhat informative.\n",
    "\n",
    "**And so we ask**: Over time, when were opposition instituted most prevelant, and when were there more or less oppositions sustained (as related to the number of applications published for opposition and registered principal register by year)? "
   ]
  },
  {
   "cell_type": "markdown",
   "metadata": {},
   "source": [
    "**First**, lets reduce the amount of work the cluster has to do by only getting the events records related to the 4 opposition event codes `OP.I`, `OP.T`, `OP.D`, or `OP.S`."
   ]
  },
  {
   "cell_type": "code",
   "execution_count": 15,
   "metadata": {
    "scrolled": true
   },
   "outputs": [],
   "source": [
    "val filtered_events = events_raw.filter($\"event_cd\" === \"OP.I\" || $\"event_cd\" === \"OP.T\" || $\"event_cd\" === \"OP.D\" || $\"event_cd\" === \"OP.S\" || $\"event_cd\" === \"PUBO\" || $\"event_cd\" === \"R.PR\").withColumn(\"event_yr\", year($\"event_dt\"))"
   ]
  },
  {
   "cell_type": "code",
   "execution_count": 16,
   "metadata": {},
   "outputs": [
    {
     "data": {
      "text/plain": [
       "9683862"
      ]
     },
     "execution_count": 16,
     "metadata": {},
     "output_type": "execute_result"
    }
   ],
   "source": [
    "filtered_events.count()"
   ]
  },
  {
   "cell_type": "code",
   "execution_count": 17,
   "metadata": {},
   "outputs": [
    {
     "name": "stdout",
     "output_type": "stream",
     "text": [
      "+--------+--------------------+---------+-------------+---------+--------+\n",
      "|event_cd|            event_dt|event_seq|event_type_cd|serial_no|event_yr|\n",
      "+--------+--------------------+---------+-------------+---------+--------+\n",
      "|    R.PR|1997-02-09 00:00:...|        1|            A| 70029573|    1997|\n",
      "|    R.PR|1901-01-01 00:00:...|        1|            A| 70035691|    1901|\n",
      "|    R.PR|1901-07-23 00:00:...|        1|            A| 70036799|    1901|\n",
      "|    R.PR|1903-11-03 00:00:...|        1|            A| 70041402|    1903|\n",
      "|    R.PR|1904-11-22 00:00:...|        1|            A| 70043745|    1904|\n",
      "|    R.PR|1904-11-29 00:00:...|        1|            A| 70043779|    1904|\n",
      "|    R.PR|1905-01-31 00:00:...|        1|            A| 70044082|    1905|\n",
      "|    R.PR|1905-03-07 00:00:...|        1|            A| 70044294|    1905|\n",
      "|    OP.D|1982-02-16 00:00:...|        1|            T| 70073723|    1982|\n",
      "|    OP.D|1983-02-18 00:00:...|        1|            T| 70082894|    1983|\n",
      "|    OP.D|1982-11-22 00:00:...|        1|            T| 70118238|    1982|\n",
      "|    OP.D|1982-11-15 00:00:...|        1|            T| 70125375|    1982|\n",
      "|    OP.D|1982-07-22 00:00:...|        1|            T| 70126063|    1982|\n",
      "|    OP.D|1982-11-15 00:00:...|        1|            T| 70155948|    1982|\n",
      "|    OP.D|1982-11-10 00:00:...|        1|            T| 70156571|    1982|\n",
      "|    OP.D|1983-03-01 00:00:...|        1|            T| 70156704|    1983|\n",
      "|    OP.D|1983-02-24 00:00:...|        1|            T| 70157089|    1983|\n",
      "|    OP.D|1983-03-07 00:00:...|        1|            T| 70159585|    1983|\n",
      "|    OP.I|1983-07-12 00:00:...|        1|            T| 70163387|    1983|\n",
      "|    OP.D|1983-02-17 00:00:...|        1|            T| 70176996|    1983|\n",
      "+--------+--------------------+---------+-------------+---------+--------+\n",
      "only showing top 20 rows\n",
      "\n"
     ]
    }
   ],
   "source": [
    "filtered_events.show()"
   ]
  },
  {
   "cell_type": "markdown",
   "metadata": {},
   "source": [
    "At this point, it seems like having a lot of data loaded up is causing an issue for performace. Let's save the filtered events table and pick up from there when we re-run."
   ]
  },
  {
   "cell_type": "code",
   "execution_count": 18,
   "metadata": {
    "collapsed": true
   },
   "outputs": [],
   "source": [
    "filtered_events.write.parquet(\"hdfs://sandbox.hortonworks.com:8020/tmp/oppose_events.parquet\")"
   ]
  },
  {
   "cell_type": "code",
   "execution_count": 19,
   "metadata": {},
   "outputs": [],
   "source": [
    "val oppose_events = sqlContext.read.parquet(\"hdfs://sandbox.hortonworks.com:8020/tmp/oppose_events.parquet\")"
   ]
  },
  {
   "cell_type": "markdown",
   "metadata": {},
   "source": [
    "**Second**, we want to make sure we can join the type to the event that took place based on serial number. So let's do that. As we recall, we created a column in the case_files table such that this would be easier to join together by serial number."
   ]
  },
  {
   "cell_type": "code",
   "execution_count": 20,
   "metadata": {
    "collapsed": true
   },
   "outputs": [],
   "source": [
    "val case_files_types = case_files.select(\"serial_no\", \"mark_type\")"
   ]
  },
  {
   "cell_type": "code",
   "execution_count": 21,
   "metadata": {},
   "outputs": [],
   "source": [
    "val events_with_types = oppose_events.join(case_files_types, Seq(\"serial_no\"), \"left_outer\")"
   ]
  },
  {
   "cell_type": "code",
   "execution_count": 22,
   "metadata": {},
   "outputs": [
    {
     "name": "stdout",
     "output_type": "stream",
     "text": [
      "\r",
      "                                                                                \r",
      "+---------+--------+--------------------+---------+-------------+--------+----------+\n",
      "|serial_no|event_cd|            event_dt|event_seq|event_type_cd|event_yr| mark_type|\n",
      "+---------+--------+--------------------+---------+-------------+--------+----------+\n",
      "| 70373775|    OP.I|1983-07-12 00:00:...|        1|            T|    1983|collective|\n",
      "| 72420637|    R.PR|1975-01-21 00:00:...|        1|            A|    1975| trademark|\n",
      "| 73014197|    OP.D|1977-01-27 00:00:...|        1|            T|    1977| trademark|\n",
      "| 73040412|    R.PR|1982-10-26 00:00:...|        3|            A|    1982| trademark|\n",
      "| 73040412|    PUBO|1982-08-03 00:00:...|        2|            A|    1982| trademark|\n",
      "| 73051380|    OP.D|1978-08-09 00:00:...|        1|            T|    1978|collective|\n",
      "| 73067094|    OP.D|1978-03-21 00:00:...|        1|            T|    1978| trademark|\n",
      "| 73071159|    OP.S|1978-01-03 00:00:...|        1|            T|    1978|collective|\n",
      "| 73072014|    OP.D|1977-07-07 00:00:...|        1|            T|    1977| trademark|\n",
      "| 73080770|    OP.I|1977-03-29 00:00:...|        1|            T|    1977|collective|\n",
      "| 73083465|    OP.D|1978-07-31 00:00:...|        1|            T|    1978| trademark|\n",
      "| 73083964|    R.PR|1981-08-18 00:00:...|        2|            A|    1981| trademark|\n",
      "| 73083964|    PUBO|1981-05-26 00:00:...|        1|            A|    1981| trademark|\n",
      "| 73088500|    OP.I|1977-03-02 00:00:...|        1|            T|    1977|collective|\n",
      "| 73093653|    R.PR|1981-03-24 00:00:...|        2|            A|    1981| trademark|\n",
      "| 73095131|    R.PR|1980-12-09 00:00:...|        1|            A|    1980|   service|\n",
      "| 73120596|    R.PR|1984-01-24 00:00:...|        8|            A|    1984| trademark|\n",
      "| 73120596|    OP.D|1981-10-29 00:00:...|        7|            T|    1981| trademark|\n",
      "| 73120596|    PUBO|1978-08-08 00:00:...|        6|            A|    1978| trademark|\n",
      "| 73125882|    R.PR|1980-12-09 00:00:...|        2|            A|    1980| trademark|\n",
      "+---------+--------+--------------------+---------+-------------+--------+----------+\n",
      "only showing top 20 rows\n",
      "\n"
     ]
    }
   ],
   "source": [
    "events_with_types.show()"
   ]
  },
  {
   "cell_type": "code",
   "execution_count": 23,
   "metadata": {
    "collapsed": true
   },
   "outputs": [],
   "source": [
    "events_with_types.write.parquet(\"hdfs://sandbox.hortonworks.com:8020/tmp/oppose_events_types.parquet\")"
   ]
  },
  {
   "cell_type": "code",
   "execution_count": 24,
   "metadata": {
    "collapsed": true
   },
   "outputs": [],
   "source": [
    "val oppose_events_with_types = sqlContext.read.parquet(\"hdfs://sandbox.hortonworks.com:8020/tmp/oppose_events_types.parquet\")"
   ]
  },
  {
   "cell_type": "markdown",
   "metadata": {},
   "source": [
    "**Third**: Now that we have a neat, enriched subset of our data to play with for the final analysis, lets do some calculations to see when the most relative oppositions were over time."
   ]
  },
  {
   "cell_type": "code",
   "execution_count": 31,
   "metadata": {},
   "outputs": [],
   "source": [
    "val grouped_counts = oppose_events_with_types.groupBy(\"event_cd\", \"event_yr\", \"mark_type\").agg(count(\"*\").alias(\"counts\")).orderBy($\"event_yr\" asc)"
   ]
  },
  {
   "cell_type": "code",
   "execution_count": 34,
   "metadata": {},
   "outputs": [
    {
     "name": "stdout",
     "output_type": "stream",
     "text": [
      "\r",
      "                                                                                \r",
      "+--------+--------+---------+------+\n",
      "|event_cd|event_yr|mark_type|counts|\n",
      "+--------+--------+---------+------+\n",
      "|    R.PR|    1901|trademark|     2|\n",
      "|    R.PR|    1903|trademark|     1|\n",
      "|    R.PR|    1904|trademark|     2|\n",
      "|    R.PR|    1905|trademark|     3|\n",
      "|    R.PR|    1906|trademark|     1|\n",
      "|    R.PR|    1908|trademark|     1|\n",
      "|    R.PR|    1911|trademark|     1|\n",
      "|    R.PR|    1914|trademark|     1|\n",
      "|    R.PR|    1916|trademark|     2|\n",
      "|    R.PR|    1917|trademark|     1|\n",
      "|    R.PR|    1919|trademark|     1|\n",
      "|    R.PR|    1920|trademark|     1|\n",
      "|    R.PR|    1921|trademark|     1|\n",
      "|    R.PR|    1922|trademark|     1|\n",
      "|    R.PR|    1923|trademark|     1|\n",
      "|    OP.I|    1923|trademark|     1|\n",
      "|    R.PR|    1924|trademark|     2|\n",
      "|    R.PR|    1925|trademark|     1|\n",
      "|    R.PR|    1927|trademark|     1|\n",
      "|    R.PR|    1930|trademark|     2|\n",
      "+--------+--------+---------+------+\n",
      "only showing top 20 rows\n",
      "\n"
     ]
    }
   ],
   "source": [
    "grouped_counts.show()"
   ]
  },
  {
   "cell_type": "code",
   "execution_count": 33,
   "metadata": {},
   "outputs": [
    {
     "name": "stdout",
     "output_type": "stream",
     "text": [
      "\r",
      "                                                                                \r",
      "+--------+--------+----------+------+\n",
      "|event_cd|event_yr| mark_type|counts|\n",
      "+--------+--------+----------+------+\n",
      "|    OP.I|    1923| trademark|     1|\n",
      "|    OP.I|    1965| trademark|     1|\n",
      "|    OP.I|    1972|collective|     1|\n",
      "|    OP.I|    1975|collective|     2|\n",
      "|    OP.I|    1976| trademark|     6|\n",
      "|    OP.I|    1976|collective|     3|\n",
      "|    OP.I|    1976|   service|     2|\n",
      "|    OP.I|    1977|collective|   130|\n",
      "|    OP.I|    1977|   service|    10|\n",
      "|    OP.I|    1977| trademark|    91|\n",
      "|    OP.I|    1978| trademark|    56|\n",
      "|    OP.I|    1978|collective|    77|\n",
      "|    OP.I|    1978|   service|    15|\n",
      "|    OP.I|    1979| trademark|    91|\n",
      "|    OP.I|    1979|   service|    31|\n",
      "|    OP.I|    1979|collective|    51|\n",
      "|    OP.I|    1980|   service|    28|\n",
      "|    OP.I|    1980|collective|    63|\n",
      "|    OP.I|    1980| trademark|    93|\n",
      "|    OP.I|    1981|collective|     3|\n",
      "+--------+--------+----------+------+\n",
      "only showing top 20 rows\n",
      "\n"
     ]
    }
   ],
   "source": [
    "grouped_counts.filter($\"event_cd\" === \"OP.I\").show()"
   ]
  },
  {
   "cell_type": "markdown",
   "metadata": {},
   "source": [
    "### Question 3: length of marks over time"
   ]
  },
  {
   "cell_type": "markdown",
   "metadata": {},
   "source": [
    "In looking over some of these trademarks, I noticed some like: \"\" & \"\". Just for fun, I wanted to get a sense for whether trademarks have gotten shorter over time, or if they've always had a similar average wordiness."
   ]
  },
  {
   "cell_type": "code",
   "execution_count": null,
   "metadata": {
    "collapsed": true,
    "scrolled": false
   },
   "outputs": [],
   "source": [
    "val case_mark_lengths = case_files.filter($\"filing_yr\".isNotNull && $\"mark_id_char\".isNotNull).select(\"mark_id_char\", \"filing_yr\").withColumn(\"count\", size(split($\"mark_id_char\", \" \"))).orderBy($\"filing_yr\" asc)"
   ]
  },
  {
   "cell_type": "code",
   "execution_count": null,
   "metadata": {
    "collapsed": true
   },
   "outputs": [],
   "source": [
    "val avg_mark_counts = case_mark_lengths.groupBy(\"filing_yr\").agg(mean(\"count\")).orderBy($\"filing_yr\" asc)"
   ]
  },
  {
   "cell_type": "code",
   "execution_count": null,
   "metadata": {
    "collapsed": true
   },
   "outputs": [],
   "source": [
    "avg_mark_counts.write.csv(\"hdfs://sandbox.hortonworks.com:8020/tmp/output/avg_mark_counts.csv\")"
   ]
  },
  {
   "cell_type": "code",
   "execution_count": null,
   "metadata": {
    "collapsed": true
   },
   "outputs": [],
   "source": []
  }
 ],
 "metadata": {
  "kernelspec": {
   "display_name": "Apache Toree - Scala",
   "language": "scala",
   "name": "apache_toree_scala"
  },
  "language_info": {
   "file_extension": ".scala",
   "name": "scala",
   "version": "2.11.8"
  }
 },
 "nbformat": 4,
 "nbformat_minor": 2
}
