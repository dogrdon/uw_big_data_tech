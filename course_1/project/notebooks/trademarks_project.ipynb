{
 "cells": [
  {
   "cell_type": "markdown",
   "metadata": {},
   "source": [
    "# Trademark Case Files Dataset\n",
    "\n",
    "This dataset is found at https://www.uspto.gov/learning-and-resources/electronic-data-products/trademark-case-files-dataset-0.\n",
    "\n",
    "The Trademark Case Files Dataset contains detailed information on 8.6 million trademark applications filed with or registrations issued by the USPTO between January 1870 and January 2017. It is derived from the USPTO main database for administering trademarks and includes data on mark characteristics, prosecution events, ownership, classification, third-party oppositions, and renewal history.\n",
    "\n",
    "Full schema can be found at: https://www.uspto.gov/sites/default/files/documents/casefiles_schema_high_level_2016update.pdf\n",
    "\n",
    "Data dictionary found at: https://www.uspto.gov/sites/default/files/documents/vartable_2016.pdf\n",
    "\n",
    "For this analysis we'll only use the Case files and events table for exploring some details on existing and past trademark applications and registrations and their history of administrative actions taken from beginning to end.\n",
    "\n",
    "More details on the full dataset can be found in this publication from the US Patent and Trademark office: http://papers.ssrn.com/sol3/papers.cfm?abstract_id=2188621"
   ]
  },
  {
   "cell_type": "markdown",
   "metadata": {},
   "source": [
    "### Full Dataset Schema"
   ]
  },
  {
   "cell_type": "markdown",
   "metadata": {},
   "source": [
    "<img src=\"./imgs/case_files_data_schema.png\" width=\"75%\" height=\"75%\"/>"
   ]
  },
  {
   "cell_type": "markdown",
   "metadata": {},
   "source": [
    "Of the 14 data tables in the dataset, we'll only use the **case_file** and **event** tables. They are of sufficient size and complexity that this should be enough for a first pass at this dataset."
   ]
  },
  {
   "cell_type": "markdown",
   "metadata": {},
   "source": [
    "### Load our packages"
   ]
  },
  {
   "cell_type": "code",
   "execution_count": 2,
   "metadata": {
    "collapsed": true
   },
   "outputs": [],
   "source": [
    "val sqlContext = new org.apache.spark.sql.SQLContext(sc)"
   ]
  },
  {
   "cell_type": "code",
   "execution_count": 3,
   "metadata": {
    "collapsed": true
   },
   "outputs": [],
   "source": [
    "import sqlContext.implicits._"
   ]
  },
  {
   "cell_type": "code",
   "execution_count": 4,
   "metadata": {
    "collapsed": true
   },
   "outputs": [],
   "source": [
    "import org.apache.spark.sql.types._"
   ]
  },
  {
   "cell_type": "code",
   "execution_count": 5,
   "metadata": {
    "collapsed": true
   },
   "outputs": [],
   "source": [
    "import org.apache.spark.sql.functions._"
   ]
  },
  {
   "cell_type": "markdown",
   "metadata": {},
   "source": [
    "### Load our data\n",
    "#### Case files data: \n",
    "Table which describe the current status of all trademark applications from 1870 - 2017 as of the time of the last data update (January 2017). "
   ]
  },
  {
   "cell_type": "code",
   "execution_count": null,
   "metadata": {
    "collapsed": true
   },
   "outputs": [],
   "source": [
    "val case_files_raw = spark.read.format(\"csv\").option(\"header\", \"true\").option(\"quote\", \"\\\"\").option(\"escape\", \"\\\"\").option(\"mode\", \"DROPMALFORMED\").option(\"inferSchema\", \"true\").load(\"hdfs://sandbox.hortonworks.com:8020/tmp/case_file.csv\")"
   ]
  },
  {
   "cell_type": "markdown",
   "metadata": {},
   "source": [
    "The case files data is quite large (over 8,000,000 records) and wide (79) variables. Let's just grab the columns we're interested in after reviewing the data schema here (https://www.uspto.gov/sites/default/files/documents/vartable_2016.pdf)"
   ]
  },
  {
   "cell_type": "code",
   "execution_count": null,
   "metadata": {
    "collapsed": true
   },
   "outputs": [],
   "source": [
    "val case_files_cols = Seq(\"serial_no\",\n",
    "\"abandon_dt\",\n",
    "\"amend_reg_dt\",\n",
    "\"reg_cancel_cd\",\n",
    "\"reg_cancel_dt\",\n",
    "\"cancel_pend_in\",\n",
    "\"cert_mark_in\",\n",
    "\"chg_reg_in\",\n",
    "\"coll_memb_mark_in\",\n",
    "\"coll_serv_mark_in\",\n",
    "\"coll_trade_mark_in\",\n",
    "\"serv_mark_in\",\n",
    "\"draw_color_cur_in\",\n",
    "\"draw_color_file_in\",\n",
    "\"concur_use_in\",\n",
    "\"concur_use_pend_in\",\n",
    "\"filing_dt\",\n",
    "\"for_priority_in\",\n",
    "\"lb_itu_cur_in\",\n",
    "\"lb_itu_file_in\",\n",
    "\"interfer_pend_in\",\n",
    "\"exm_office_cd\",\n",
    "\"file_location_dt\",\n",
    "\"mark_draw_cd\",\n",
    "\"mark_id_char\",\n",
    "\"opposit_pend_in\",\n",
    "\"amend_principal_in\",\n",
    "\"concur_use_pub_in\",\n",
    "\"publication_dt\",\n",
    "\"registration_dt\",\n",
    "\"renewal_dt\",\n",
    "\"renewal_file_in\",\n",
    "\"cfh_status_cd\",\n",
    "\"cfh_status_dt\",\n",
    "\"trade_mark_in\",\n",
    "\"registration_no\")"
   ]
  },
  {
   "cell_type": "code",
   "execution_count": null,
   "metadata": {
    "collapsed": true
   },
   "outputs": [],
   "source": [
    "val case_files_lite = case_files_raw.select(case_files_cols.head, case_files_cols.tail: _*)"
   ]
  },
  {
   "cell_type": "markdown",
   "metadata": {},
   "source": [
    "Next, since this covers such wide range of time (almost 150 years of trademark registrations!), we want to look at trends over the years. We'll create year columns for all of the date columns since we'll access them a lot and don't want to regularly have to compute on the fly from the date columns. \n",
    "\n",
    "And while we are preparing some of the variables for easier analysis later, let's put the indicator for what type of trademark each case is (service, certification, or trademark) into one column since in the original dataset, it is spread across multiple columns with a boolean value in each column."
   ]
  },
  {
   "cell_type": "code",
   "execution_count": null,
   "metadata": {
    "collapsed": true
   },
   "outputs": [],
   "source": [
    "val case_files_lite_years_types = case_files_lite.\n",
    "                            withColumn(\"filing_yr\",year(case_files_lite(\"filing_dt\"))).\n",
    "                            withColumn(\"abandon_yr\",year(case_files_lite(\"abandon_dt\"))).\n",
    "                            withColumn(\"publication_yr\",year(case_files_lite(\"publication_dt\"))).\n",
    "                            withColumn(\"registration_yr\",year(case_files_lite(\"registration_dt\"))).\n",
    "                            withColumn(\"cfh_status_yr\",year(case_files_lite(\"cfh_status_dt\"))).\n",
    "                            withColumn(\"renewal_yr\",year(case_files_lite(\"renewal_dt\"))).\n",
    "                            withColumn(\"reg_cancel_yr\",year(case_files_lite(\"reg_cancel_dt\"))).\n",
    "                            withColumn(\"mark_type\", when($\"cert_mark_in\" === 1, \"certification\").\n",
    "                                                    when($\"serv_mark_in\" === 1, \"service\").\n",
    "                                                    when($\"trade_mark_in\" === 1, \"trademark\").\n",
    "                                                    otherwise(\"collective\"))"
   ]
  },
  {
   "cell_type": "code",
   "execution_count": null,
   "metadata": {
    "collapsed": true
   },
   "outputs": [],
   "source": [
    "case_files_lite_years_types.filter($\"mark_type\"===\"trademark\").count()"
   ]
  },
  {
   "cell_type": "markdown",
   "metadata": {},
   "source": [
    "And let's then write out the derivative to a parquet file so we don't need to do this everytime"
   ]
  },
  {
   "cell_type": "code",
   "execution_count": null,
   "metadata": {
    "collapsed": true
   },
   "outputs": [],
   "source": [
    "case_files_lite_years_types.write.parquet(\"hdfs://sandbox.hortonworks.com:8020/tmp/case_files_processed.parquet\")"
   ]
  },
  {
   "cell_type": "markdown",
   "metadata": {},
   "source": [
    "Then let's load it back in for faster traversal of the case files data"
   ]
  },
  {
   "cell_type": "code",
   "execution_count": 23,
   "metadata": {
    "collapsed": true
   },
   "outputs": [],
   "source": [
    "val case_files = sqlContext.read.parquet(\"hdfs://sandbox.hortonworks.com:8020/tmp/case_files_processed.parquet\")"
   ]
  },
  {
   "cell_type": "markdown",
   "metadata": {},
   "source": [
    "#### Events data:\n",
    "Table which describes the event history of each trademark application from initiation through registration (or denial) and includes renewals, abandonments, and expiration."
   ]
  },
  {
   "cell_type": "code",
   "execution_count": null,
   "metadata": {
    "collapsed": true
   },
   "outputs": [],
   "source": [
    "val events_raw = spark.read.format(\"csv\").option(\"header\", \"true\").option(\"quote\", \"\\\"\").option(\"escape\", \"\\\"\").option(\"mode\", \"DROPMALFORMED\").option(\"inferSchema\", \"true\").load(\"hdfs://sandbox.hortonworks.com:8020/tmp/event.csv\")"
   ]
  },
  {
   "cell_type": "code",
   "execution_count": null,
   "metadata": {
    "collapsed": true
   },
   "outputs": [],
   "source": [
    "events_raw.columns"
   ]
  },
  {
   "cell_type": "markdown",
   "metadata": {},
   "source": [
    "### Question 1: Trends in types of  trademarks (service mark, trademark, certification mark, or collective mark)\n",
    "- Ref: https://www.bitlaw.com/source/tmep/1306_01.html\n",
    "- Check mark type for trends in service mark registrations like the dotcom boom\n",
    "- Can we see an increase in trademark applications in general like the 1990s dotcom boom"
   ]
  },
  {
   "cell_type": "code",
   "execution_count": 24,
   "metadata": {
    "collapsed": true
   },
   "outputs": [],
   "source": [
    "val service_marks = case_files.filter($\"serv_mark_in\" === 1)"
   ]
  },
  {
   "cell_type": "code",
   "execution_count": 25,
   "metadata": {},
   "outputs": [
    {
     "data": {
      "text/plain": [
       "2892932"
      ]
     },
     "execution_count": 25,
     "metadata": {},
     "output_type": "execute_result"
    }
   ],
   "source": [
    "service_marks.count() //this is about a third of the total observations, as mentioned in the publication"
   ]
  },
  {
   "cell_type": "code",
   "execution_count": 26,
   "metadata": {
    "collapsed": true
   },
   "outputs": [],
   "source": [
    "val certification_marks = case_files.filter($\"cert_mark_in\" === 1)"
   ]
  },
  {
   "cell_type": "code",
   "execution_count": 27,
   "metadata": {},
   "outputs": [
    {
     "data": {
      "text/plain": [
       "11893"
      ]
     },
     "execution_count": 27,
     "metadata": {},
     "output_type": "execute_result"
    }
   ],
   "source": [
    "certification_marks.count()"
   ]
  },
  {
   "cell_type": "code",
   "execution_count": 28,
   "metadata": {
    "collapsed": true
   },
   "outputs": [],
   "source": [
    "val trademarks = case_files.filter($\"trade_mark_in\" === 1)"
   ]
  },
  {
   "cell_type": "code",
   "execution_count": 29,
   "metadata": {},
   "outputs": [
    {
     "data": {
      "text/plain": [
       "5154980"
      ]
     },
     "execution_count": 29,
     "metadata": {},
     "output_type": "execute_result"
    }
   ],
   "source": [
    "trademarks.count()"
   ]
  },
  {
   "cell_type": "code",
   "execution_count": 30,
   "metadata": {
    "collapsed": true
   },
   "outputs": [],
   "source": [
    "val service_counts = service_marks.filter($\"filing_yr\".isNotNull).groupBy(\"filing_yr\").agg(count(\"*\") as \"serv_count\").na.fill(0, Seq(\"serv_count\")).orderBy($\"filing_yr\" asc)"
   ]
  },
  {
   "cell_type": "code",
   "execution_count": 31,
   "metadata": {
    "collapsed": true
   },
   "outputs": [],
   "source": [
    "val certification_counts = certification_marks.filter($\"filing_yr\".isNotNull).groupBy(\"filing_yr\").agg(count(\"*\") as \"cert_count\").na.fill(0, Seq(\"cert_count\")).orderBy($\"filing_yr\" asc)"
   ]
  },
  {
   "cell_type": "code",
   "execution_count": 32,
   "metadata": {
    "collapsed": true
   },
   "outputs": [],
   "source": [
    "val trademark_counts = trademarks.filter($\"filing_yr\".isNotNull).groupBy(\"filing_yr\").agg(count(\"*\") as \"trade_count\").na.fill(0, Seq(\"trade_count\")).orderBy($\"filing_yr\" asc)"
   ]
  },
  {
   "cell_type": "code",
   "execution_count": 36,
   "metadata": {
    "collapsed": true
   },
   "outputs": [],
   "source": [
    "val mark_type_counts_by_year = service_counts.join(certification_counts, Seq(\"filing_yr\"), \"left_outer\").join(trademark_counts, Seq(\"filing_yr\"), \"left_outer\")"
   ]
  },
  {
   "cell_type": "code",
   "execution_count": 37,
   "metadata": {
    "scrolled": false
   },
   "outputs": [],
   "source": [
    "val sorted_mark_type_counts_by_year = mark_type_counts_by_year.orderBy($\"filing_yr\" asc).na.fill(0, Seq(\"cert_count\"))"
   ]
  },
  {
   "cell_type": "code",
   "execution_count": 38,
   "metadata": {},
   "outputs": [
    {
     "name": "stdout",
     "output_type": "stream",
     "text": [
      "\r",
      "                                                                                \r",
      "+---------+----------+----------+-----------+\n",
      "|filing_yr|serv_count|cert_count|trade_count|\n",
      "+---------+----------+----------+-----------+\n",
      "|     1899|         1|         0|         46|\n",
      "|     1911|         1|         0|        261|\n",
      "|     1915|         1|         0|        278|\n",
      "|     1931|         3|         0|       1023|\n",
      "|     1932|         3|         0|        856|\n",
      "|     1933|         1|         0|        975|\n",
      "|     1934|         1|         0|       1141|\n",
      "|     1935|         1|         0|       1034|\n",
      "|     1937|         1|         0|        922|\n",
      "|     1938|         2|         0|        928|\n",
      "|     1939|         3|         1|        879|\n",
      "|     1944|         1|         0|       1687|\n",
      "|     1946|         4|         3|       2594|\n",
      "|     1947|       170|         6|       6915|\n",
      "|     1948|       142|         5|       5301|\n",
      "|     1949|        87|         5|       3731|\n",
      "|     1950|        86|         3|       3542|\n",
      "|     1951|        82|         0|       3088|\n",
      "|     1952|       115|         6|       3474|\n",
      "|     1953|       140|        14|       3859|\n",
      "+---------+----------+----------+-----------+\n",
      "only showing top 20 rows\n",
      "\n"
     ]
    }
   ],
   "source": [
    "sorted_mark_type_counts_by_year.show()"
   ]
  },
  {
   "cell_type": "markdown",
   "metadata": {},
   "source": [
    "Pretty interesting. The original authors noticed a spike in service marks leading up to the dotcom boom with a noticeable drop off in 2001 thorugh 2004. Since 2005, we're seeing service marks steadily rise again, only dipping perhaps trivially after the economic crash of Oct 2008, only to steadily rise to historic highs in 2015 and 2016.\n",
    "\n",
    "Compared to service marks, it's interesting to note that trademarks don't seem to have as noticeble interruption in numbers year over year, except for a slight drop in 2009, which again we might hypothesize was a result of the 2008 crash"
   ]
  },
  {
   "cell_type": "code",
   "execution_count": 39,
   "metadata": {
    "collapsed": true
   },
   "outputs": [],
   "source": [
    "//lets save that table out to csv so we can visualize later\n",
    "sorted_mark_type_counts_by_year.coalesce(1).write.format(\"com.databricks.spark.csv\").option(\"header\", \"true\").save(\"hdfs://sandbox.hortonworks.com:8020/tmp/output/mark_type_counts_by_year.csv\")"
   ]
  },
  {
   "cell_type": "markdown",
   "metadata": {},
   "source": [
    "### Question 2: Getting a little more indepth and looking at the bigger picture of opposition to trademark applications\n",
    "- Do oppositions increase over time as more and more trademarks are registered, or do the stay pretty proportional?\n",
    "    - Service mark, trademark, certification mark\n",
    "    - Bucket and aggregate by year\n",
    "    - When were oppositions generated?\n",
    "    - When were most oppositions sustained?\n"
   ]
  },
  {
   "cell_type": "markdown",
   "metadata": {},
   "source": [
    "Events are logged in the event table. Of the 799 different event statuses (see https://eipweb.uspto.gov/TrademarkCaseFileEconomics/2011/event_description.csv.zip), we want to examine those involving oppositions, or rather, the action, after a trademark is accepted by the examiner and after it is \"Published for opposition\" for third parties to challenge that trademark before it is registered. There are 6 statuses we'll look at from the event_description file, 4 of which relate to opposing trademark applications:\n",
    "\n",
    "\n",
    "| event_code | event_type | event_desc                                     | event_count |\n",
    "|------------|------------|------------------------------------------------|-------------|\n",
    "| PUBO       | A          | PUBLISHED FOR OPPOSITION                       | 5399155     |\n",
    "| R.PR       | A          | REGISTERED-PRINCIPAL REGISTER                  | 3852684     |\n",
    "| OP.I       | T          | OPPOSITION INSTITUTED NO. 999999               | 147676      |\n",
    "| OP.T\t     | T \t      | OPPOSITION TERMINATED NO. 999999\t           | 144702      |\n",
    "| OP.D       | T          | OPPOSITION DISMISSED NO. 999999                | 78278       |\n",
    "| OP.S       | T          | OPPOSITION SUSTAINED NO. 999999                | 61363       |\n",
    "\n",
    "After **PUBLISHED FOR OPPOSITION** the next major event to indicate that an opposition has actually been made is **OPPOSITION INSTITUTED**. Of that subset, the two major are outcomes are either **OPPOSITION DISMISSED** (and it can go on to be registered) or **OPPOSITION SUSTAINED** (and it will go on to be abandoned). There is a third status in **OPPOSITION TERMINATED**, either because the registering party did not respond to the opposition, or because the registering party filed a motion in response to the opposition and the opposing party failed to respond. More details on Trademark opposition proceedings and the Trademark Trial and Appeal Board (TTAB) can be found here: http://www.wipo.int/export/sites/www/sct/en/comments/pdf/sct17/us_1.pdf\n",
    "\n",
    "*Note*: As there are so many different event codes and many different ways for an application to move through the trademark application process, there are events we are not accounting for in this analysis. With more time and understanding of the trademark process we'd be able to address those additional factors. But for this analysis, that we are focusing on the majority of outcomes related to opposing a trademark registration, this is at least somewhat informative.\n",
    "\n",
    "**And so we ask**: Over time, when were opposition instituted most prevelant, and when were there more or less oppositions sustained (as related to the number of applications published for opposition and registered principal register by year)? "
   ]
  },
  {
   "cell_type": "markdown",
   "metadata": {},
   "source": [
    "**First**, lets reduce the amount of work the cluster has to do by only getting the events records related to the 4 opposition event codes `OP.I`, `OP.T`, `OP.D`, or `OP.S`."
   ]
  },
  {
   "cell_type": "code",
   "execution_count": null,
   "metadata": {
    "collapsed": true,
    "scrolled": true
   },
   "outputs": [],
   "source": [
    "val filtered_events = events_raw.filter($\"event_cd\" === \"OP.I\" || $\"event_cd\" === \"OP.T\" || $\"event_cd\" === \"OP.D\" || $\"event_cd\" === \"OP.S\" || $\"event_cd\" === \"PUBO\" || $\"event_cd\" === \"R.PR\").withColumn(\"event_yr\", year($\"event_dt\"))"
   ]
  },
  {
   "cell_type": "code",
   "execution_count": null,
   "metadata": {
    "collapsed": true
   },
   "outputs": [],
   "source": [
    "filtered_events.count()"
   ]
  },
  {
   "cell_type": "code",
   "execution_count": null,
   "metadata": {
    "collapsed": true
   },
   "outputs": [],
   "source": [
    "filtered_events.show()"
   ]
  },
  {
   "cell_type": "markdown",
   "metadata": {},
   "source": [
    "At this point, it seems like having a lot of data loaded up is causing an issue for performace. Let's save the filtered events table and pick up from there when we re-run."
   ]
  },
  {
   "cell_type": "code",
   "execution_count": null,
   "metadata": {
    "collapsed": true
   },
   "outputs": [],
   "source": [
    "filtered_events.write.parquet(\"hdfs://sandbox.hortonworks.com:8020/tmp/oppose_events.parquet\")"
   ]
  },
  {
   "cell_type": "code",
   "execution_count": null,
   "metadata": {
    "collapsed": true
   },
   "outputs": [],
   "source": [
    "val oppose_events = sqlContext.read.parquet(\"hdfs://sandbox.hortonworks.com:8020/tmp/oppose_events.parquet\")"
   ]
  },
  {
   "cell_type": "markdown",
   "metadata": {},
   "source": [
    "**Second**, we want to make sure we can join the type to the event that took place based on serial number. So let's do that. As we recall, we created a column in the case_files table such that this would be easier to join together by serial number."
   ]
  },
  {
   "cell_type": "code",
   "execution_count": null,
   "metadata": {
    "collapsed": true
   },
   "outputs": [],
   "source": [
    "val case_files_types = case_files.select(\"serial_no\", \"mark_type\")"
   ]
  },
  {
   "cell_type": "code",
   "execution_count": null,
   "metadata": {
    "collapsed": true
   },
   "outputs": [],
   "source": [
    "val events_with_types = oppose_events.join(case_files_types, Seq(\"serial_no\"), \"left_outer\")"
   ]
  },
  {
   "cell_type": "code",
   "execution_count": null,
   "metadata": {
    "collapsed": true
   },
   "outputs": [],
   "source": [
    "events_with_types.show()"
   ]
  },
  {
   "cell_type": "code",
   "execution_count": null,
   "metadata": {
    "collapsed": true
   },
   "outputs": [],
   "source": [
    "events_with_types.write.parquet(\"hdfs://sandbox.hortonworks.com:8020/tmp/oppose_events_types.parquet\")"
   ]
  },
  {
   "cell_type": "code",
   "execution_count": 7,
   "metadata": {
    "collapsed": true
   },
   "outputs": [],
   "source": [
    "val oppose_events_with_types = sqlContext.read.parquet(\"hdfs://sandbox.hortonworks.com:8020/tmp/oppose_events_types.parquet\")"
   ]
  },
  {
   "cell_type": "code",
   "execution_count": 8,
   "metadata": {},
   "outputs": [
    {
     "data": {
      "text/plain": [
       "9683862"
      ]
     },
     "execution_count": 8,
     "metadata": {},
     "output_type": "execute_result"
    }
   ],
   "source": [
    "oppose_events_with_types.count()"
   ]
  },
  {
   "cell_type": "markdown",
   "metadata": {},
   "source": [
    "**Third**: Now that we have a neat, enriched subset of our data to play with for the final analysis, lets do some calculations to see when the most relative oppositions were over time."
   ]
  },
  {
   "cell_type": "code",
   "execution_count": 34,
   "metadata": {
    "collapsed": true
   },
   "outputs": [],
   "source": [
    "val event_pivot_trade = oppose_events_with_types.filter($\"mark_type\"===\"trademark\").groupBy($\"event_yr\").pivot(\"event_cd\").count.orderBy($\"event_yr\" asc)"
   ]
  },
  {
   "cell_type": "code",
   "execution_count": 35,
   "metadata": {},
   "outputs": [
    {
     "data": {
      "text/plain": [
       "91"
      ]
     },
     "execution_count": 35,
     "metadata": {},
     "output_type": "execute_result"
    }
   ],
   "source": [
    "event_pivot_trade.count()"
   ]
  },
  {
   "cell_type": "code",
   "execution_count": 36,
   "metadata": {
    "collapsed": true
   },
   "outputs": [],
   "source": [
    "val event_pivot_serv = oppose_events_with_types.filter($\"mark_type\"===\"service\").groupBy($\"event_yr\").pivot(\"event_cd\").count.orderBy($\"event_yr\" asc)"
   ]
  },
  {
   "cell_type": "code",
   "execution_count": 37,
   "metadata": {},
   "outputs": [
    {
     "data": {
      "text/plain": [
       "51"
      ]
     },
     "execution_count": 37,
     "metadata": {},
     "output_type": "execute_result"
    }
   ],
   "source": [
    "event_pivot_serv.count()"
   ]
  },
  {
   "cell_type": "markdown",
   "metadata": {},
   "source": [
    "After pivoting, we got a lot of `org.apache.spark.sql.AnalysisException: cannot resolve [colname] given input columns: ` errors, so lets rename the columns so we can proceed."
   ]
  },
  {
   "cell_type": "code",
   "execution_count": 38,
   "metadata": {},
   "outputs": [
    {
     "name": "stdout",
     "output_type": "stream",
     "text": [
      "root\n",
      " |-- event_yr: integer (nullable = true)\n",
      " |-- OP.D: long (nullable = true)\n",
      " |-- OP.I: long (nullable = true)\n",
      " |-- OP.S: long (nullable = true)\n",
      " |-- OP.T: long (nullable = true)\n",
      " |-- PUBO: long (nullable = true)\n",
      " |-- R.PR: long (nullable = true)\n",
      "\n"
     ]
    }
   ],
   "source": [
    "event_pivot_trade.printSchema()"
   ]
  },
  {
   "cell_type": "code",
   "execution_count": 39,
   "metadata": {},
   "outputs": [
    {
     "name": "stdout",
     "output_type": "stream",
     "text": [
      "root\n",
      " |-- event_yr: integer (nullable = true)\n",
      " |-- OP.D: long (nullable = true)\n",
      " |-- OP.I: long (nullable = true)\n",
      " |-- OP.S: long (nullable = true)\n",
      " |-- OP.T: long (nullable = true)\n",
      " |-- PUBO: long (nullable = true)\n",
      " |-- R.PR: long (nullable = true)\n",
      "\n"
     ]
    }
   ],
   "source": [
    "event_pivot_serv.printSchema()"
   ]
  },
  {
   "cell_type": "code",
   "execution_count": 40,
   "metadata": {
    "collapsed": true
   },
   "outputs": [],
   "source": [
    "val newcols = Seq(\"event_year\", \"opd_count\", \"opi_count\", \"ops_count\", \"opt_count\", \"pubo_count\", \"rpr_count\")"
   ]
  },
  {
   "cell_type": "code",
   "execution_count": 41,
   "metadata": {
    "collapsed": true
   },
   "outputs": [],
   "source": [
    "val trade_eventsRenamed = event_pivot_trade.toDF(newcols: _*)"
   ]
  },
  {
   "cell_type": "code",
   "execution_count": 42,
   "metadata": {
    "collapsed": true
   },
   "outputs": [],
   "source": [
    "val serv_eventsRenamed = event_pivot_serv.toDF(newcols: _*)"
   ]
  },
  {
   "cell_type": "markdown",
   "metadata": {},
   "source": [
    "Now we want to convert all nulls to 0 so we can do some math"
   ]
  },
  {
   "cell_type": "code",
   "execution_count": 43,
   "metadata": {
    "collapsed": true
   },
   "outputs": [],
   "source": [
    "val events_pivot_trade_no_nulls = trade_eventsRenamed.na.fill(0, Seq(\"opd_count\")).\n",
    "                                          na.fill(0, Seq(\"opi_count\")).\n",
    "                                          na.fill(0, Seq(\"ops_count\")).\n",
    "                                          na.fill(0, Seq(\"opt_count\")).\n",
    "                                          na.fill(0, Seq(\"pubo_count\")).\n",
    "                                          na.fill(0, Seq(\"rpr_count\"))"
   ]
  },
  {
   "cell_type": "code",
   "execution_count": 44,
   "metadata": {
    "collapsed": true
   },
   "outputs": [],
   "source": [
    "val events_pivot_serv_no_nulls = serv_eventsRenamed.na.fill(0, Seq(\"opd_count\")).\n",
    "                                          na.fill(0, Seq(\"opi_count\")).\n",
    "                                          na.fill(0, Seq(\"ops_count\")).\n",
    "                                          na.fill(0, Seq(\"opt_count\")).\n",
    "                                          na.fill(0, Seq(\"pubo_count\")).\n",
    "                                          na.fill(0, Seq(\"rpr_count\"))"
   ]
  },
  {
   "cell_type": "code",
   "execution_count": 45,
   "metadata": {},
   "outputs": [
    {
     "name": "stdout",
     "output_type": "stream",
     "text": [
      "\r",
      "                                                                                \r",
      "+----------+---------+---------+---------+---------+----------+---------+\n",
      "|event_year|opd_count|opi_count|ops_count|opt_count|pubo_count|rpr_count|\n",
      "+----------+---------+---------+---------+---------+----------+---------+\n",
      "|      1901|        0|        0|        0|        0|         0|        2|\n",
      "|      1903|        0|        0|        0|        0|         0|        1|\n",
      "|      1904|        0|        0|        0|        0|         0|        2|\n",
      "|      1905|        0|        0|        0|        0|         0|        3|\n",
      "|      1906|        0|        0|        0|        0|         0|        1|\n",
      "|      1908|        0|        0|        0|        0|         0|        1|\n",
      "|      1911|        0|        0|        0|        0|         0|        1|\n",
      "|      1914|        0|        0|        0|        0|         0|        1|\n",
      "|      1916|        0|        0|        0|        0|         0|        2|\n",
      "|      1917|        0|        0|        0|        0|         0|        1|\n",
      "|      1919|        0|        0|        0|        0|         0|        1|\n",
      "|      1920|        0|        0|        0|        0|         0|        1|\n",
      "|      1921|        0|        0|        0|        0|         0|        1|\n",
      "|      1922|        0|        0|        0|        0|         0|        1|\n",
      "|      1923|        0|        1|        0|        0|         0|        1|\n",
      "|      1924|        0|        0|        0|        0|         0|        2|\n",
      "|      1925|        0|        0|        0|        0|         0|        1|\n",
      "|      1927|        0|        0|        0|        0|         0|        1|\n",
      "|      1930|        0|        0|        0|        0|         0|        2|\n",
      "|      1931|        0|        0|        0|        0|         0|        5|\n",
      "+----------+---------+---------+---------+---------+----------+---------+\n",
      "only showing top 20 rows\n",
      "\n"
     ]
    }
   ],
   "source": [
    "events_pivot_trade_no_nulls.show()"
   ]
  },
  {
   "cell_type": "code",
   "execution_count": 46,
   "metadata": {},
   "outputs": [
    {
     "name": "stdout",
     "output_type": "stream",
     "text": [
      "\r",
      "                                                                                \r",
      "+----------+---------+---------+---------+---------+----------+---------+\n",
      "|event_year|opd_count|opi_count|ops_count|opt_count|pubo_count|rpr_count|\n",
      "+----------+---------+---------+---------+---------+----------+---------+\n",
      "|      1962|        1|        0|        0|        0|         0|        0|\n",
      "|      1964|        0|        0|        0|        1|         0|        0|\n",
      "|      1968|        0|        0|        0|        1|         0|        1|\n",
      "|      1969|        0|        0|        0|        0|         0|        1|\n",
      "|      1970|        0|        0|        0|        0|         0|        1|\n",
      "|      1971|        0|        0|        0|        0|         0|        1|\n",
      "|      1973|        0|        0|        0|        0|         1|        2|\n",
      "|      1974|        0|        0|        0|        0|         1|        3|\n",
      "|      1975|        1|        0|        0|        0|         0|        2|\n",
      "|      1976|        3|        2|        0|        0|         5|        6|\n",
      "|      1977|       66|       10|        8|        1|         0|        1|\n",
      "|      1978|       44|       15|        2|        0|         1|        2|\n",
      "|      1979|       15|       31|        1|        0|         4|        6|\n",
      "|      1980|        8|       28|        1|        0|       685|     1120|\n",
      "|      1981|       10|       55|       22|        1|     10306|     8236|\n",
      "|      1982|       11|       83|        8|       10|      9684|     8269|\n",
      "|      1983|       73|      252|       42|       69|     14583|    16042|\n",
      "|      1984|      167|      324|      117|      276|     13280|    10583|\n",
      "|      1985|      188|      595|      152|      357|     13865|    13863|\n",
      "|      1986|      261|      406|       95|      452|     11892|    10584|\n",
      "+----------+---------+---------+---------+---------+----------+---------+\n",
      "only showing top 20 rows\n",
      "\n"
     ]
    }
   ],
   "source": [
    "events_pivot_serv_no_nulls.show()"
   ]
  },
  {
   "cell_type": "markdown",
   "metadata": {},
   "source": [
    "Let's make a user defined function that will give us the percentage of two columns"
   ]
  },
  {
   "cell_type": "code",
   "execution_count": 47,
   "metadata": {
    "collapsed": true
   },
   "outputs": [],
   "source": [
    "val percUDF = udf((i:Integer, z:Integer) => ((i.toFloat/z.toFloat)*100))"
   ]
  },
  {
   "cell_type": "code",
   "execution_count": 48,
   "metadata": {
    "collapsed": true
   },
   "outputs": [],
   "source": [
    "val trade_events_calculated = events_pivot_trade_no_nulls.withColumn(\"percent_opi\", when($\"pubo_count\" !== 0, percUDF($\"opi_count\", $\"pubo_count\")).otherwise(0)).\n",
    "                                              withColumn(\"percent_ops\", when($\"pubo_count\" !== 0, percUDF($\"ops_count\", $\"pubo_count\")).otherwise(0)).\n",
    "                                              withColumn(\"percent_opt\", when($\"pubo_count\" !== 0, percUDF($\"opt_count\", $\"pubo_count\")).otherwise(0)).\n",
    "                                              withColumn(\"percent_opd\", when($\"pubo_count\" !== 0, percUDF($\"opd_count\", $\"pubo_count\")).otherwise(0))"
   ]
  },
  {
   "cell_type": "code",
   "execution_count": 49,
   "metadata": {
    "collapsed": true
   },
   "outputs": [],
   "source": [
    "val serv_events_calculated = events_pivot_serv_no_nulls.withColumn(\"percent_opi\", when($\"pubo_count\" !== 0, percUDF($\"opi_count\", $\"pubo_count\")).otherwise(0)).\n",
    "                                              withColumn(\"percent_ops\", when($\"pubo_count\" !== 0, percUDF($\"ops_count\", $\"pubo_count\")).otherwise(0)).\n",
    "                                              withColumn(\"percent_opt\", when($\"pubo_count\" !== 0, percUDF($\"opt_count\", $\"pubo_count\")).otherwise(0)).\n",
    "                                              withColumn(\"percent_opd\", when($\"pubo_count\" !== 0, percUDF($\"opd_count\", $\"pubo_count\")).otherwise(0))"
   ]
  },
  {
   "cell_type": "code",
   "execution_count": 50,
   "metadata": {},
   "outputs": [
    {
     "name": "stdout",
     "output_type": "stream",
     "text": [
      "\r",
      "                                                                                \r",
      "+----------+---------+---------+---------+---------+----------+---------+-----------+-----------+-----------+-----------+\n",
      "|event_year|opd_count|opi_count|ops_count|opt_count|pubo_count|rpr_count|percent_opi|percent_ops|percent_opt|percent_opd|\n",
      "+----------+---------+---------+---------+---------+----------+---------+-----------+-----------+-----------+-----------+\n",
      "|      1901|        0|        0|        0|        0|         0|        2|        0.0|        0.0|        0.0|        0.0|\n",
      "|      1903|        0|        0|        0|        0|         0|        1|        0.0|        0.0|        0.0|        0.0|\n",
      "|      1904|        0|        0|        0|        0|         0|        2|        0.0|        0.0|        0.0|        0.0|\n",
      "|      1905|        0|        0|        0|        0|         0|        3|        0.0|        0.0|        0.0|        0.0|\n",
      "|      1906|        0|        0|        0|        0|         0|        1|        0.0|        0.0|        0.0|        0.0|\n",
      "|      1908|        0|        0|        0|        0|         0|        1|        0.0|        0.0|        0.0|        0.0|\n",
      "|      1911|        0|        0|        0|        0|         0|        1|        0.0|        0.0|        0.0|        0.0|\n",
      "|      1914|        0|        0|        0|        0|         0|        1|        0.0|        0.0|        0.0|        0.0|\n",
      "|      1916|        0|        0|        0|        0|         0|        2|        0.0|        0.0|        0.0|        0.0|\n",
      "|      1917|        0|        0|        0|        0|         0|        1|        0.0|        0.0|        0.0|        0.0|\n",
      "|      1919|        0|        0|        0|        0|         0|        1|        0.0|        0.0|        0.0|        0.0|\n",
      "|      1920|        0|        0|        0|        0|         0|        1|        0.0|        0.0|        0.0|        0.0|\n",
      "|      1921|        0|        0|        0|        0|         0|        1|        0.0|        0.0|        0.0|        0.0|\n",
      "|      1922|        0|        0|        0|        0|         0|        1|        0.0|        0.0|        0.0|        0.0|\n",
      "|      1923|        0|        1|        0|        0|         0|        1|        0.0|        0.0|        0.0|        0.0|\n",
      "|      1924|        0|        0|        0|        0|         0|        2|        0.0|        0.0|        0.0|        0.0|\n",
      "|      1925|        0|        0|        0|        0|         0|        1|        0.0|        0.0|        0.0|        0.0|\n",
      "|      1927|        0|        0|        0|        0|         0|        1|        0.0|        0.0|        0.0|        0.0|\n",
      "|      1930|        0|        0|        0|        0|         0|        2|        0.0|        0.0|        0.0|        0.0|\n",
      "|      1931|        0|        0|        0|        0|         0|        5|        0.0|        0.0|        0.0|        0.0|\n",
      "|      1933|        0|        0|        0|        0|         0|        6|        0.0|        0.0|        0.0|        0.0|\n",
      "|      1934|        0|        0|        0|        0|         0|        1|        0.0|        0.0|        0.0|        0.0|\n",
      "|      1935|        0|        0|        0|        0|         0|        2|        0.0|        0.0|        0.0|        0.0|\n",
      "|      1936|        0|        0|        0|        0|         0|        5|        0.0|        0.0|        0.0|        0.0|\n",
      "|      1937|        0|        0|        0|        0|         0|        1|        0.0|        0.0|        0.0|        0.0|\n",
      "|      1938|        0|        0|        0|        0|         0|        2|        0.0|        0.0|        0.0|        0.0|\n",
      "|      1940|        0|        0|        0|        0|         0|        1|        0.0|        0.0|        0.0|        0.0|\n",
      "|      1942|        0|        0|        0|        0|         0|        2|        0.0|        0.0|        0.0|        0.0|\n",
      "|      1949|        0|        0|        0|        0|         0|        3|        0.0|        0.0|        0.0|        0.0|\n",
      "|      1950|        0|        0|        0|        0|         0|        3|        0.0|        0.0|        0.0|        0.0|\n",
      "|      1951|        0|        0|        0|        0|         0|        1|        0.0|        0.0|        0.0|        0.0|\n",
      "|      1952|        0|        0|        0|        0|         0|        3|        0.0|        0.0|        0.0|        0.0|\n",
      "|      1956|        0|        0|        0|        0|         1|        3|        0.0|        0.0|        0.0|        0.0|\n",
      "|      1959|        0|        0|        0|        0|         0|        2|        0.0|        0.0|        0.0|        0.0|\n",
      "|      1960|        0|        0|        0|        0|         2|        3|        0.0|        0.0|        0.0|        0.0|\n",
      "|      1961|        1|        0|        0|        0|         0|        0|        0.0|        0.0|        0.0|        0.0|\n",
      "|      1963|        1|        0|        0|        0|         0|        3|        0.0|        0.0|        0.0|        0.0|\n",
      "|      1964|        0|        0|        0|        0|         0|        1|        0.0|        0.0|        0.0|        0.0|\n",
      "|      1965|        0|        1|        0|        0|         0|        0|        0.0|        0.0|        0.0|        0.0|\n",
      "|      1966|        0|        0|        1|        0|         0|        1|        0.0|        0.0|        0.0|        0.0|\n",
      "|      1967|        1|        0|        1|        0|         0|        1|        0.0|        0.0|        0.0|        0.0|\n",
      "|      1968|        0|        0|        0|        0|         0|        4|        0.0|        0.0|        0.0|        0.0|\n",
      "|      1969|        0|        0|        0|        0|         0|        7|        0.0|        0.0|        0.0|        0.0|\n",
      "|      1970|        0|        0|        0|        0|         0|        5|        0.0|        0.0|        0.0|        0.0|\n",
      "|      1971|        0|        0|        0|        0|         0|        9|        0.0|        0.0|        0.0|        0.0|\n",
      "|      1972|        1|        0|        0|        1|         0|        0|        0.0|        0.0|        0.0|        0.0|\n",
      "|      1973|        0|        0|        0|        0|         0|        6|        0.0|        0.0|        0.0|        0.0|\n",
      "|      1974|        0|        0|        0|        0|         0|        4|        0.0|        0.0|        0.0|        0.0|\n",
      "|      1975|        3|        0|        0|        0|         3|       25|        0.0|        0.0|        0.0|      100.0|\n",
      "|      1976|       17|        6|        3|        0|         7|       23|   85.71429|  42.857143|        0.0|  242.85715|\n",
      "|      1977|      327|       91|       16|        0|         0|        2|        0.0|        0.0|        0.0|        0.0|\n",
      "|      1978|      187|       56|       12|        0|        12|        6|  466.66666|      100.0|        0.0|  1558.3333|\n",
      "|      1979|       73|       91|        1|        0|         4|        3|     2275.0|       25.0|        0.0|     1825.0|\n",
      "|      1980|       31|       93|        1|        0|      2690|     4864|   3.457249| 0.03717472|        0.0|  1.1524163|\n",
      "|      1981|       20|      179|       77|        3|     36297|    28694|  0.4931537| 0.21213876|0.008265146|0.055100974|\n",
      "|      1982|       19|      336|       35|       23|     28591|    27597|   1.175195|0.122416146|0.080444895|0.066454485|\n",
      "|      1983|      292|      827|      158|      245|     51630|    51220|  1.6017818| 0.30602363|  0.4745303| 0.56556267|\n",
      "|      1984|      721|     1293|      424|     1057|     41833|    36874|  3.0908613|  1.0135539|  2.5267134|  1.7235197|\n",
      "|      1985|      705|     2244|      561|     1374|     48404|    47021|    4.63598|   1.158995|  2.8386085|  1.4564912|\n",
      "|      1986|      980|     1821|      502|     1960|     37709|    35496|   4.829086|  1.3312472|   5.197698|   2.598849|\n",
      "|      1987|     1070|     1650|      453|     1362|     36520|    33919|   4.518072|  1.2404163|  3.7294633|  2.9299014|\n",
      "|      1988|     1035|     1673|      452|     2168|     35692|    33130|   4.687325|  1.2663903|    6.07419|  2.8998096|\n",
      "|      1989|      974|     1594|      522|     1697|     43402|    38800|   3.672642|  1.2027096|  3.9099581|  2.2441363|\n",
      "|      1990|     1000|     1877|      756|     1774|     47604|    38580|   3.942946|  1.5881019|  3.7265778|   2.100664|\n",
      "|      1991|      901|     2112|      680|     1920|     48803|    28727|   4.327603|  1.3933569|  3.9341846|   1.846198|\n",
      "|      1992|      918|     2495|      842|     2168|     85299|    49782|   2.925005| 0.98711586|  2.5416477|  1.0762143|\n",
      "|      1993|     1354|     2809|     1026|     2312|     63085|    48781|  4.4527225|  1.6263772|  3.6648967|  2.1463106|\n",
      "|      1994|     1338|     2192|     1118|     2499|     53912|    38558|   4.065885|    2.07375|  4.6353316|  2.4818223|\n",
      "|      1995|     1222|     3230|      895|     2458|     85885|    49010|   3.760843|  1.0420913|  2.8619666|  1.4228328|\n",
      "|      1996|     1614|     3532|     1557|     3284|     80671|    53463|   4.378277|  1.9300616|  4.0708556|  2.0007188|\n",
      "|      1997|     1641|     3346|     1429|     3116|     91439|    62329|    3.65927|  1.5627906|   3.407736|   1.794639|\n",
      "|      1998|     1489|     2642|     1273|     2815|     84802|    55159|  3.1154926|  1.5011438|   3.319497|  1.7558548|\n",
      "|      1999|     1534|     2608|     1195|     2763|     95633|    53442|   2.727092|  1.2495686|  2.8891702|  1.6040487|\n",
      "|      2000|     1568|     3411|     1437|     3076|     96051|    61424|  3.5512383|  1.4960802|   3.202465|  1.6324662|\n",
      "|      2001|     1531|     2272|     1294|     2973|    100905|    58077|   2.251623|  1.2823943|  2.9463356|  1.5172688|\n",
      "|      2002|     1398|     3196|     1346|     3357|    123556|    77927|  2.5866814|  1.0893846|  2.7169867|  1.1314708|\n",
      "|      2003|     1596|     3267|     1613|     4551|     93639|    73140|  3.4889312|  1.7225729|  4.8601546|  1.7044181|\n",
      "|      2004|     1625|     3518|     1380|     6758|     90637|    64629|  3.8814173|   1.522557|   7.456116|   1.792866|\n",
      "|      2005|     1920|     3376|     1587|     3590|    123462|    69208|  2.7344446|  1.2854158|  2.9077773|  1.5551343|\n",
      "|      2006|     2058|     4670|     1914|     3196|    131932|    85391|  3.5397024|  1.4507474|    2.42246|  1.5598946|\n",
      "|      2007|     2167|     4397|     1970|     1885|    147085|    91455|   2.989428|  1.3393617|  1.2815719|  1.4732977|\n",
      "|      2008|     2575|     4301|     2085|     4168|    147830|   101505|   2.909423|  1.4104038|   2.819455|  1.7418656|\n",
      "|      2009|     2458|     3263|     1985|     4416|    123059|    90983|  2.6515737|  1.6130474|  3.5885227|  1.9974159|\n",
      "|      2010|     1975|     3244|     1457|     3422|    123935|    85070|   2.617501|  1.1756163|  2.7611248|  1.5935773|\n",
      "|      2011|     1936|     3370|     1522|     3411|    132642|    92594|  2.5406733|  1.1474495|  2.5715837|  1.4595679|\n",
      "|      2012|     1882|     3534|     1538|     3396|    138872|    94121|  2.5447893|  1.1074946|  2.4454172|  1.3552048|\n",
      "|      2013|     1888|     3624|     1711|     3605|    146840|    97660|  2.4679923|  1.1652138|   2.455053|  1.2857533|\n",
      "|      2014|     2092|     3736|     1855|     3933|    148532|   104467|  2.5152829|  1.2488891|  2.6479142|  1.4084507|\n",
      "|      2015|     1965|     3663|     1788|     3694|    155531|   109938|  2.3551576|    1.14961|  2.3750892|  1.2634138|\n",
      "|      2016|     2016|     4135|     2086|     4062|    176928|   121546|  2.3371089|  1.1790107|   2.295849|  1.1394465|\n",
      "|      2017|      302|      674|      410|      706|     26774|    20139|  2.5173676|  1.5313363|  2.6368866|    1.12796|\n",
      "+----------+---------+---------+---------+---------+----------+---------+-----------+-----------+-----------+-----------+\n",
      "\n"
     ]
    }
   ],
   "source": [
    "trade_events_calculated.show(100)"
   ]
  },
  {
   "cell_type": "code",
   "execution_count": 15,
   "metadata": {},
   "outputs": [
    {
     "name": "stdout",
     "output_type": "stream",
     "text": [
      "\r",
      "                                                                                \r",
      "+----------+---------+---------+---------+---------+----------+---------+-----------+-----------+-----------+-----------+\n",
      "|event_year|opd_count|opi_count|ops_count|opt_count|pubo_count|rpr_count|percent_opi|percent_ops|percent_opt|percent_opd|\n",
      "+----------+---------+---------+---------+---------+----------+---------+-----------+-----------+-----------+-----------+\n",
      "|      1962|        1|        0|        0|        0|         0|        0|        0.0|        0.0|        0.0|        0.0|\n",
      "|      1964|        0|        0|        0|        1|         0|        0|        0.0|        0.0|        0.0|        0.0|\n",
      "|      1968|        0|        0|        0|        1|         0|        1|        0.0|        0.0|        0.0|        0.0|\n",
      "|      1969|        0|        0|        0|        0|         0|        1|        0.0|        0.0|        0.0|        0.0|\n",
      "|      1970|        0|        0|        0|        0|         0|        1|        0.0|        0.0|        0.0|        0.0|\n",
      "|      1971|        0|        0|        0|        0|         0|        1|        0.0|        0.0|        0.0|        0.0|\n",
      "|      1973|        0|        0|        0|        0|         1|        2|        0.0|        0.0|        0.0|        0.0|\n",
      "|      1974|        0|        0|        0|        0|         1|        3|        0.0|        0.0|        0.0|        0.0|\n",
      "|      1975|        1|        0|        0|        0|         0|        2|        0.0|        0.0|        0.0|        0.0|\n",
      "|      1976|        3|        2|        0|        0|         5|        6|       40.0|        0.0|        0.0|  60.000004|\n",
      "|      1977|       66|       10|        8|        1|         0|        1|        0.0|        0.0|        0.0|        0.0|\n",
      "|      1978|       44|       15|        2|        0|         1|        2|     1500.0|      200.0|        0.0|     4400.0|\n",
      "|      1979|       15|       31|        1|        0|         4|        6|      775.0|       25.0|        0.0|      375.0|\n",
      "|      1980|        8|       28|        1|        0|       685|     1120|   4.087591|  0.1459854|        0.0|  1.1678832|\n",
      "|      1981|       10|       55|       22|        1|     10306|     8236|  0.5336697|  0.2134679|0.009703086|0.097030856|\n",
      "|      1982|       11|       83|        8|       10|      9684|     8269| 0.85708386| 0.08261049| 0.10326312| 0.11358942|\n",
      "|      1983|       73|      252|       42|       69|     14583|    16042|  1.7280394|  0.2880066| 0.47315368|  0.5005829|\n",
      "|      1984|      167|      324|      117|      276|     13280|    10583|   2.439759| 0.88102406|   2.078313|  1.2575301|\n",
      "|      1985|      188|      595|      152|      357|     13865|    13863|  4.2913814|  1.0962856|  2.5748286|  1.3559322|\n",
      "|      1986|      261|      406|       95|      452|     11892|    10584|  3.4140599|  0.7988564|  3.8008745|  2.1947527|\n",
      "|      1987|      276|      449|      110|      328|     11874|    11394|   3.781371|  0.9263938|   2.762338|  2.3244061|\n",
      "|      1988|      299|      515|      102|      581|     13696|    12381|   3.760222|   0.744743|  4.2421145|  2.1831193|\n",
      "|      1989|      311|      458|      165|      524|     15411|    14312|  2.9719033|  1.0706638|  3.4001687|  2.0180392|\n",
      "|      1990|      286|      515|      161|      435|     16417|    14439|   3.136992|  0.9806908|  2.6496925|  1.7420967|\n",
      "|      1991|      233|      477|      171|      519|     15052|    10821|   3.169014|  1.1360617|  3.4480467|  1.5479671|\n",
      "|      1992|      247|      711|      197|      532|     29842|    20346|   2.382548| 0.66014344|  1.7827224| 0.82769257|\n",
      "|      1993|      376|      822|      292|      655|     22300|    18609|  3.6860988|   1.309417|  2.9372196|  1.6860986|\n",
      "|      1994|      410|      609|      287|      702|     19986|    15010|   3.047133|  1.4360051|  3.5124588|   2.051436|\n",
      "|      1995|      385|      975|      268|      765|     33298|    20739|   2.928104| 0.80485314|  2.2974353|  1.1562256|\n",
      "|      1996|      536|     1147|      414|      978|     34824|    24413|  3.2937055|  1.1888353|   2.808408|  1.5391684|\n",
      "|      1997|      546|     1313|      462|     1006|     45006|    30742|   2.917389|  1.0265298|  2.2352574|  1.2131716|\n",
      "|      1998|      590|     1121|      419|     1011|     43024|    29355|  2.6055224| 0.97387505|  2.3498514|  1.3713276|\n",
      "|      1999|      595|     1279|      444|     1060|     51765|    29777|  2.4707816|  0.8577224|  2.0477157|  1.1494253|\n",
      "|      2000|      771|     1849|      587|     1400|     68413|    42827|  2.7027028| 0.85802406|  2.0463948|  1.1269789|\n",
      "|      2001|      820|     1396|      712|     1579|     75341|    43155|  1.8529087|  0.9450366|  2.0958045|  1.0883849|\n",
      "|      2002|      734|     1804|      769|     1884|     90182|    60484|   2.000399|  0.8527201|  2.0891087| 0.81390965|\n",
      "|      2003|      883|     1704|      863|     2529|     57898|    52461|   2.943107|  1.4905523|  4.3680267|  1.5250958|\n",
      "|      2004|      879|     1430|      604|     3347|     52788|    44355|  2.7089489|  1.1441995|   6.340456|  1.6651511|\n",
      "|      2005|      958|     1523|      631|     1680|     74496|    45963|   2.044405| 0.84702533|  2.2551546|  1.2859751|\n",
      "|      2006|     1017|     2266|      768|     1483|     85355|    60912|  2.6547947|  0.8997715|  1.7374495|  1.1914943|\n",
      "|      2007|     1164|     2433|      910|     1024|    106777|    71513|  2.2785804|  0.8522434|   0.959008|  1.0901223|\n",
      "|      2008|     1523|     2558|     1074|     2342|    114499|    84082|  2.2340806|  0.9379994|  2.0454326|  1.3301426|\n",
      "|      2009|     1384|     1974|      979|     2336|     94872|    78047|   2.080698|  1.0319167|   2.462265|  1.4588077|\n",
      "|      2010|     1199|     1784|      797|     1995|     93024|    72896|  1.9177847| 0.85676813|   2.144608|  1.2889147|\n",
      "|      2011|     1204|     1963|      747|     1955|    101841|    79200|  1.9275143| 0.73349637|   1.919659|   1.182235|\n",
      "|      2012|     1277|     2163|      786|     2044|    110525|    84090|  1.9570234|  0.7111513|  1.8493553|  1.1553947|\n",
      "|      2013|     1233|     2192|      802|     2019|    114212|    87327|  1.9192379|  0.7022029|  1.7677652|  1.0795714|\n",
      "|      2014|     1413|     2212|      914|     2307|    116650|    90175|  1.8962709|  0.7835405|  1.9777112|  1.2113159|\n",
      "|      2015|     1417|     2074|      892|     2296|    120746|    94112|  1.7176552|  0.7387408|  1.9015123|  1.1735379|\n",
      "|      2016|     1392|     2444|      949|     2329|    134769|    99904|  1.8134733|  0.7041679|  1.7281423|  1.0328784|\n",
      "|      2017|      187|      352|      150|      342|     19460|    15280|  1.8088387|  0.7708119|  1.7574512| 0.96094555|\n",
      "+----------+---------+---------+---------+---------+----------+---------+-----------+-----------+-----------+-----------+\n",
      "\n"
     ]
    }
   ],
   "source": [
    "serv_events_calculated.show(100)"
   ]
  },
  {
   "cell_type": "markdown",
   "metadata": {},
   "source": [
    "Lets save these as output for visualization"
   ]
  },
  {
   "cell_type": "code",
   "execution_count": 21,
   "metadata": {},
   "outputs": [],
   "source": [
    "trade_events_calculated.coalesce(1).write.format(\"com.databricks.spark.csv\").option(\"header\", \"true\").save(\"hdfs://sandbox.hortonworks.com:8020/tmp/output/trade_opposed_percents.csv\")"
   ]
  },
  {
   "cell_type": "code",
   "execution_count": 22,
   "metadata": {},
   "outputs": [],
   "source": [
    "serv_events_calculated.coalesce(1).write.format(\"com.databricks.spark.csv\").option(\"header\", \"true\").save(\"hdfs://sandbox.hortonworks.com:8020/tmp/output/serv_opposed_percents.csv\")"
   ]
  },
  {
   "cell_type": "markdown",
   "metadata": {
    "collapsed": true
   },
   "source": [
    "### Conclusion"
   ]
  },
  {
   "cell_type": "markdown",
   "metadata": {},
   "source": [
    "It's an interesting dataset, but it has some inconsistencies within the data (which the authors of the dataset acknowledge). We explored the data and tried to identify some trends with types of trademarks and trends related to opposition to trademarks. We found that service type trademarks continue to rise possibly a product of more and more internet based services protecting their intellectual property.\n",
    "\n",
    "We had a hypothesis that oppositions to trademarks would rise as more and more trademarks are registered, but this did not necessarily seem to be the case with either trademarks or services marks.\n",
    "\n",
    "Otherwise, this was an interesting dataset to work with in spark, it is fairly large and requires a bit of processing to get to the answers we were seeking. As such, it was a good learning experience and with more time and understanding of the trademark registration process, more could be extracted from this dataset."
   ]
  },
  {
   "cell_type": "code",
   "execution_count": null,
   "metadata": {
    "collapsed": true
   },
   "outputs": [],
   "source": []
  }
 ],
 "metadata": {
  "kernelspec": {
   "display_name": "Apache Toree - Scala",
   "language": "scala",
   "name": "apache_toree_scala"
  },
  "language_info": {
   "file_extension": ".scala",
   "name": "scala",
   "version": "2.11.8"
  }
 },
 "nbformat": 4,
 "nbformat_minor": 2
}
