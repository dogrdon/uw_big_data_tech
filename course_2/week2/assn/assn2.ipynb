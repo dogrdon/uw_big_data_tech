{
 "cells": [
  {
   "cell_type": "code",
   "execution_count": 3,
   "metadata": {
    "collapsed": true
   },
   "outputs": [],
   "source": [
    "import pyspark as ps"
   ]
  },
  {
   "cell_type": "markdown",
   "metadata": {},
   "source": [
    "Initilize our message directories"
   ]
  },
  {
   "cell_type": "code",
   "execution_count": 13,
   "metadata": {
    "collapsed": false
   },
   "outputs": [],
   "source": [
    "EMAIL_PARENT_DIR_GLOB_SAMPLE = './data/maildir_sample/*/*/*.'\n",
    "# EMAIL_PARENT_DIR_GLOB = './data/maildir/*/*/*.' # this is the full dataset, but don't think I can get to run on my laptop"
   ]
  },
  {
   "cell_type": "markdown",
   "metadata": {},
   "source": [
    "Load all messages to an RDD"
   ]
  },
  {
   "cell_type": "code",
   "execution_count": 5,
   "metadata": {
    "collapsed": false
   },
   "outputs": [],
   "source": [
    "messages_rdd = sc.wholeTextFiles(EMAIL_PARENT_DIR_GLOB_SAMPLE)"
   ]
  },
  {
   "cell_type": "code",
   "execution_count": 6,
   "metadata": {
    "collapsed": false,
    "scrolled": true
   },
   "outputs": [
    {
     "data": {
      "text/plain": [
       "22208"
      ]
     },
     "execution_count": 6,
     "metadata": {},
     "output_type": "execute_result"
    }
   ],
   "source": [
    "messages_rdd.count()"
   ]
  },
  {
   "cell_type": "markdown",
   "metadata": {},
   "source": [
    "Write a parser function that takes in a message `m` and parses out the requested data, return each message as a tuple"
   ]
  },
  {
   "cell_type": "code",
   "execution_count": 7,
   "metadata": {
    "collapsed": true
   },
   "outputs": [],
   "source": [
    "def parse_message(m):\n",
    "    message_lines = m.split('\\n')\n",
    "    message_id = message_date = message_to = message_from = ''\n",
    "    for line in message_lines:\n",
    "        try:\n",
    "            if line.startswith(\"Message-ID:\"):\n",
    "                message_id = \":\".join(line.split(\":\")[1:]).strip()\n",
    "            if line.startswith(\"Date\"):\n",
    "                message_date = \":\".join(line.split(\":\")[1:]).strip()\n",
    "            if line.startswith(\"To:\"):\n",
    "                message_to = \":\".join(line.split(\":\")[1:]).strip()\n",
    "            if line.startswith(\"From:\"):\n",
    "                message_from = \":\".join(line.split(\":\")[1:]).strip()\n",
    "        except Exception as e: \n",
    "            print(\"{}---It was me: {}\".format(e, line))\n",
    "\n",
    "    return (message_id, message_date, message_to, message_from, m)"
   ]
  },
  {
   "cell_type": "markdown",
   "metadata": {},
   "source": [
    "Parse each message out to a new RDD"
   ]
  },
  {
   "cell_type": "code",
   "execution_count": 8,
   "metadata": {
    "collapsed": false
   },
   "outputs": [],
   "source": [
    "vmes_rdd = messages_rdd.map(lambda (k, v): parse_message(v))"
   ]
  },
  {
   "cell_type": "markdown",
   "metadata": {},
   "source": [
    "Make sure our message parser works"
   ]
  },
  {
   "cell_type": "code",
   "execution_count": 9,
   "metadata": {
    "collapsed": false
   },
   "outputs": [
    {
     "data": {
      "text/plain": [
       "[(u'<18782981.1075855378110.JavaMail.evans@thyme>',\n",
       "  u'Mon, 14 May 2001 16:39:00 -0700 (PDT)',\n",
       "  u'tim.belden@enron.com',\n",
       "  u'phillip.allen@enron.com',\n",
       "  u\"Message-ID: <18782981.1075855378110.JavaMail.evans@thyme>\\nDate: Mon, 14 May 2001 16:39:00 -0700 (PDT)\\nFrom: phillip.allen@enron.com\\nTo: tim.belden@enron.com\\nSubject: \\nMime-Version: 1.0\\nContent-Type: text/plain; charset=us-ascii\\nContent-Transfer-Encoding: 7bit\\nX-From: Phillip K Allen\\nX-To: Tim Belden <Tim Belden/Enron@EnronXGate>\\nX-cc: \\nX-bcc: \\nX-Folder: \\\\Phillip_Allen_Jan2002_1\\\\Allen, Phillip K.\\\\'Sent Mail\\nX-Origin: Allen-P\\nX-FileName: pallen (Non-Privileged).pst\\n\\nHere is our forecast\\n\\n \"),\n",
       " (u'<15464986.1075855378456.JavaMail.evans@thyme>',\n",
       "  u'Fri, 4 May 2001 13:51:00 -0700 (PDT)',\n",
       "  u'john.lavorato@enron.com',\n",
       "  u'phillip.allen@enron.com',\n",
       "  u\"Message-ID: <15464986.1075855378456.JavaMail.evans@thyme>\\nDate: Fri, 4 May 2001 13:51:00 -0700 (PDT)\\nFrom: phillip.allen@enron.com\\nTo: john.lavorato@enron.com\\nSubject: Re:\\nMime-Version: 1.0\\nContent-Type: text/plain; charset=us-ascii\\nContent-Transfer-Encoding: 7bit\\nX-From: Phillip K Allen\\nX-To: John J Lavorato <John J Lavorato/ENRON@enronXgate@ENRON>\\nX-cc: \\nX-bcc: \\nX-Folder: \\\\Phillip_Allen_Jan2002_1\\\\Allen, Phillip K.\\\\'Sent Mail\\nX-Origin: Allen-P\\nX-FileName: pallen (Non-Privileged).pst\\n\\nTraveling to have a business meeting takes the fun out of the trip.  Especially if you have to prepare a presentation.  I would suggest holding the business plan meetings here then take a trip without any formal business meetings.  I would even try and get some honest opinions on whether a trip is even desired or necessary.\\n\\nAs far as the business meetings, I think it would be more productive to try and stimulate discussions across the different groups about what is working and what is not.  Too often the presenter speaks and the others are quiet just waiting for their turn.   The meetings might be better if held in a round table discussion format.  \\n\\nMy suggestion for where to go is Austin.  Play golf and rent a ski boat and jet ski's.  Flying somewhere takes too much time.\\n\"),\n",
       " (u'<24216240.1075855687451.JavaMail.evans@thyme>',\n",
       "  u'Wed, 18 Oct 2000 03:00:00 -0700 (PDT)',\n",
       "  u'leah.arsdall@enron.com',\n",
       "  u'phillip.allen@enron.com',\n",
       "  u\"Message-ID: <24216240.1075855687451.JavaMail.evans@thyme>\\nDate: Wed, 18 Oct 2000 03:00:00 -0700 (PDT)\\nFrom: phillip.allen@enron.com\\nTo: leah.arsdall@enron.com\\nSubject: Re: test\\nMime-Version: 1.0\\nContent-Type: text/plain; charset=us-ascii\\nContent-Transfer-Encoding: 7bit\\nX-From: Phillip K Allen\\nX-To: Leah Van Arsdall\\nX-cc: \\nX-bcc: \\nX-Folder: \\\\Phillip_Allen_Dec2000\\\\Notes Folders\\\\'sent mail\\nX-Origin: Allen-P\\nX-FileName: pallen.nsf\\n\\ntest successful.  way to go!!!\")]"
      ]
     },
     "execution_count": 9,
     "metadata": {},
     "output_type": "execute_result"
    }
   ],
   "source": [
    "vmes_rdd.take(3)"
   ]
  },
  {
   "cell_type": "markdown",
   "metadata": {},
   "source": [
    "Convert to dataframe and make sure it looks ok, so we can use csv write with quote options"
   ]
  },
  {
   "cell_type": "code",
   "execution_count": 10,
   "metadata": {
    "collapsed": false
   },
   "outputs": [],
   "source": [
    "messages_df = sqlContext.createDataFrame(vmes_rdd, ['message_id', 'message_date', 'message_to', 'message_from', 'message_text'])"
   ]
  },
  {
   "cell_type": "code",
   "execution_count": 11,
   "metadata": {
    "collapsed": false
   },
   "outputs": [
    {
     "name": "stdout",
     "output_type": "stream",
     "text": [
      "+--------------------+--------------------+--------------------+--------------------+--------------------+\n",
      "|          message_id|        message_date|          message_to|        message_from|        message_text|\n",
      "+--------------------+--------------------+--------------------+--------------------+--------------------+\n",
      "|<18782981.1075855...|Mon, 14 May 2001 ...|tim.belden@enron.com|phillip.allen@enr...|Message-ID: <1878...|\n",
      "|<15464986.1075855...|Fri, 4 May 2001 1...|john.lavorato@enr...|phillip.allen@enr...|Message-ID: <1546...|\n",
      "|<24216240.1075855...|Wed, 18 Oct 2000 ...|leah.arsdall@enro...|phillip.allen@enr...|Message-ID: <2421...|\n",
      "|<13505866.1075863...|Mon, 23 Oct 2000 ...|randall.gay@enron...|phillip.allen@enr...|Message-ID: <1350...|\n",
      "|<30922949.1075863...|Thu, 31 Aug 2000 ...|greg.piper@enron.com|phillip.allen@enr...|Message-ID: <3092...|\n",
      "+--------------------+--------------------+--------------------+--------------------+--------------------+\n",
      "only showing top 5 rows\n",
      "\n"
     ]
    }
   ],
   "source": [
    "messages_df.show(5)"
   ]
  },
  {
   "cell_type": "markdown",
   "metadata": {},
   "source": [
    "Write to CSV with quotes around text"
   ]
  },
  {
   "cell_type": "code",
   "execution_count": 12,
   "metadata": {
    "collapsed": false
   },
   "outputs": [],
   "source": [
    "messages_df.coalesce(1).write.option(\"header\", True).option(\"quoteAll\", True).csv('./data/parsed_messages.csv')"
   ]
  },
  {
   "cell_type": "code",
   "execution_count": null,
   "metadata": {
    "collapsed": true
   },
   "outputs": [],
   "source": []
  }
 ],
 "metadata": {
  "kernelspec": {
   "display_name": "Python 2",
   "language": "python",
   "name": "python2"
  },
  "language_info": {
   "codemirror_mode": {
    "name": "ipython",
    "version": 2
   },
   "file_extension": ".py",
   "mimetype": "text/x-python",
   "name": "python",
   "nbconvert_exporter": "python",
   "pygments_lexer": "ipython2",
   "version": "2.7.14"
  }
 },
 "nbformat": 4,
 "nbformat_minor": 1
}
