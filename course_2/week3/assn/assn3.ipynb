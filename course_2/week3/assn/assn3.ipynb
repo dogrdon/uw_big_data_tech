{
 "cells": [
  {
   "cell_type": "markdown",
   "metadata": {},
   "source": [
    "### Assn Week 3"
   ]
  },
  {
   "cell_type": "code",
   "execution_count": 4,
   "metadata": {
    "collapsed": true
   },
   "outputs": [],
   "source": [
    "import pyspark as ps\n",
    "import pyspark.sql.functions as func\n",
    "from pyspark.sql.types import *\n",
    "from pyspark.ml.feature import Bucketizer"
   ]
  },
  {
   "cell_type": "markdown",
   "metadata": {},
   "source": [
    "Make sure spark and sql context exist"
   ]
  },
  {
   "cell_type": "code",
   "execution_count": 6,
   "metadata": {},
   "outputs": [
    {
     "data": {
      "text/plain": [
       "<pyspark.context.SparkContext at 0x7fe8ceae27b8>"
      ]
     },
     "execution_count": 6,
     "metadata": {},
     "output_type": "execute_result"
    }
   ],
   "source": [
    "sc"
   ]
  },
  {
   "cell_type": "code",
   "execution_count": 7,
   "metadata": {},
   "outputs": [
    {
     "data": {
      "text/plain": [
       "<pyspark.sql.context.SQLContext at 0x7fe8ce4fd898>"
      ]
     },
     "execution_count": 7,
     "metadata": {},
     "output_type": "execute_result"
    }
   ],
   "source": [
    "sqlContext"
   ]
  },
  {
   "cell_type": "markdown",
   "metadata": {},
   "source": [
    "Load data from Sqoop command ran earlier"
   ]
  },
  {
   "cell_type": "code",
   "execution_count": 8,
   "metadata": {},
   "outputs": [],
   "source": [
    "transactions = sqlContext.read.parquet(\"hdfs://sandbox.hortonworks.com:8020/tmp/transactions_denormalized\")"
   ]
  },
  {
   "cell_type": "code",
   "execution_count": 9,
   "metadata": {},
   "outputs": [
    {
     "name": "stdout",
     "output_type": "stream",
     "text": [
      "+-------------+-----------+---+----------+--------+-----------+--------+-----------------+-----------+-----------+----------+-------+--------+-------------------+-----------+--------------+-------------+-------------------+-----------------+------------+--------------------+--------------------+------------+--------+--------------------+\n",
      "|HOUSEHOLD_KEY|  BASKET_ID|DAY|PRODUCT_ID|QUANTITY|SALES_VALUE|STORE_ID|COUPON_MATCH_DISC|COUPON_DISC|RETAIL_DISC|TRANS_TIME|WEEK_NO|AGE_DESC|MARITAL_STATUS_CODE|INCOME_DESC|HOMEOWNER_DESC| HH_COMP_DESC|HOUSEHOLD_SIZE_DESC|KID_CATEGORY_DESC|  DEPARTMENT|      COMMODITY_DESC|  SUB_COMMODITY_DESC|MANUFACTURER|   BRAND|CURR_SIZE_OF_PRODUCT|\n",
      "+-------------+-----------+---+----------+--------+-----------+--------+-----------------+-----------+-----------+----------+-------+--------+-------------------+-----------+--------------+-------------+-------------------+-----------------+------------+--------------------+--------------------+------------+--------+--------------------+\n",
      "|         2375|26984851472|  1|   1004906|       1|       1.39|     364|              0.0|        0.0|       -0.6|      1631|      1|    null|               null|       null|          null|         null|               null|             null|     PRODUCE|            POTATOES|POTATOES RUSSET (...|          69| Private|                5 LB|\n",
      "|         2375|26984851472|  1|   1033142|       1|       0.82|     364|              0.0|        0.0|        0.0|      1631|      1|    null|               null|       null|          null|         null|               null|             null|     PRODUCE|              ONIONS|ONIONS SWEET (BUL...|           2|National|               40 LB|\n",
      "|         2375|26984851472|  1|   1036325|       1|       0.99|     364|              0.0|        0.0|       -0.3|      1631|      1|    null|               null|       null|          null|         null|               null|             null|     PRODUCE|VEGETABLES - ALL ...|              CELERY|          69| Private|                    |\n",
      "|         2375|26984851472|  1|   1082185|       1|       1.21|     364|              0.0|        0.0|        0.0|      1631|      1|    null|               null|       null|          null|         null|               null|             null|     PRODUCE|      TROPICAL FRUIT|             BANANAS|           2|National|               40 LB|\n",
      "|         2375|26984851472|  1|   8160430|       1|        1.5|     364|              0.0|        0.0|      -0.39|      1631|      1|    null|               null|       null|          null|         null|               null|             null|     PRODUCE|ORGANICS FRUIT & ...|     ORGANIC CARROTS|          69| Private|                1 LB|\n",
      "|         2375|26984851516|  1|    826249|       2|       1.98|     364|              0.0|        0.0|       -0.6|      1642|      1|    null|               null|       null|          null|         null|               null|             null|     GROCERY|BAKED BREAD/BUNS/...|      HAMBURGER BUNS|          69| Private|               12 OZ|\n",
      "|         2375|26984851516|  1|   1043142|       1|       1.57|     364|              0.0|        0.0|      -0.68|      1642|      1|    null|               null|       null|          null|         null|               null|             null|     DRUG GM|     BROOMS AND MOPS|SPONGES: BATH HOU...|         321|National|                    |\n",
      "|         2375|26984851516|  1|   1085983|       1|       2.99|     364|              0.0|        0.0|       -0.4|      1642|      1|    null|               null|       null|          null|         null|               null|             null|     GROCERY|       COOKIES/CONES|TRAY PACK/CHOC CH...|         586|National|               18 OZ|\n",
      "|         2375|26984851516|  1|   1102651|       1|       1.89|     364|              0.0|        0.0|        0.0|      1642|      1|    null|               null|       null|          null|         null|               null|             null|     GROCERY|  PNT BTR/JELLY/JAMS|       PEANUT BUTTER|        1266|National|               12 OZ|\n",
      "|         2375|26984851516|  1|   6423775|       1|        2.0|     364|              0.0|        0.0|      -0.79|      1642|      1|    null|               null|       null|          null|         null|               null|             null|     GROCERY|       COOKIES/CONES|     GRAHAM CRACKERS|         586|National|               11 OZ|\n",
      "|         2375|26984851516|  1|   9487839|       1|        2.0|     364|              0.0|        0.0|      -0.79|      1642|      1|    null|               null|       null|          null|         null|               null|             null|     GROCERY|       COOKIES/CONES|     GRAHAM CRACKERS|         586|National|               11 OZ|\n",
      "|         2052|26985246477|  1|    850834|       1|       1.91|     400|              0.0|        0.0|      -1.28|      1445|      1|    null|               null|       null|          null|         null|               null|             null|     GROCERY|FRZN MEAT/MEAT DI...|FRZN SS PREMIUM E...|        1230|National|            11.75 OZ|\n",
      "|         2052|26985246477|  1|    893811|       1|       1.91|     400|              0.0|        0.0|      -1.28|      1445|      1|    null|               null|       null|          null|         null|               null|             null|     GROCERY|FRZN MEAT/MEAT DI...|FRZN SS PREMIUM E...|        1230|National|               11 OZ|\n",
      "|         2052|26985246477|  1|   1026209|       2|       3.82|     400|              0.0|        0.0|      -2.56|      1445|      1|    null|               null|       null|          null|         null|               null|             null|     GROCERY|FRZN MEAT/MEAT DI...|FRZN SS PREMIUM E...|        1230|National|               12 OZ|\n",
      "|         2052|26985246477|  1|   1134472|       1|       1.91|     400|              0.0|        0.0|      -1.28|      1445|      1|    null|               null|       null|          null|         null|               null|             null|     GROCERY|FRZN MEAT/MEAT DI...|FRZN SS PREMIUM E...|        1230|National|             10.7 OZ|\n",
      "|         2052|26985246477|  1|   6391267|       1|       2.99|     400|              0.0|        0.0|       -1.7|      1445|      1|    null|               null|       null|          null|         null|               null|             null|     GROCERY|FRZN NOVELTIES/WT...|       ADULT PREMIUM|        1807|National|                6 CT|\n",
      "|         2052|26985246477|  1|   9419268|       1|       1.73|     400|              0.0|        0.0|      -1.16|      1445|      1|    null|               null|       null|          null|         null|               null|             null|     GROCERY|FRZN MEAT/MEAT DI...|FRZN SS PREMIUM E...|        1807|National|             10.6 OZ|\n",
      "|         2483|26992197681|  1|   3843566|       2|        5.0|    2602|              0.0|        0.0|      -0.98|      1823|      1|   45-54|                  B|     75-99K|     Homeowner|  Single Male|                  1|     None/Unknown|VIDEO RENTAL|             UNKNOWN|       VIDEO RENTALS|           2|National|                    |\n",
      "|         2305|26996870743|  2|    823862|       1|       4.59|     414|              0.0|        0.0|       -0.4|      1300|      1|   45-54|                  B|     50-74K|     Homeowner|Single Female|                  1|     None/Unknown|        DELI|     CHICKEN/POULTRY|CHIX: ROTISSERIE ...|          69| Private|                    |\n",
      "|         2305|26996870743|  2|    859610|       2|       9.44|     414|              0.0|        0.0|        0.0|      1300|      1|   45-54|                  B|     50-74K|     Homeowner|Single Female|                  1|     None/Unknown|        MEAT|                BEEF|GRND/PATTY - SIRL...|        3665|National|                    |\n",
      "+-------------+-----------+---+----------+--------+-----------+--------+-----------------+-----------+-----------+----------+-------+--------+-------------------+-----------+--------------+-------------+-------------------+-----------------+------------+--------------------+--------------------+------------+--------+--------------------+\n",
      "only showing top 20 rows\n",
      "\n"
     ]
    }
   ],
   "source": [
    "transactions.show()"
   ]
  },
  {
   "cell_type": "code",
   "execution_count": 10,
   "metadata": {},
   "outputs": [
    {
     "data": {
      "text/plain": [
       "2595732"
      ]
     },
     "execution_count": 10,
     "metadata": {},
     "output_type": "execute_result"
    }
   ],
   "source": [
    "transactions.count()"
   ]
  },
  {
   "cell_type": "code",
   "execution_count": 11,
   "metadata": {},
   "outputs": [
    {
     "data": {
      "text/plain": [
       "['HOUSEHOLD_KEY',\n",
       " 'BASKET_ID',\n",
       " 'DAY',\n",
       " 'PRODUCT_ID',\n",
       " 'QUANTITY',\n",
       " 'SALES_VALUE',\n",
       " 'STORE_ID',\n",
       " 'COUPON_MATCH_DISC',\n",
       " 'COUPON_DISC',\n",
       " 'RETAIL_DISC',\n",
       " 'TRANS_TIME',\n",
       " 'WEEK_NO',\n",
       " 'AGE_DESC',\n",
       " 'MARITAL_STATUS_CODE',\n",
       " 'INCOME_DESC',\n",
       " 'HOMEOWNER_DESC',\n",
       " 'HH_COMP_DESC',\n",
       " 'HOUSEHOLD_SIZE_DESC',\n",
       " 'KID_CATEGORY_DESC',\n",
       " 'DEPARTMENT',\n",
       " 'COMMODITY_DESC',\n",
       " 'SUB_COMMODITY_DESC',\n",
       " 'MANUFACTURER',\n",
       " 'BRAND',\n",
       " 'CURR_SIZE_OF_PRODUCT']"
      ]
     },
     "execution_count": 11,
     "metadata": {},
     "output_type": "execute_result"
    }
   ],
   "source": [
    "transactions.columns"
   ]
  },
  {
   "cell_type": "markdown",
   "metadata": {},
   "source": [
    "Check to see how many individual households in data"
   ]
  },
  {
   "cell_type": "code",
   "execution_count": 12,
   "metadata": {},
   "outputs": [
    {
     "data": {
      "text/plain": [
       "2500"
      ]
     },
     "execution_count": 12,
     "metadata": {},
     "output_type": "execute_result"
    }
   ],
   "source": [
    "transactions.select('HOUSEHOLD_KEY').distinct().count()"
   ]
  },
  {
   "cell_type": "markdown",
   "metadata": {},
   "source": [
    "Get scores for all records"
   ]
  },
  {
   "cell_type": "code",
   "execution_count": 13,
   "metadata": {
    "collapsed": true
   },
   "outputs": [],
   "source": [
    "all_scores = transactions.groupBy('HOUSEHOLD_KEY').agg(func.max(\"DAY\").alias('recency'),\n",
    "                                                   func.countDistinct(\"BASKET_ID\").alias('frequency'),\n",
    "                                                   func.floor(func.sum(\"SALES_VALUE\")).alias(\"monetary_value\")\n",
    "                                                  ).orderBy('recency', ascending=False).orderBy('frequency', ascending=False).orderBy('monetary_value', ascending=False)"
   ]
  },
  {
   "cell_type": "code",
   "execution_count": 14,
   "metadata": {},
   "outputs": [
    {
     "name": "stdout",
     "output_type": "stream",
     "text": [
      "+-------------+-------+---------+--------------+\n",
      "|HOUSEHOLD_KEY|recency|frequency|monetary_value|\n",
      "+-------------+-------+---------+--------------+\n",
      "|         1023|    710|      603|         38319|\n",
      "|         1609|    711|      412|         27859|\n",
      "|         2322|    711|      323|         23646|\n",
      "|         1453|    710|      761|         21661|\n",
      "|         2459|    704|      971|         20671|\n",
      "|         1430|    711|      344|         20352|\n",
      "|          718|    707|      599|         19299|\n",
      "|          707|    711|      498|         19194|\n",
      "|         1653|    710|      541|         19153|\n",
      "|         1111|    707|      321|         18894|\n",
      "|          982|    710|      412|         18790|\n",
      "|          400|    711|      310|         18494|\n",
      "|         1229|    711|      385|         18304|\n",
      "|         1975|    710|      363|         17548|\n",
      "|          328|    708|      239|         17332|\n",
      "|         1527|    710|      321|         17295|\n",
      "|         1489|    710|      536|         17251|\n",
      "|         2284|    710|      265|         17152|\n",
      "|         2264|    710|      315|         16960|\n",
      "|         1864|    710|      164|         16941|\n",
      "+-------------+-------+---------+--------------+\n",
      "only showing top 20 rows\n",
      "\n"
     ]
    }
   ],
   "source": [
    "all_scores.show()"
   ]
  },
  {
   "cell_type": "markdown",
   "metadata": {},
   "source": [
    "Dump all scores to csv"
   ]
  },
  {
   "cell_type": "code",
   "execution_count": 51,
   "metadata": {
    "collapsed": true
   },
   "outputs": [],
   "source": [
    "all_scores.coalesce(1).write.option(\"header\", True).csv('hdfs://sandbox.hortonworks.com:8020/tmp/all_scores')"
   ]
  },
  {
   "cell_type": "markdown",
   "metadata": {},
   "source": [
    "Filter data down to homeowners only"
   ]
  },
  {
   "cell_type": "code",
   "execution_count": 21,
   "metadata": {
    "collapsed": true
   },
   "outputs": [],
   "source": [
    "howner_transactions = transactions.filter(transactions['HOMEOWNER_DESC']==\"Homeowner\")"
   ]
  },
  {
   "cell_type": "code",
   "execution_count": 22,
   "metadata": {},
   "outputs": [
    {
     "data": {
      "text/plain": [
       "925441"
      ]
     },
     "execution_count": 22,
     "metadata": {},
     "output_type": "execute_result"
    }
   ],
   "source": [
    "howner_transactions.count()"
   ]
  },
  {
   "cell_type": "markdown",
   "metadata": {},
   "source": [
    "Calculate scores for homeowners only"
   ]
  },
  {
   "cell_type": "code",
   "execution_count": 23,
   "metadata": {
    "collapsed": true
   },
   "outputs": [],
   "source": [
    "howner_scores = howner_transactions.groupBy('HOUSEHOLD_KEY').agg(func.max(\"DAY\").alias('recency'),\n",
    "                                                   func.countDistinct(\"BASKET_ID\").alias('frequency'),\n",
    "                                                   func.floor(func.sum(\"SALES_VALUE\")).alias(\"monetary_value\")\n",
    "                                                  ).orderBy('recency', ascending=False).orderBy('frequency', ascending=False).orderBy('monetary_value', ascending=False)"
   ]
  },
  {
   "cell_type": "code",
   "execution_count": 24,
   "metadata": {},
   "outputs": [
    {
     "name": "stdout",
     "output_type": "stream",
     "text": [
      "+-------------+-------+---------+--------------+\n",
      "|HOUSEHOLD_KEY|recency|frequency|monetary_value|\n",
      "+-------------+-------+---------+--------------+\n",
      "|         1609|    711|      412|         27859|\n",
      "|         2322|    711|      323|         23646|\n",
      "|         1453|    710|      761|         21661|\n",
      "|         1430|    711|      344|         20352|\n",
      "|          718|    707|      599|         19299|\n",
      "|          707|    711|      498|         19194|\n",
      "|         1653|    710|      541|         19153|\n",
      "|          400|    711|      310|         18494|\n",
      "|         1229|    711|      385|         18304|\n",
      "|         1527|    710|      321|         17295|\n",
      "|         2284|    710|      265|         17152|\n",
      "|         2264|    710|      315|         16960|\n",
      "|         1864|    710|      164|         16941|\n",
      "|         2351|    708|      322|         16616|\n",
      "|          900|    711|     1223|         16450|\n",
      "|          371|    711|      161|         15716|\n",
      "|         1762|    711|      344|         15360|\n",
      "|          113|    709|      223|         15324|\n",
      "|         1142|    710|      284|         15178|\n",
      "|         1475|    710|      339|         14855|\n",
      "+-------------+-------+---------+--------------+\n",
      "only showing top 20 rows\n",
      "\n"
     ]
    }
   ],
   "source": [
    "howner_scores.show()"
   ]
  },
  {
   "cell_type": "code",
   "execution_count": 25,
   "metadata": {
    "collapsed": true
   },
   "outputs": [],
   "source": [
    "howner_scores.coalesce(1).write.option(\"header\", True).csv('hdfs://sandbox.hortonworks.com:8020/tmp/howner_scores')"
   ]
  },
  {
   "cell_type": "markdown",
   "metadata": {},
   "source": [
    "## Bonus 1."
   ]
  },
  {
   "cell_type": "markdown",
   "metadata": {},
   "source": [
    "Filter out all alchohol sales"
   ]
  },
  {
   "cell_type": "code",
   "execution_count": 26,
   "metadata": {
    "collapsed": true
   },
   "outputs": [],
   "source": [
    "no_alcohol = transactions.filter(transactions['DEPARTMENT'] != \"SPIRITS\")"
   ]
  },
  {
   "cell_type": "code",
   "execution_count": 27,
   "metadata": {},
   "outputs": [
    {
     "data": {
      "text/plain": [
       "2593613"
      ]
     },
     "execution_count": 27,
     "metadata": {},
     "output_type": "execute_result"
    }
   ],
   "source": [
    "no_alcohol.count()"
   ]
  },
  {
   "cell_type": "markdown",
   "metadata": {},
   "source": [
    "Not that many were removed, let's just make sure they are not there"
   ]
  },
  {
   "cell_type": "code",
   "execution_count": 29,
   "metadata": {},
   "outputs": [
    {
     "name": "stdout",
     "output_type": "stream",
     "text": [
      "+---------------+\n",
      "|     DEPARTMENT|\n",
      "+---------------+\n",
      "|TRAVEL & LEISUR|\n",
      "|      KIOSK-GAS|\n",
      "|      COSMETICS|\n",
      "|  POSTAL CENTER|\n",
      "|           MEAT|\n",
      "| COUP/STR & MFG|\n",
      "|      NUTRITION|\n",
      "|           PORK|\n",
      "|        PRODUCE|\n",
      "| PROD-WHS SALES|\n",
      "|     AUTOMOTIVE|\n",
      "|  SEAFOOD-PCKGD|\n",
      "|   VIDEO RENTAL|\n",
      "|     MEAT-PCKGD|\n",
      "|     GRO BAKERY|\n",
      "|CHARITABLE CONT|\n",
      "|           TOYS|\n",
      "| DELI/SNACK BAR|\n",
      "|CNTRL/STORE SUP|\n",
      "|  GARDEN CENTER|\n",
      "+---------------+\n",
      "only showing top 20 rows\n",
      "\n"
     ]
    }
   ],
   "source": [
    "no_alcohol.select('DEPARTMENT').distinct().show()"
   ]
  },
  {
   "cell_type": "markdown",
   "metadata": {},
   "source": [
    "Calculate scores"
   ]
  },
  {
   "cell_type": "code",
   "execution_count": 30,
   "metadata": {
    "collapsed": true
   },
   "outputs": [],
   "source": [
    "no_alcohol_scores = no_alcohol.groupBy('HOUSEHOLD_KEY').agg(func.max(\"DAY\").alias('recency'),\n",
    "                                                   func.countDistinct(\"BASKET_ID\").alias('frequency'),\n",
    "                                                   func.floor(func.sum(\"SALES_VALUE\")).alias(\"monetary_value\")\n",
    "                                                  ).orderBy('recency', ascending=False).orderBy('frequency', ascending=False).orderBy('monetary_value', ascending=False)"
   ]
  },
  {
   "cell_type": "code",
   "execution_count": 31,
   "metadata": {},
   "outputs": [
    {
     "name": "stdout",
     "output_type": "stream",
     "text": [
      "+-------------+-------+---------+--------------+\n",
      "|HOUSEHOLD_KEY|recency|frequency|monetary_value|\n",
      "+-------------+-------+---------+--------------+\n",
      "|         1023|    710|      603|         38269|\n",
      "|         1609|    711|      412|         27859|\n",
      "|         2322|    711|      323|         23573|\n",
      "|         1453|    710|      761|         21653|\n",
      "|         2459|    704|      971|         20671|\n",
      "|         1430|    711|      344|         20352|\n",
      "|          718|    707|      599|         19299|\n",
      "|         1653|    710|      541|         19153|\n",
      "|         1111|    707|      321|         18816|\n",
      "|          982|    710|      412|         18790|\n",
      "|          707|    711|      498|         18749|\n",
      "|          400|    711|      310|         18494|\n",
      "|         1229|    711|      385|         18300|\n",
      "|         1975|    710|      363|         17479|\n",
      "|          328|    708|      239|         17327|\n",
      "|         1489|    710|      536|         17251|\n",
      "|         1527|    710|      321|         17221|\n",
      "|         2284|    710|      265|         17144|\n",
      "|         2264|    710|      315|         16952|\n",
      "|         1864|    710|      164|         16937|\n",
      "+-------------+-------+---------+--------------+\n",
      "only showing top 20 rows\n",
      "\n"
     ]
    }
   ],
   "source": [
    "no_alcohol_scores.show()"
   ]
  },
  {
   "cell_type": "code",
   "execution_count": 32,
   "metadata": {
    "collapsed": true
   },
   "outputs": [],
   "source": [
    "no_alcohol_scores.coalesce(1).write.option(\"header\", True).csv('hdfs://sandbox.hortonworks.com:8020/tmp/noalcohol_scores')"
   ]
  },
  {
   "cell_type": "markdown",
   "metadata": {},
   "source": [
    "## Bonus 2."
   ]
  },
  {
   "cell_type": "markdown",
   "metadata": {},
   "source": [
    "Calculate quantiles for given splits"
   ]
  },
  {
   "cell_type": "code",
   "execution_count": 33,
   "metadata": {
    "collapsed": true
   },
   "outputs": [],
   "source": [
    "recency_quantiles = all_scores.stat.approxQuantile(\"recency\", [0.00,0.33,0.66,1.00], 0)"
   ]
  },
  {
   "cell_type": "code",
   "execution_count": 34,
   "metadata": {
    "collapsed": true
   },
   "outputs": [],
   "source": [
    "frequency_quantiles = all_scores.stat.approxQuantile(\"frequency\", [0.00,0.33,0.66,1.00], 0)"
   ]
  },
  {
   "cell_type": "code",
   "execution_count": 35,
   "metadata": {
    "collapsed": true
   },
   "outputs": [],
   "source": [
    "monetary_quantiles = all_scores.stat.approxQuantile(\"monetary_value\", [0.00,0.33,0.66,1.00], 0)"
   ]
  },
  {
   "cell_type": "code",
   "execution_count": 36,
   "metadata": {},
   "outputs": [
    {
     "data": {
      "text/plain": [
       "[54.0, 697.0, 708.0, 711.0]"
      ]
     },
     "execution_count": 36,
     "metadata": {},
     "output_type": "execute_result"
    }
   ],
   "source": [
    "recency_quantiles"
   ]
  },
  {
   "cell_type": "code",
   "execution_count": 37,
   "metadata": {},
   "outputs": [
    {
     "data": {
      "text/plain": [
       "[1.0, 49.0, 115.0, 1300.0]"
      ]
     },
     "execution_count": 37,
     "metadata": {},
     "output_type": "execute_result"
    }
   ],
   "source": [
    "frequency_quantiles"
   ]
  },
  {
   "cell_type": "code",
   "execution_count": 38,
   "metadata": {},
   "outputs": [
    {
     "data": {
      "text/plain": [
       "[8.0, 1274.0, 3273.0, 38319.0]"
      ]
     },
     "execution_count": 38,
     "metadata": {},
     "output_type": "execute_result"
    }
   ],
   "source": [
    "monetary_quantiles"
   ]
  },
  {
   "cell_type": "markdown",
   "metadata": {},
   "source": [
    "Convert integers to Doubles so that we can us the ML bucketizer"
   ]
  },
  {
   "cell_type": "code",
   "execution_count": 39,
   "metadata": {
    "collapsed": true
   },
   "outputs": [],
   "source": [
    "all_scores_cast = all_scores.withColumn('recency_dbl', all_scores.recency.cast(DoubleType())).withColumn('frequency_dbl', all_scores.frequency.cast(DoubleType())).withColumn('monetary_value_dbl', all_scores.monetary_value.cast(DoubleType()))"
   ]
  },
  {
   "cell_type": "markdown",
   "metadata": {},
   "source": [
    "Iterate through dataframes and bucketize each column of interest to have one final data frame with scores"
   ]
  },
  {
   "cell_type": "code",
   "execution_count": 42,
   "metadata": {
    "collapsed": true
   },
   "outputs": [],
   "source": [
    "r_scored = Bucketizer(splits=recency_quantiles, inputCol=\"recency_dbl\",outputCol=\"r_score\").transform(all_scores_cast)"
   ]
  },
  {
   "cell_type": "code",
   "execution_count": 43,
   "metadata": {
    "collapsed": true
   },
   "outputs": [],
   "source": [
    "f_scored = Bucketizer(splits=frequency_quantiles, inputCol=\"frequency_dbl\",outputCol=\"f_score\").transform(r_scored)"
   ]
  },
  {
   "cell_type": "code",
   "execution_count": 44,
   "metadata": {
    "collapsed": true
   },
   "outputs": [],
   "source": [
    "all_quantile_scored = Bucketizer(splits=monetary_quantiles, inputCol=\"monetary_value_dbl\",outputCol=\"m_score\").transform(f_scored)"
   ]
  },
  {
   "cell_type": "code",
   "execution_count": 45,
   "metadata": {},
   "outputs": [
    {
     "name": "stdout",
     "output_type": "stream",
     "text": [
      "+-------------+-------+---------+--------------+-----------+-------------+------------------+-------+-------+-------+\n",
      "|HOUSEHOLD_KEY|recency|frequency|monetary_value|recency_dbl|frequency_dbl|monetary_value_dbl|r_score|f_score|m_score|\n",
      "+-------------+-------+---------+--------------+-----------+-------------+------------------+-------+-------+-------+\n",
      "|         1023|    710|      603|         38319|      710.0|        603.0|           38319.0|    2.0|    2.0|    2.0|\n",
      "|         1609|    711|      412|         27859|      711.0|        412.0|           27859.0|    2.0|    2.0|    2.0|\n",
      "|         2322|    711|      323|         23646|      711.0|        323.0|           23646.0|    2.0|    2.0|    2.0|\n",
      "|         1453|    710|      761|         21661|      710.0|        761.0|           21661.0|    2.0|    2.0|    2.0|\n",
      "|         2459|    704|      971|         20671|      704.0|        971.0|           20671.0|    1.0|    2.0|    2.0|\n",
      "|         1430|    711|      344|         20352|      711.0|        344.0|           20352.0|    2.0|    2.0|    2.0|\n",
      "|          718|    707|      599|         19299|      707.0|        599.0|           19299.0|    1.0|    2.0|    2.0|\n",
      "|          707|    711|      498|         19194|      711.0|        498.0|           19194.0|    2.0|    2.0|    2.0|\n",
      "|         1653|    710|      541|         19153|      710.0|        541.0|           19153.0|    2.0|    2.0|    2.0|\n",
      "|         1111|    707|      321|         18894|      707.0|        321.0|           18894.0|    1.0|    2.0|    2.0|\n",
      "|          982|    710|      412|         18790|      710.0|        412.0|           18790.0|    2.0|    2.0|    2.0|\n",
      "|          400|    711|      310|         18494|      711.0|        310.0|           18494.0|    2.0|    2.0|    2.0|\n",
      "|         1229|    711|      385|         18304|      711.0|        385.0|           18304.0|    2.0|    2.0|    2.0|\n",
      "|         1975|    710|      363|         17548|      710.0|        363.0|           17548.0|    2.0|    2.0|    2.0|\n",
      "|          328|    708|      239|         17332|      708.0|        239.0|           17332.0|    2.0|    2.0|    2.0|\n",
      "|         1527|    710|      321|         17295|      710.0|        321.0|           17295.0|    2.0|    2.0|    2.0|\n",
      "|         1489|    710|      536|         17251|      710.0|        536.0|           17251.0|    2.0|    2.0|    2.0|\n",
      "|         2284|    710|      265|         17152|      710.0|        265.0|           17152.0|    2.0|    2.0|    2.0|\n",
      "|         2264|    710|      315|         16960|      710.0|        315.0|           16960.0|    2.0|    2.0|    2.0|\n",
      "|         1864|    710|      164|         16941|      710.0|        164.0|           16941.0|    2.0|    2.0|    2.0|\n",
      "+-------------+-------+---------+--------------+-----------+-------------+------------------+-------+-------+-------+\n",
      "only showing top 20 rows\n",
      "\n"
     ]
    }
   ],
   "source": [
    "all_quantile_scored.show()"
   ]
  },
  {
   "cell_type": "markdown",
   "metadata": {},
   "source": [
    "And let's then only get the customers with the top score in all scored columns"
   ]
  },
  {
   "cell_type": "code",
   "execution_count": 46,
   "metadata": {
    "collapsed": true
   },
   "outputs": [],
   "source": [
    "top_customers = all_quantile_scored.where((all_quantile_scored.r_score == 2) & \n",
    "                                         (all_quantile_scored.f_score == 2) & \n",
    "                                         (all_quantile_scored.m_score == 2))"
   ]
  },
  {
   "cell_type": "code",
   "execution_count": 47,
   "metadata": {},
   "outputs": [
    {
     "data": {
      "text/plain": [
       "427"
      ]
     },
     "execution_count": 47,
     "metadata": {},
     "output_type": "execute_result"
    }
   ],
   "source": [
    "top_customers.count()"
   ]
  },
  {
   "cell_type": "code",
   "execution_count": 49,
   "metadata": {},
   "outputs": [
    {
     "name": "stdout",
     "output_type": "stream",
     "text": [
      "+-------------+-------+---------+--------------+-----------+-------------+------------------+-------+-------+-------+\n",
      "|HOUSEHOLD_KEY|recency|frequency|monetary_value|recency_dbl|frequency_dbl|monetary_value_dbl|r_score|f_score|m_score|\n",
      "+-------------+-------+---------+--------------+-----------+-------------+------------------+-------+-------+-------+\n",
      "|         1023|    710|      603|         38319|      710.0|        603.0|           38319.0|    2.0|    2.0|    2.0|\n",
      "|         1609|    711|      412|         27859|      711.0|        412.0|           27859.0|    2.0|    2.0|    2.0|\n",
      "|         2322|    711|      323|         23646|      711.0|        323.0|           23646.0|    2.0|    2.0|    2.0|\n",
      "|         1453|    710|      761|         21661|      710.0|        761.0|           21661.0|    2.0|    2.0|    2.0|\n",
      "|         1430|    711|      344|         20352|      711.0|        344.0|           20352.0|    2.0|    2.0|    2.0|\n",
      "|          707|    711|      498|         19194|      711.0|        498.0|           19194.0|    2.0|    2.0|    2.0|\n",
      "|         1653|    710|      541|         19153|      710.0|        541.0|           19153.0|    2.0|    2.0|    2.0|\n",
      "|          982|    710|      412|         18790|      710.0|        412.0|           18790.0|    2.0|    2.0|    2.0|\n",
      "|          400|    711|      310|         18494|      711.0|        310.0|           18494.0|    2.0|    2.0|    2.0|\n",
      "|         1229|    711|      385|         18304|      711.0|        385.0|           18304.0|    2.0|    2.0|    2.0|\n",
      "|         1975|    710|      363|         17548|      710.0|        363.0|           17548.0|    2.0|    2.0|    2.0|\n",
      "|          328|    708|      239|         17332|      708.0|        239.0|           17332.0|    2.0|    2.0|    2.0|\n",
      "|         1527|    710|      321|         17295|      710.0|        321.0|           17295.0|    2.0|    2.0|    2.0|\n",
      "|         1489|    710|      536|         17251|      710.0|        536.0|           17251.0|    2.0|    2.0|    2.0|\n",
      "|         2284|    710|      265|         17152|      710.0|        265.0|           17152.0|    2.0|    2.0|    2.0|\n",
      "|         2264|    710|      315|         16960|      710.0|        315.0|           16960.0|    2.0|    2.0|    2.0|\n",
      "|         1864|    710|      164|         16941|      710.0|        164.0|           16941.0|    2.0|    2.0|    2.0|\n",
      "|         2351|    708|      322|         16616|      708.0|        322.0|           16616.0|    2.0|    2.0|    2.0|\n",
      "|          900|    711|     1223|         16450|      711.0|       1223.0|           16450.0|    2.0|    2.0|    2.0|\n",
      "|          371|    711|      161|         15716|      711.0|        161.0|           15716.0|    2.0|    2.0|    2.0|\n",
      "+-------------+-------+---------+--------------+-----------+-------------+------------------+-------+-------+-------+\n",
      "only showing top 20 rows\n",
      "\n"
     ]
    }
   ],
   "source": [
    "top_customers.show()"
   ]
  },
  {
   "cell_type": "code",
   "execution_count": 50,
   "metadata": {
    "collapsed": true
   },
   "outputs": [],
   "source": [
    "top_customers.coalesce(1).write.option(\"header\", True).csv('hdfs://sandbox.hortonworks.com:8020/tmp/top_customers')"
   ]
  },
  {
   "cell_type": "code",
   "execution_count": null,
   "metadata": {
    "collapsed": true
   },
   "outputs": [],
   "source": []
  }
 ],
 "metadata": {
  "kernelspec": {
   "display_name": "Python 3",
   "language": "python",
   "name": "python3"
  },
  "language_info": {
   "codemirror_mode": {
    "name": "ipython",
    "version": 3
   },
   "file_extension": ".py",
   "mimetype": "text/x-python",
   "name": "python",
   "nbconvert_exporter": "python",
   "pygments_lexer": "ipython3",
   "version": "3.6.3"
  }
 },
 "nbformat": 4,
 "nbformat_minor": 2
}
