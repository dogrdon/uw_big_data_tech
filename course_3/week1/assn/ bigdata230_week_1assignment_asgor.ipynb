{
 "cells": [
  {
   "cell_type": "code",
   "execution_count": 1,
   "metadata": {},
   "outputs": [],
   "source": [
    "import numpy as np\n",
    "import pandas as pd\n",
    "from pandas.plotting import scatter_matrix\n",
    "# make sure pandas is updated to 0.22\n",
    "from scipy.stats import ttest_ind\n",
    "\n",
    "# for linear regression model\n",
    "from sklearn import linear_model\n",
    "from sklearn.metrics import mean_squared_error, r2_score\n",
    "\n",
    "\n",
    "location = 'https://archive.ics.uci.edu/ml/machine-learning-databases/autos/imports-85.data'\n",
    "col_names = ['symboling','normalizedlosses','make','fueltype','aspiration','numofdoors', \n",
    "    'bodystyle','drivewheels','enginelocation','wheelbase','length','width','height',\n",
    "    'curbweight','enginetype','numofcylinders','enginesize','fuelsystem',\n",
    "    'bore','stroke','compressionratio','horsepower','peakrpm','citympg','highwaympg','price']\n",
    "automobile = pd.read_csv(location, names=col_names)"
   ]
  },
  {
   "cell_type": "code",
   "execution_count": 2,
   "metadata": {},
   "outputs": [
    {
     "data": {
      "text/html": [
       "<div>\n",
       "<style>\n",
       "    .dataframe thead tr:only-child th {\n",
       "        text-align: right;\n",
       "    }\n",
       "\n",
       "    .dataframe thead th {\n",
       "        text-align: left;\n",
       "    }\n",
       "\n",
       "    .dataframe tbody tr th {\n",
       "        vertical-align: top;\n",
       "    }\n",
       "</style>\n",
       "<table border=\"1\" class=\"dataframe\">\n",
       "  <thead>\n",
       "    <tr style=\"text-align: right;\">\n",
       "      <th></th>\n",
       "      <th>symboling</th>\n",
       "      <th>normalizedlosses</th>\n",
       "      <th>make</th>\n",
       "      <th>fueltype</th>\n",
       "      <th>aspiration</th>\n",
       "      <th>numofdoors</th>\n",
       "      <th>bodystyle</th>\n",
       "      <th>drivewheels</th>\n",
       "      <th>enginelocation</th>\n",
       "      <th>wheelbase</th>\n",
       "      <th>...</th>\n",
       "      <th>enginesize</th>\n",
       "      <th>fuelsystem</th>\n",
       "      <th>bore</th>\n",
       "      <th>stroke</th>\n",
       "      <th>compressionratio</th>\n",
       "      <th>horsepower</th>\n",
       "      <th>peakrpm</th>\n",
       "      <th>citympg</th>\n",
       "      <th>highwaympg</th>\n",
       "      <th>price</th>\n",
       "    </tr>\n",
       "  </thead>\n",
       "  <tbody>\n",
       "    <tr>\n",
       "      <th>0</th>\n",
       "      <td>3</td>\n",
       "      <td>?</td>\n",
       "      <td>alfa-romero</td>\n",
       "      <td>gas</td>\n",
       "      <td>std</td>\n",
       "      <td>two</td>\n",
       "      <td>convertible</td>\n",
       "      <td>rwd</td>\n",
       "      <td>front</td>\n",
       "      <td>88.6</td>\n",
       "      <td>...</td>\n",
       "      <td>130</td>\n",
       "      <td>mpfi</td>\n",
       "      <td>3.47</td>\n",
       "      <td>2.68</td>\n",
       "      <td>9.0</td>\n",
       "      <td>111</td>\n",
       "      <td>5000</td>\n",
       "      <td>21</td>\n",
       "      <td>27</td>\n",
       "      <td>13495</td>\n",
       "    </tr>\n",
       "    <tr>\n",
       "      <th>1</th>\n",
       "      <td>3</td>\n",
       "      <td>?</td>\n",
       "      <td>alfa-romero</td>\n",
       "      <td>gas</td>\n",
       "      <td>std</td>\n",
       "      <td>two</td>\n",
       "      <td>convertible</td>\n",
       "      <td>rwd</td>\n",
       "      <td>front</td>\n",
       "      <td>88.6</td>\n",
       "      <td>...</td>\n",
       "      <td>130</td>\n",
       "      <td>mpfi</td>\n",
       "      <td>3.47</td>\n",
       "      <td>2.68</td>\n",
       "      <td>9.0</td>\n",
       "      <td>111</td>\n",
       "      <td>5000</td>\n",
       "      <td>21</td>\n",
       "      <td>27</td>\n",
       "      <td>16500</td>\n",
       "    </tr>\n",
       "    <tr>\n",
       "      <th>2</th>\n",
       "      <td>1</td>\n",
       "      <td>?</td>\n",
       "      <td>alfa-romero</td>\n",
       "      <td>gas</td>\n",
       "      <td>std</td>\n",
       "      <td>two</td>\n",
       "      <td>hatchback</td>\n",
       "      <td>rwd</td>\n",
       "      <td>front</td>\n",
       "      <td>94.5</td>\n",
       "      <td>...</td>\n",
       "      <td>152</td>\n",
       "      <td>mpfi</td>\n",
       "      <td>2.68</td>\n",
       "      <td>3.47</td>\n",
       "      <td>9.0</td>\n",
       "      <td>154</td>\n",
       "      <td>5000</td>\n",
       "      <td>19</td>\n",
       "      <td>26</td>\n",
       "      <td>16500</td>\n",
       "    </tr>\n",
       "    <tr>\n",
       "      <th>3</th>\n",
       "      <td>2</td>\n",
       "      <td>164</td>\n",
       "      <td>audi</td>\n",
       "      <td>gas</td>\n",
       "      <td>std</td>\n",
       "      <td>four</td>\n",
       "      <td>sedan</td>\n",
       "      <td>fwd</td>\n",
       "      <td>front</td>\n",
       "      <td>99.8</td>\n",
       "      <td>...</td>\n",
       "      <td>109</td>\n",
       "      <td>mpfi</td>\n",
       "      <td>3.19</td>\n",
       "      <td>3.40</td>\n",
       "      <td>10.0</td>\n",
       "      <td>102</td>\n",
       "      <td>5500</td>\n",
       "      <td>24</td>\n",
       "      <td>30</td>\n",
       "      <td>13950</td>\n",
       "    </tr>\n",
       "    <tr>\n",
       "      <th>4</th>\n",
       "      <td>2</td>\n",
       "      <td>164</td>\n",
       "      <td>audi</td>\n",
       "      <td>gas</td>\n",
       "      <td>std</td>\n",
       "      <td>four</td>\n",
       "      <td>sedan</td>\n",
       "      <td>4wd</td>\n",
       "      <td>front</td>\n",
       "      <td>99.4</td>\n",
       "      <td>...</td>\n",
       "      <td>136</td>\n",
       "      <td>mpfi</td>\n",
       "      <td>3.19</td>\n",
       "      <td>3.40</td>\n",
       "      <td>8.0</td>\n",
       "      <td>115</td>\n",
       "      <td>5500</td>\n",
       "      <td>18</td>\n",
       "      <td>22</td>\n",
       "      <td>17450</td>\n",
       "    </tr>\n",
       "  </tbody>\n",
       "</table>\n",
       "<p>5 rows × 26 columns</p>\n",
       "</div>"
      ],
      "text/plain": [
       "   symboling normalizedlosses         make fueltype aspiration numofdoors  \\\n",
       "0          3                ?  alfa-romero      gas        std        two   \n",
       "1          3                ?  alfa-romero      gas        std        two   \n",
       "2          1                ?  alfa-romero      gas        std        two   \n",
       "3          2              164         audi      gas        std       four   \n",
       "4          2              164         audi      gas        std       four   \n",
       "\n",
       "     bodystyle drivewheels enginelocation  wheelbase  ...    enginesize  \\\n",
       "0  convertible         rwd          front       88.6  ...           130   \n",
       "1  convertible         rwd          front       88.6  ...           130   \n",
       "2    hatchback         rwd          front       94.5  ...           152   \n",
       "3        sedan         fwd          front       99.8  ...           109   \n",
       "4        sedan         4wd          front       99.4  ...           136   \n",
       "\n",
       "   fuelsystem  bore  stroke compressionratio horsepower  peakrpm citympg  \\\n",
       "0        mpfi  3.47    2.68              9.0        111     5000      21   \n",
       "1        mpfi  3.47    2.68              9.0        111     5000      21   \n",
       "2        mpfi  2.68    3.47              9.0        154     5000      19   \n",
       "3        mpfi  3.19    3.40             10.0        102     5500      24   \n",
       "4        mpfi  3.19    3.40              8.0        115     5500      18   \n",
       "\n",
       "  highwaympg  price  \n",
       "0         27  13495  \n",
       "1         27  16500  \n",
       "2         26  16500  \n",
       "3         30  13950  \n",
       "4         22  17450  \n",
       "\n",
       "[5 rows x 26 columns]"
      ]
     },
     "execution_count": 2,
     "metadata": {},
     "output_type": "execute_result"
    }
   ],
   "source": [
    "automobile.head()"
   ]
  },
  {
   "cell_type": "code",
   "execution_count": 3,
   "metadata": {},
   "outputs": [
    {
     "data": {
      "text/plain": [
       "(205, 26)"
      ]
     },
     "execution_count": 3,
     "metadata": {},
     "output_type": "execute_result"
    }
   ],
   "source": [
    "automobile.shape"
   ]
  },
  {
   "cell_type": "code",
   "execution_count": 4,
   "metadata": {},
   "outputs": [
    {
     "data": {
      "text/plain": [
       "symboling             int64\n",
       "normalizedlosses     object\n",
       "make                 object\n",
       "fueltype             object\n",
       "aspiration           object\n",
       "numofdoors           object\n",
       "bodystyle            object\n",
       "drivewheels          object\n",
       "enginelocation       object\n",
       "wheelbase           float64\n",
       "length              float64\n",
       "width               float64\n",
       "height              float64\n",
       "curbweight            int64\n",
       "enginetype           object\n",
       "numofcylinders       object\n",
       "enginesize            int64\n",
       "fuelsystem           object\n",
       "bore                 object\n",
       "stroke               object\n",
       "compressionratio    float64\n",
       "horsepower           object\n",
       "peakrpm              object\n",
       "citympg               int64\n",
       "highwaympg            int64\n",
       "price                object\n",
       "dtype: object"
      ]
     },
     "execution_count": 4,
     "metadata": {},
     "output_type": "execute_result"
    }
   ],
   "source": [
    "automobile.dtypes"
   ]
  },
  {
   "cell_type": "code",
   "execution_count": 5,
   "metadata": {},
   "outputs": [],
   "source": [
    "automobile_dropped = automobile.replace('?', np.nan).dropna()"
   ]
  },
  {
   "cell_type": "code",
   "execution_count": 6,
   "metadata": {},
   "outputs": [
    {
     "data": {
      "text/html": [
       "<div>\n",
       "<style>\n",
       "    .dataframe thead tr:only-child th {\n",
       "        text-align: right;\n",
       "    }\n",
       "\n",
       "    .dataframe thead th {\n",
       "        text-align: left;\n",
       "    }\n",
       "\n",
       "    .dataframe tbody tr th {\n",
       "        vertical-align: top;\n",
       "    }\n",
       "</style>\n",
       "<table border=\"1\" class=\"dataframe\">\n",
       "  <thead>\n",
       "    <tr style=\"text-align: right;\">\n",
       "      <th></th>\n",
       "      <th>symboling</th>\n",
       "      <th>normalizedlosses</th>\n",
       "      <th>make</th>\n",
       "      <th>fueltype</th>\n",
       "      <th>aspiration</th>\n",
       "      <th>numofdoors</th>\n",
       "      <th>bodystyle</th>\n",
       "      <th>drivewheels</th>\n",
       "      <th>enginelocation</th>\n",
       "      <th>wheelbase</th>\n",
       "      <th>...</th>\n",
       "      <th>enginesize</th>\n",
       "      <th>fuelsystem</th>\n",
       "      <th>bore</th>\n",
       "      <th>stroke</th>\n",
       "      <th>compressionratio</th>\n",
       "      <th>horsepower</th>\n",
       "      <th>peakrpm</th>\n",
       "      <th>citympg</th>\n",
       "      <th>highwaympg</th>\n",
       "      <th>price</th>\n",
       "    </tr>\n",
       "  </thead>\n",
       "  <tbody>\n",
       "    <tr>\n",
       "      <th>3</th>\n",
       "      <td>2</td>\n",
       "      <td>164</td>\n",
       "      <td>audi</td>\n",
       "      <td>gas</td>\n",
       "      <td>std</td>\n",
       "      <td>four</td>\n",
       "      <td>sedan</td>\n",
       "      <td>fwd</td>\n",
       "      <td>front</td>\n",
       "      <td>99.8</td>\n",
       "      <td>...</td>\n",
       "      <td>109</td>\n",
       "      <td>mpfi</td>\n",
       "      <td>3.19</td>\n",
       "      <td>3.40</td>\n",
       "      <td>10.0</td>\n",
       "      <td>102</td>\n",
       "      <td>5500</td>\n",
       "      <td>24</td>\n",
       "      <td>30</td>\n",
       "      <td>13950</td>\n",
       "    </tr>\n",
       "    <tr>\n",
       "      <th>4</th>\n",
       "      <td>2</td>\n",
       "      <td>164</td>\n",
       "      <td>audi</td>\n",
       "      <td>gas</td>\n",
       "      <td>std</td>\n",
       "      <td>four</td>\n",
       "      <td>sedan</td>\n",
       "      <td>4wd</td>\n",
       "      <td>front</td>\n",
       "      <td>99.4</td>\n",
       "      <td>...</td>\n",
       "      <td>136</td>\n",
       "      <td>mpfi</td>\n",
       "      <td>3.19</td>\n",
       "      <td>3.40</td>\n",
       "      <td>8.0</td>\n",
       "      <td>115</td>\n",
       "      <td>5500</td>\n",
       "      <td>18</td>\n",
       "      <td>22</td>\n",
       "      <td>17450</td>\n",
       "    </tr>\n",
       "    <tr>\n",
       "      <th>6</th>\n",
       "      <td>1</td>\n",
       "      <td>158</td>\n",
       "      <td>audi</td>\n",
       "      <td>gas</td>\n",
       "      <td>std</td>\n",
       "      <td>four</td>\n",
       "      <td>sedan</td>\n",
       "      <td>fwd</td>\n",
       "      <td>front</td>\n",
       "      <td>105.8</td>\n",
       "      <td>...</td>\n",
       "      <td>136</td>\n",
       "      <td>mpfi</td>\n",
       "      <td>3.19</td>\n",
       "      <td>3.40</td>\n",
       "      <td>8.5</td>\n",
       "      <td>110</td>\n",
       "      <td>5500</td>\n",
       "      <td>19</td>\n",
       "      <td>25</td>\n",
       "      <td>17710</td>\n",
       "    </tr>\n",
       "    <tr>\n",
       "      <th>8</th>\n",
       "      <td>1</td>\n",
       "      <td>158</td>\n",
       "      <td>audi</td>\n",
       "      <td>gas</td>\n",
       "      <td>turbo</td>\n",
       "      <td>four</td>\n",
       "      <td>sedan</td>\n",
       "      <td>fwd</td>\n",
       "      <td>front</td>\n",
       "      <td>105.8</td>\n",
       "      <td>...</td>\n",
       "      <td>131</td>\n",
       "      <td>mpfi</td>\n",
       "      <td>3.13</td>\n",
       "      <td>3.40</td>\n",
       "      <td>8.3</td>\n",
       "      <td>140</td>\n",
       "      <td>5500</td>\n",
       "      <td>17</td>\n",
       "      <td>20</td>\n",
       "      <td>23875</td>\n",
       "    </tr>\n",
       "    <tr>\n",
       "      <th>10</th>\n",
       "      <td>2</td>\n",
       "      <td>192</td>\n",
       "      <td>bmw</td>\n",
       "      <td>gas</td>\n",
       "      <td>std</td>\n",
       "      <td>two</td>\n",
       "      <td>sedan</td>\n",
       "      <td>rwd</td>\n",
       "      <td>front</td>\n",
       "      <td>101.2</td>\n",
       "      <td>...</td>\n",
       "      <td>108</td>\n",
       "      <td>mpfi</td>\n",
       "      <td>3.50</td>\n",
       "      <td>2.80</td>\n",
       "      <td>8.8</td>\n",
       "      <td>101</td>\n",
       "      <td>5800</td>\n",
       "      <td>23</td>\n",
       "      <td>29</td>\n",
       "      <td>16430</td>\n",
       "    </tr>\n",
       "  </tbody>\n",
       "</table>\n",
       "<p>5 rows × 26 columns</p>\n",
       "</div>"
      ],
      "text/plain": [
       "    symboling normalizedlosses  make fueltype aspiration numofdoors bodystyle  \\\n",
       "3           2              164  audi      gas        std       four     sedan   \n",
       "4           2              164  audi      gas        std       four     sedan   \n",
       "6           1              158  audi      gas        std       four     sedan   \n",
       "8           1              158  audi      gas      turbo       four     sedan   \n",
       "10          2              192   bmw      gas        std        two     sedan   \n",
       "\n",
       "   drivewheels enginelocation  wheelbase  ...    enginesize  fuelsystem  bore  \\\n",
       "3          fwd          front       99.8  ...           109        mpfi  3.19   \n",
       "4          4wd          front       99.4  ...           136        mpfi  3.19   \n",
       "6          fwd          front      105.8  ...           136        mpfi  3.19   \n",
       "8          fwd          front      105.8  ...           131        mpfi  3.13   \n",
       "10         rwd          front      101.2  ...           108        mpfi  3.50   \n",
       "\n",
       "    stroke compressionratio horsepower  peakrpm citympg highwaympg  price  \n",
       "3     3.40             10.0        102     5500      24         30  13950  \n",
       "4     3.40              8.0        115     5500      18         22  17450  \n",
       "6     3.40              8.5        110     5500      19         25  17710  \n",
       "8     3.40              8.3        140     5500      17         20  23875  \n",
       "10    2.80              8.8        101     5800      23         29  16430  \n",
       "\n",
       "[5 rows x 26 columns]"
      ]
     },
     "execution_count": 6,
     "metadata": {},
     "output_type": "execute_result"
    }
   ],
   "source": [
    "automobile_dropped.head()"
   ]
  },
  {
   "cell_type": "code",
   "execution_count": 7,
   "metadata": {},
   "outputs": [
    {
     "data": {
      "text/plain": [
       "(159, 26)"
      ]
     },
     "execution_count": 7,
     "metadata": {},
     "output_type": "execute_result"
    }
   ],
   "source": [
    "automobile_dropped.shape"
   ]
  },
  {
   "cell_type": "code",
   "execution_count": 8,
   "metadata": {},
   "outputs": [
    {
     "data": {
      "text/plain": [
       "symboling             int64\n",
       "normalizedlosses     object\n",
       "make                 object\n",
       "fueltype             object\n",
       "aspiration           object\n",
       "numofdoors           object\n",
       "bodystyle            object\n",
       "drivewheels          object\n",
       "enginelocation       object\n",
       "wheelbase           float64\n",
       "length              float64\n",
       "width               float64\n",
       "height              float64\n",
       "curbweight            int64\n",
       "enginetype           object\n",
       "numofcylinders       object\n",
       "enginesize            int64\n",
       "fuelsystem           object\n",
       "bore                 object\n",
       "stroke               object\n",
       "compressionratio    float64\n",
       "horsepower           object\n",
       "peakrpm              object\n",
       "citympg               int64\n",
       "highwaympg            int64\n",
       "price                object\n",
       "dtype: object"
      ]
     },
     "execution_count": 8,
     "metadata": {},
     "output_type": "execute_result"
    }
   ],
   "source": [
    "automobile_dropped.dtypes"
   ]
  },
  {
   "cell_type": "code",
   "execution_count": 9,
   "metadata": {},
   "outputs": [
    {
     "data": {
      "text/plain": [
       "symboling             int64\n",
       "normalizedlosses    float64\n",
       "make                 object\n",
       "fueltype             object\n",
       "aspiration           object\n",
       "numofdoors           object\n",
       "bodystyle            object\n",
       "drivewheels          object\n",
       "enginelocation       object\n",
       "wheelbase           float64\n",
       "length              float64\n",
       "width               float64\n",
       "height              float64\n",
       "curbweight            int64\n",
       "enginetype           object\n",
       "numofcylinders       object\n",
       "enginesize            int64\n",
       "fuelsystem           object\n",
       "bore                 object\n",
       "stroke               object\n",
       "compressionratio    float64\n",
       "horsepower           object\n",
       "peakrpm              object\n",
       "citympg               int64\n",
       "highwaympg            int64\n",
       "price                object\n",
       "dtype: object"
      ]
     },
     "execution_count": 9,
     "metadata": {},
     "output_type": "execute_result"
    }
   ],
   "source": [
    "#Changing the type from object to float. \n",
    "#Keep doing this for as many columns as necessary \n",
    "automobile_dropped[['normalizedlosses']] = automobile_dropped[['normalizedlosses']].astype(float)\n",
    "automobile_dropped.dtypes"
   ]
  },
  {
   "cell_type": "code",
   "execution_count": 10,
   "metadata": {},
   "outputs": [],
   "source": [
    "#1. Change column types here\n",
    "\n",
    "#change price, peakrpm, horsepower from object to int\n",
    "automobile_dropped[['price','peakrpm','horsepower']] = automobile_dropped[['price','peakrpm','horsepower']].astype(int)\n",
    "#change bore, stroke from object to float\n",
    "automobile_dropped[['bore','stroke']] = automobile_dropped[['bore','stroke']].astype(float)"
   ]
  },
  {
   "cell_type": "code",
   "execution_count": 11,
   "metadata": {},
   "outputs": [
    {
     "data": {
      "text/plain": [
       "array(['four', 'two'], dtype=object)"
      ]
     },
     "execution_count": 11,
     "metadata": {},
     "output_type": "execute_result"
    }
   ],
   "source": [
    "# change `numofdoors` from word to number\n",
    "automobile_dropped.numofdoors.unique()"
   ]
  },
  {
   "cell_type": "code",
   "execution_count": 12,
   "metadata": {},
   "outputs": [],
   "source": [
    "automobile_dropped.loc[automobile_dropped['numofdoors'] == 'four', 'numofdoors_int'] = 4\n",
    "automobile_dropped.loc[automobile_dropped['numofdoors'] == 'two', 'numofdoors_int'] = 2\n",
    "automobile_dropped[['numofdoors_int']] = automobile_dropped[['numofdoors_int']].astype(int)"
   ]
  },
  {
   "cell_type": "code",
   "execution_count": 13,
   "metadata": {},
   "outputs": [
    {
     "data": {
      "text/plain": [
       "array([4, 2])"
      ]
     },
     "execution_count": 13,
     "metadata": {},
     "output_type": "execute_result"
    }
   ],
   "source": [
    "automobile_dropped.numofdoors_int.unique()"
   ]
  },
  {
   "cell_type": "code",
   "execution_count": 14,
   "metadata": {},
   "outputs": [
    {
     "data": {
      "text/plain": [
       "symboling             int64\n",
       "normalizedlosses    float64\n",
       "make                 object\n",
       "fueltype             object\n",
       "aspiration           object\n",
       "numofdoors           object\n",
       "bodystyle            object\n",
       "drivewheels          object\n",
       "enginelocation       object\n",
       "wheelbase           float64\n",
       "length              float64\n",
       "width               float64\n",
       "height              float64\n",
       "curbweight            int64\n",
       "enginetype           object\n",
       "numofcylinders       object\n",
       "enginesize            int64\n",
       "fuelsystem           object\n",
       "bore                float64\n",
       "stroke              float64\n",
       "compressionratio    float64\n",
       "horsepower            int64\n",
       "peakrpm               int64\n",
       "citympg               int64\n",
       "highwaympg            int64\n",
       "price                 int64\n",
       "numofdoors_int        int64\n",
       "dtype: object"
      ]
     },
     "execution_count": 14,
     "metadata": {},
     "output_type": "execute_result"
    }
   ],
   "source": [
    "#check out the dtypes now\n",
    "automobile_dropped.dtypes"
   ]
  },
  {
   "cell_type": "code",
   "execution_count": 15,
   "metadata": {},
   "outputs": [],
   "source": [
    "#2. Generate matrix plot\n",
    "\n",
    "axs = scatter_matrix(automobile_dropped, alpha=0.2, diagonal='kde', figsize=(24,24))"
   ]
  },
  {
   "cell_type": "markdown",
   "metadata": {},
   "source": [
    "**Comments**: `citympg` and `hightwaympg` seem to have the closest correlation, for obvious reasons. `horsepower` and `*mpg` appear to have a linear relationship. Factors such as `enginesize` and `curbweight` appear also to have a relationship to `*mpg` and, while not as strong, `price`."
   ]
  },
  {
   "cell_type": "code",
   "execution_count": 16,
   "metadata": {},
   "outputs": [
    {
     "data": {
      "text/plain": [
       "Ttest_indResult(statistic=array([ 4.45622681,  5.26320363]), pvalue=array([  5.43019922e-05,   3.40196816e-06]))"
      ]
     },
     "execution_count": 16,
     "metadata": {},
     "output_type": "execute_result"
    }
   ],
   "source": [
    "#3. Perform a t-test to determine whether there is a difference in mpg for different types of aspiration\n",
    "\n",
    "# ref. https://dss.princeton.edu/online_help/analysis/interpreting_regression.htm\n",
    "# ref. https://towardsdatascience.com/inferential-statistics-series-t-test-using-numpy-2718f8f9bf2f\n",
    "\n",
    "ttest_ind(automobile_dropped[automobile_dropped['aspiration'] == 'std'][['citympg', 'highwaympg']], \n",
    "          automobile_dropped[automobile_dropped['aspiration'] == 'turbo'][['citympg', 'highwaympg']], \n",
    "          equal_var=False)"
   ]
  },
  {
   "cell_type": "code",
   "execution_count": 17,
   "metadata": {},
   "outputs": [
    {
     "data": {
      "text/plain": [
       "Ttest_indResult(statistic=array([ 3.79166612,  4.35539076]), pvalue=array([  2.13011970e-04,   2.38802913e-05]))"
      ]
     },
     "execution_count": 17,
     "metadata": {},
     "output_type": "execute_result"
    }
   ],
   "source": [
    "ttest_ind(automobile_dropped[automobile_dropped['aspiration'] == 'std'][['citympg', 'highwaympg']], \n",
    "          automobile_dropped[automobile_dropped['aspiration'] == 'turbo'][['citympg', 'highwaympg']], \n",
    "          equal_var=True)"
   ]
  },
  {
   "cell_type": "markdown",
   "metadata": {},
   "source": [
    "**Comments:** With p-values of much less than 0.05, we can reject the null hypothesis that there is no meaningful relationship between these variables. There is a positive difference between `aspiration` and `*mpg`, but is the t-score indicating a lower difference? "
   ]
  },
  {
   "cell_type": "code",
   "execution_count": 18,
   "metadata": {},
   "outputs": [
    {
     "data": {
      "text/plain": [
       "LinearRegression(copy_X=True, fit_intercept=True, n_jobs=1, normalize=False)"
      ]
     },
     "execution_count": 18,
     "metadata": {},
     "output_type": "execute_result"
    }
   ],
   "source": [
    "#4. Create a linear model with mpg as the response variable\n",
    "\n",
    "# let's try a model with the variables we noticed had some information about *mpg from the matrix plot.\n",
    "reg = linear_model.LinearRegression()\n",
    "reg.fit(automobile_dropped[['horsepower', 'enginesize', 'curbweight', 'price']], automobile_dropped['citympg'])\n"
   ]
  },
  {
   "cell_type": "code",
   "execution_count": 19,
   "metadata": {},
   "outputs": [
    {
     "data": {
      "text/plain": [
       "array([ -1.40818043e-01,   5.00446675e-02,  -6.21179273e-03,\n",
       "         7.80303750e-05])"
      ]
     },
     "execution_count": 19,
     "metadata": {},
     "output_type": "execute_result"
    }
   ],
   "source": [
    "reg.coef_"
   ]
  },
  {
   "cell_type": "code",
   "execution_count": 20,
   "metadata": {},
   "outputs": [
    {
     "data": {
      "text/plain": [
       "48.445838411706646"
      ]
     },
     "execution_count": 20,
     "metadata": {},
     "output_type": "execute_result"
    }
   ],
   "source": [
    "reg.intercept_"
   ]
  },
  {
   "cell_type": "code",
   "execution_count": 22,
   "metadata": {},
   "outputs": [],
   "source": [
    "citympg_pred = reg.predict(automobile_dropped[['horsepower', 'enginesize', 'curbweight', 'price']])"
   ]
  },
  {
   "cell_type": "markdown",
   "metadata": {},
   "source": [
    "**Comments:** horsepower and enginesize have some impact on the citympg. Curbweight much less so and price is close enough to zero that we can say it is not very impactful and we'll remove it."
   ]
  },
  {
   "cell_type": "code",
   "execution_count": 23,
   "metadata": {},
   "outputs": [
    {
     "data": {
      "text/plain": [
       "9.5558132673992606"
      ]
     },
     "execution_count": 23,
     "metadata": {},
     "output_type": "execute_result"
    }
   ],
   "source": [
    "mean_squared_error(automobile_dropped[['citympg']], citympg_pred)"
   ]
  },
  {
   "cell_type": "code",
   "execution_count": 24,
   "metadata": {},
   "outputs": [
    {
     "data": {
      "text/plain": [
       "0.74132466671115249"
      ]
     },
     "execution_count": 24,
     "metadata": {},
     "output_type": "execute_result"
    }
   ],
   "source": [
    "r2_score(automobile_dropped[['citympg']], citympg_pred)"
   ]
  },
  {
   "cell_type": "markdown",
   "metadata": {},
   "source": [
    "**Comments:** Overall, not a very impressive model. What if we added in some of the variables such as fuelsystem, fueltype and enginetype, which we will have to create dummy variables for."
   ]
  },
  {
   "cell_type": "code",
   "execution_count": 25,
   "metadata": {},
   "outputs": [
    {
     "data": {
      "text/plain": [
       "array(['mpfi', '2bbl', 'mfi', '1bbl', 'idi', 'spdi'], dtype=object)"
      ]
     },
     "execution_count": 25,
     "metadata": {},
     "output_type": "execute_result"
    }
   ],
   "source": [
    "# For fuelsystem, fueltype, and enginetype, let's see what we are working with.\n",
    "automobile_dropped.fuelsystem.unique()"
   ]
  },
  {
   "cell_type": "code",
   "execution_count": 26,
   "metadata": {},
   "outputs": [
    {
     "data": {
      "text/plain": [
       "mpfi    64\n",
       "2bbl    63\n",
       "idi     15\n",
       "1bbl    11\n",
       "spdi     5\n",
       "mfi      1\n",
       "Name: fuelsystem, dtype: int64"
      ]
     },
     "execution_count": 26,
     "metadata": {},
     "output_type": "execute_result"
    }
   ],
   "source": [
    "automobile_dropped.fuelsystem.value_counts()\n",
    "# drop mfi, there's only one record"
   ]
  },
  {
   "cell_type": "code",
   "execution_count": 27,
   "metadata": {},
   "outputs": [
    {
     "data": {
      "text/plain": [
       "array(['gas', 'diesel'], dtype=object)"
      ]
     },
     "execution_count": 27,
     "metadata": {},
     "output_type": "execute_result"
    }
   ],
   "source": [
    "automobile_dropped.fueltype.unique()"
   ]
  },
  {
   "cell_type": "code",
   "execution_count": 28,
   "metadata": {},
   "outputs": [
    {
     "data": {
      "text/plain": [
       "gas       144\n",
       "diesel     15\n",
       "Name: fueltype, dtype: int64"
      ]
     },
     "execution_count": 28,
     "metadata": {},
     "output_type": "execute_result"
    }
   ],
   "source": [
    "automobile_dropped.fueltype.value_counts()\n",
    "# drop diesel"
   ]
  },
  {
   "cell_type": "code",
   "execution_count": 29,
   "metadata": {},
   "outputs": [
    {
     "data": {
      "text/plain": [
       "array(['ohc', 'l', 'dohc', 'ohcv', 'ohcf'], dtype=object)"
      ]
     },
     "execution_count": 29,
     "metadata": {},
     "output_type": "execute_result"
    }
   ],
   "source": [
    "automobile_dropped.enginetype.unique()"
   ]
  },
  {
   "cell_type": "code",
   "execution_count": 30,
   "metadata": {},
   "outputs": [
    {
     "data": {
      "text/plain": [
       "ohc     123\n",
       "ohcf     12\n",
       "dohc      8\n",
       "ohcv      8\n",
       "l         8\n",
       "Name: enginetype, dtype: int64"
      ]
     },
     "execution_count": 30,
     "metadata": {},
     "output_type": "execute_result"
    }
   ],
   "source": [
    "automobile_dropped.enginetype.value_counts()\n",
    "# drop l"
   ]
  },
  {
   "cell_type": "code",
   "execution_count": 31,
   "metadata": {},
   "outputs": [],
   "source": [
    "# create dummies\n",
    "automobile_dummies = pd.get_dummies(automobile_dropped, columns=['fuelsystem', 'fueltype', 'enginetype'])"
   ]
  },
  {
   "cell_type": "code",
   "execution_count": 32,
   "metadata": {},
   "outputs": [
    {
     "data": {
      "text/html": [
       "<div>\n",
       "<style>\n",
       "    .dataframe thead tr:only-child th {\n",
       "        text-align: right;\n",
       "    }\n",
       "\n",
       "    .dataframe thead th {\n",
       "        text-align: left;\n",
       "    }\n",
       "\n",
       "    .dataframe tbody tr th {\n",
       "        vertical-align: top;\n",
       "    }\n",
       "</style>\n",
       "<table border=\"1\" class=\"dataframe\">\n",
       "  <thead>\n",
       "    <tr style=\"text-align: right;\">\n",
       "      <th></th>\n",
       "      <th>symboling</th>\n",
       "      <th>normalizedlosses</th>\n",
       "      <th>make</th>\n",
       "      <th>aspiration</th>\n",
       "      <th>numofdoors</th>\n",
       "      <th>bodystyle</th>\n",
       "      <th>drivewheels</th>\n",
       "      <th>enginelocation</th>\n",
       "      <th>wheelbase</th>\n",
       "      <th>length</th>\n",
       "      <th>...</th>\n",
       "      <th>fuelsystem_mfi</th>\n",
       "      <th>fuelsystem_mpfi</th>\n",
       "      <th>fuelsystem_spdi</th>\n",
       "      <th>fueltype_diesel</th>\n",
       "      <th>fueltype_gas</th>\n",
       "      <th>enginetype_dohc</th>\n",
       "      <th>enginetype_l</th>\n",
       "      <th>enginetype_ohc</th>\n",
       "      <th>enginetype_ohcf</th>\n",
       "      <th>enginetype_ohcv</th>\n",
       "    </tr>\n",
       "  </thead>\n",
       "  <tbody>\n",
       "    <tr>\n",
       "      <th>3</th>\n",
       "      <td>2</td>\n",
       "      <td>164.0</td>\n",
       "      <td>audi</td>\n",
       "      <td>std</td>\n",
       "      <td>four</td>\n",
       "      <td>sedan</td>\n",
       "      <td>fwd</td>\n",
       "      <td>front</td>\n",
       "      <td>99.8</td>\n",
       "      <td>176.6</td>\n",
       "      <td>...</td>\n",
       "      <td>0</td>\n",
       "      <td>1</td>\n",
       "      <td>0</td>\n",
       "      <td>0</td>\n",
       "      <td>1</td>\n",
       "      <td>0</td>\n",
       "      <td>0</td>\n",
       "      <td>1</td>\n",
       "      <td>0</td>\n",
       "      <td>0</td>\n",
       "    </tr>\n",
       "    <tr>\n",
       "      <th>4</th>\n",
       "      <td>2</td>\n",
       "      <td>164.0</td>\n",
       "      <td>audi</td>\n",
       "      <td>std</td>\n",
       "      <td>four</td>\n",
       "      <td>sedan</td>\n",
       "      <td>4wd</td>\n",
       "      <td>front</td>\n",
       "      <td>99.4</td>\n",
       "      <td>176.6</td>\n",
       "      <td>...</td>\n",
       "      <td>0</td>\n",
       "      <td>1</td>\n",
       "      <td>0</td>\n",
       "      <td>0</td>\n",
       "      <td>1</td>\n",
       "      <td>0</td>\n",
       "      <td>0</td>\n",
       "      <td>1</td>\n",
       "      <td>0</td>\n",
       "      <td>0</td>\n",
       "    </tr>\n",
       "    <tr>\n",
       "      <th>6</th>\n",
       "      <td>1</td>\n",
       "      <td>158.0</td>\n",
       "      <td>audi</td>\n",
       "      <td>std</td>\n",
       "      <td>four</td>\n",
       "      <td>sedan</td>\n",
       "      <td>fwd</td>\n",
       "      <td>front</td>\n",
       "      <td>105.8</td>\n",
       "      <td>192.7</td>\n",
       "      <td>...</td>\n",
       "      <td>0</td>\n",
       "      <td>1</td>\n",
       "      <td>0</td>\n",
       "      <td>0</td>\n",
       "      <td>1</td>\n",
       "      <td>0</td>\n",
       "      <td>0</td>\n",
       "      <td>1</td>\n",
       "      <td>0</td>\n",
       "      <td>0</td>\n",
       "    </tr>\n",
       "    <tr>\n",
       "      <th>8</th>\n",
       "      <td>1</td>\n",
       "      <td>158.0</td>\n",
       "      <td>audi</td>\n",
       "      <td>turbo</td>\n",
       "      <td>four</td>\n",
       "      <td>sedan</td>\n",
       "      <td>fwd</td>\n",
       "      <td>front</td>\n",
       "      <td>105.8</td>\n",
       "      <td>192.7</td>\n",
       "      <td>...</td>\n",
       "      <td>0</td>\n",
       "      <td>1</td>\n",
       "      <td>0</td>\n",
       "      <td>0</td>\n",
       "      <td>1</td>\n",
       "      <td>0</td>\n",
       "      <td>0</td>\n",
       "      <td>1</td>\n",
       "      <td>0</td>\n",
       "      <td>0</td>\n",
       "    </tr>\n",
       "    <tr>\n",
       "      <th>10</th>\n",
       "      <td>2</td>\n",
       "      <td>192.0</td>\n",
       "      <td>bmw</td>\n",
       "      <td>std</td>\n",
       "      <td>two</td>\n",
       "      <td>sedan</td>\n",
       "      <td>rwd</td>\n",
       "      <td>front</td>\n",
       "      <td>101.2</td>\n",
       "      <td>176.8</td>\n",
       "      <td>...</td>\n",
       "      <td>0</td>\n",
       "      <td>1</td>\n",
       "      <td>0</td>\n",
       "      <td>0</td>\n",
       "      <td>1</td>\n",
       "      <td>0</td>\n",
       "      <td>0</td>\n",
       "      <td>1</td>\n",
       "      <td>0</td>\n",
       "      <td>0</td>\n",
       "    </tr>\n",
       "  </tbody>\n",
       "</table>\n",
       "<p>5 rows × 37 columns</p>\n",
       "</div>"
      ],
      "text/plain": [
       "    symboling  normalizedlosses  make aspiration numofdoors bodystyle  \\\n",
       "3           2             164.0  audi        std       four     sedan   \n",
       "4           2             164.0  audi        std       four     sedan   \n",
       "6           1             158.0  audi        std       four     sedan   \n",
       "8           1             158.0  audi      turbo       four     sedan   \n",
       "10          2             192.0   bmw        std        two     sedan   \n",
       "\n",
       "   drivewheels enginelocation  wheelbase  length       ...         \\\n",
       "3          fwd          front       99.8   176.6       ...          \n",
       "4          4wd          front       99.4   176.6       ...          \n",
       "6          fwd          front      105.8   192.7       ...          \n",
       "8          fwd          front      105.8   192.7       ...          \n",
       "10         rwd          front      101.2   176.8       ...          \n",
       "\n",
       "    fuelsystem_mfi  fuelsystem_mpfi  fuelsystem_spdi fueltype_diesel  \\\n",
       "3                0                1                0               0   \n",
       "4                0                1                0               0   \n",
       "6                0                1                0               0   \n",
       "8                0                1                0               0   \n",
       "10               0                1                0               0   \n",
       "\n",
       "    fueltype_gas  enginetype_dohc  enginetype_l  enginetype_ohc  \\\n",
       "3              1                0             0               1   \n",
       "4              1                0             0               1   \n",
       "6              1                0             0               1   \n",
       "8              1                0             0               1   \n",
       "10             1                0             0               1   \n",
       "\n",
       "    enginetype_ohcf  enginetype_ohcv  \n",
       "3                 0                0  \n",
       "4                 0                0  \n",
       "6                 0                0  \n",
       "8                 0                0  \n",
       "10                0                0  \n",
       "\n",
       "[5 rows x 37 columns]"
      ]
     },
     "execution_count": 32,
     "metadata": {},
     "output_type": "execute_result"
    }
   ],
   "source": [
    "automobile_dummies.head()"
   ]
  },
  {
   "cell_type": "code",
   "execution_count": 33,
   "metadata": {},
   "outputs": [],
   "source": [
    "# drop one value from each of the dummied variables so we don't run into multicolinearity\n",
    "automobile_dropped = automobile_dummies.drop(['fueltype_diesel', 'enginetype_l', 'fuelsystem_mfi'], axis=1)"
   ]
  },
  {
   "cell_type": "code",
   "execution_count": 34,
   "metadata": {},
   "outputs": [],
   "source": [
    "# reinstantiate the linear regression class\n",
    "reg = linear_model.LinearRegression()"
   ]
  },
  {
   "cell_type": "code",
   "execution_count": 35,
   "metadata": {},
   "outputs": [
    {
     "data": {
      "text/plain": [
       "LinearRegression(copy_X=True, fit_intercept=True, n_jobs=1, normalize=False)"
      ]
     },
     "execution_count": 35,
     "metadata": {},
     "output_type": "execute_result"
    }
   ],
   "source": [
    "reg.fit(automobile_dropped[['horsepower', 'enginesize', 'curbweight', 'fueltype_gas', 'fuelsystem_2bbl' , 'fuelsystem_mpfi', 'enginetype_ohc']], automobile_dropped['citympg'])"
   ]
  },
  {
   "cell_type": "code",
   "execution_count": 36,
   "metadata": {},
   "outputs": [
    {
     "data": {
      "text/plain": [
       "array([-0.08017022,  0.04127001, -0.0093517 , -6.95172165, -0.10110397,\n",
       "       -0.16166932, -0.76494316])"
      ]
     },
     "execution_count": 36,
     "metadata": {},
     "output_type": "execute_result"
    }
   ],
   "source": [
    "reg.coef_"
   ]
  },
  {
   "cell_type": "markdown",
   "metadata": {},
   "source": [
    "**Comments:** By the looks of these coefficients, Type of gas has a substantial effect on the citympg"
   ]
  },
  {
   "cell_type": "code",
   "execution_count": 37,
   "metadata": {},
   "outputs": [
    {
     "data": {
      "text/plain": [
       "59.293380714199202"
      ]
     },
     "execution_count": 37,
     "metadata": {},
     "output_type": "execute_result"
    }
   ],
   "source": [
    "reg.intercept_"
   ]
  },
  {
   "cell_type": "code",
   "execution_count": 38,
   "metadata": {},
   "outputs": [],
   "source": [
    "citympg_pred = reg.predict(automobile_dropped[['horsepower', 'enginesize', 'curbweight', 'fueltype_gas', 'fuelsystem_2bbl' , 'fuelsystem_mpfi', 'enginetype_ohc']])"
   ]
  },
  {
   "cell_type": "code",
   "execution_count": 39,
   "metadata": {},
   "outputs": [
    {
     "data": {
      "text/plain": [
       "6.8546966983835231"
      ]
     },
     "execution_count": 39,
     "metadata": {},
     "output_type": "execute_result"
    }
   ],
   "source": [
    "mean_squared_error(automobile_dropped[['citympg']], citympg_pred)"
   ]
  },
  {
   "cell_type": "code",
   "execution_count": 40,
   "metadata": {},
   "outputs": [
    {
     "data": {
      "text/plain": [
       "0.81444374189504187"
      ]
     },
     "execution_count": 40,
     "metadata": {},
     "output_type": "execute_result"
    }
   ],
   "source": [
    "r2_score(automobile_dropped[['citympg']], citympg_pred)"
   ]
  },
  {
   "cell_type": "markdown",
   "metadata": {},
   "source": [
    "**Comments**: Looks like we've gotten a little improvement on our model by including whether the fueltype is gas or not and whether the enginetype is ohc or not. We noticed that also factoring fuelsystem mpfi & ohc did not make much of a difference."
   ]
  },
  {
   "cell_type": "code",
   "execution_count": null,
   "metadata": {},
   "outputs": [],
   "source": []
  }
 ],
 "metadata": {
  "kernelspec": {
   "display_name": "Python 3.6",
   "language": "python",
   "name": "python36"
  },
  "language_info": {
   "codemirror_mode": {
    "name": "ipython",
    "version": 3
   },
   "file_extension": ".py",
   "mimetype": "text/x-python",
   "name": "python",
   "nbconvert_exporter": "python",
   "pygments_lexer": "ipython3",
   "version": "3.6.3"
  }
 },
 "nbformat": 4,
 "nbformat_minor": 2
}
